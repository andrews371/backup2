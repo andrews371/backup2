{
 "cells": [
  {
   "cell_type": "code",
   "execution_count": 4,
   "metadata": {},
   "outputs": [],
   "source": [
    "# chat id de andre: 681368147\n",
    "# chat id de fabio: 686789160\n",
    "\n",
    "import telepot\n",
    "\n",
    "bot = telepot.Bot('1034437479:AAEpdm6sH0UMifWevzP-707vRzRHqgOTcT8')\n",
    "#bot.getUpdates()"
   ]
  },
  {
   "cell_type": "code",
   "execution_count": null,
   "metadata": {},
   "outputs": [],
   "source": [
    "msg = 'texto' \n",
    "\n",
    "# mensagem sem negrito\n",
    "bot.sendMessage(681368147, msg)\n",
    "\n",
    "# mensagem com negrito. Observe os \"*\" no começo e fim do nome que vc quer destacar\n",
    "# e observe o novo parâmetro em \"sendMessage()\"\n",
    "msg2 = '*texto*'\n",
    "bot.sendMessage(681368147, msg2, parse_mode = 'Markdown')"
   ]
  },
  {
   "cell_type": "code",
   "execution_count": null,
   "metadata": {},
   "outputs": [],
   "source": [
    "def recebendoMsg(msg):\n",
    "    print(msg['text'])\n",
    "    \n",
    "bot.message_loop(recebendoMsg)"
   ]
  },
  {
   "cell_type": "code",
   "execution_count": null,
   "metadata": {},
   "outputs": [],
   "source": [
    "msg = ['Data: 19.01.20', 'Hora: 11:15', 'País: Netherlands', 'Liga: Eredivisie', 'Equipes: Venlo - PSV', 'Método: Over 2.5 gols', 'Data: 19.01.20', 'Hora: 13:00', 'País:Turkey', 'Liga: Super Lig', 'Equipes: Trabzonspor - Kasimpasa', 'Método: Over 2.5 gols', 'Data: 19.01.20', 'Hora: 14:00', 'País:Italy', 'Liga: Serie A', 'Equipes: Brescia - Cagliari', 'Método: Over 2.5 gols', 'Data: 19.01.20', 'Hora: 16:30', 'País:England', 'Liga: Premier League', 'Equipes: Liverpool - Manchester Utd', 'Método: Over 2.5 gols', 'Data: 19.01.20', 'Hora: 00:45', 'País:Mexico', 'Liga: Liga MX', 'Equipes: Santos Laguna - Club Leon', 'Método: Over 2.5 gols']\n",
    "print(msg)\n",
    "msg1 = '*' + msg[0].split(\":\")[0] + ':' '*' + msg[0].split(\":\")[1]\n",
    "msg2 = '*' + msg[1].split(\":\")[0] + ':' '*' + msg[1].split(\":\")[1] + ':' + msg[1].split(\":\")[2]\n",
    "print(msg1)\n",
    "print(msg2)"
   ]
  },
  {
   "cell_type": "code",
   "execution_count": 9,
   "metadata": {},
   "outputs": [
    {
     "data": {
      "text/plain": [
       "{'message_id': 69,\n",
       " 'from': {'id': 1034437479,\n",
       "  'is_bot': True,\n",
       "  'first_name': 'andrews371Bot',\n",
       "  'username': 'andrews371Bot'},\n",
       " 'chat': {'id': 681368147,\n",
       "  'first_name': 'André',\n",
       "  'last_name': 'Oliveira',\n",
       "  'username': 'Andrews371',\n",
       "  'type': 'private'},\n",
       " 'date': 1579384443,\n",
       " 'text': 'TIPS PARA O DIA  19/01/20\\n\\nData: 19.01.20\\nHora: 11:15\\nPaís: Netherlands\\nLiga: Eredivisie\\nEquipes: Venlo - PSV\\nMétodo: Over 2.5 gols\\n\\nData: 19.01.20\\nHora: 11:15\\nPaís:Turkey\\nLiga: Super Lig\\nEquipes: Trabzonspor - Kasimpasa\\nMétodo: Over 2.5 gols\\n\\nData: 19.01.20\\nHora: 11:15\\nPaís:Italy\\nLiga: Serie A\\nEquipes: Brescia - Cagliari\\nMétodo: Over 2.5 gols\\n\\nData: 19.01.20\\nHora: 11:15\\nPaís:England\\nLiga: Premier League\\nEquipes: Liverpool - Manchester Utd\\nMétodo: Over 2.5 gols\\n\\nData: 19.01.20\\nHora: 11:15\\nPaís:Mexico\\nLiga: Liga MX\\nEquipes: Santos Laguna - Club Leon\\nMétodo: Over 2.5 gols',\n",
       " 'entities': [{'offset': 0, 'length': 25, 'type': 'bold'},\n",
       "  {'offset': 27, 'length': 5, 'type': 'bold'},\n",
       "  {'offset': 42, 'length': 5, 'type': 'bold'},\n",
       "  {'offset': 54, 'length': 5, 'type': 'bold'},\n",
       "  {'offset': 72, 'length': 5, 'type': 'bold'},\n",
       "  {'offset': 89, 'length': 8, 'type': 'bold'},\n",
       "  {'offset': 110, 'length': 7, 'type': 'bold'},\n",
       "  {'offset': 133, 'length': 5, 'type': 'bold'},\n",
       "  {'offset': 148, 'length': 5, 'type': 'bold'},\n",
       "  {'offset': 160, 'length': 5, 'type': 'bold'},\n",
       "  {'offset': 172, 'length': 5, 'type': 'bold'},\n",
       "  {'offset': 188, 'length': 8, 'type': 'bold'},\n",
       "  {'offset': 221, 'length': 7, 'type': 'bold'},\n",
       "  {'offset': 244, 'length': 5, 'type': 'bold'},\n",
       "  {'offset': 259, 'length': 5, 'type': 'bold'},\n",
       "  {'offset': 271, 'length': 5, 'type': 'bold'},\n",
       "  {'offset': 282, 'length': 5, 'type': 'bold'},\n",
       "  {'offset': 296, 'length': 8, 'type': 'bold'},\n",
       "  {'offset': 324, 'length': 7, 'type': 'bold'},\n",
       "  {'offset': 347, 'length': 5, 'type': 'bold'},\n",
       "  {'offset': 362, 'length': 5, 'type': 'bold'},\n",
       "  {'offset': 374, 'length': 5, 'type': 'bold'},\n",
       "  {'offset': 387, 'length': 5, 'type': 'bold'},\n",
       "  {'offset': 408, 'length': 8, 'type': 'bold'},\n",
       "  {'offset': 444, 'length': 7, 'type': 'bold'},\n",
       "  {'offset': 467, 'length': 5, 'type': 'bold'},\n",
       "  {'offset': 482, 'length': 5, 'type': 'bold'},\n",
       "  {'offset': 494, 'length': 5, 'type': 'bold'},\n",
       "  {'offset': 506, 'length': 5, 'type': 'bold'},\n",
       "  {'offset': 520, 'length': 8, 'type': 'bold'},\n",
       "  {'offset': 555, 'length': 7, 'type': 'bold'}]}"
      ]
     },
     "execution_count": 9,
     "metadata": {},
     "output_type": "execute_result"
    }
   ],
   "source": [
    "# formatação de mensagem para envio pelo telegram através do telepot\n",
    "\n",
    "msg = ['Data: 19.01.20', 'Hora: 11:15', 'País: Netherlands', 'Liga: Eredivisie', 'Equipes: Venlo - PSV', 'Método: Over 2.5 gols', 'Data: 19.01.20', 'Hora: 13:00', 'País:Turkey', 'Liga: Super Lig', 'Equipes: Trabzonspor - Kasimpasa', 'Método: Over 2.5 gols', 'Data: 19.01.20', 'Hora: 14:00', 'País:Italy', 'Liga: Serie A', 'Equipes: Brescia - Cagliari', 'Método: Over 2.5 gols', 'Data: 19.01.20', 'Hora: 16:30', 'País:England', 'Liga: Premier League', 'Equipes: Liverpool - Manchester Utd', 'Método: Over 2.5 gols', 'Data: 19.01.20', 'Hora: 00:45', 'País:Mexico', 'Liga: Liga MX', 'Equipes: Santos Laguna - Club Leon', 'Método: Over 2.5 gols']\n",
    "tam_msg = len(msg)\n",
    "tips = ''\n",
    "#id_telegram = []\n",
    "#id_telegram.append(681368147) # to testando o mesmo id mas na pratica é para colocar\n",
    "#id_telegram.append(681368147) # ids's diferentes para mandar para diferentes pessoas\n",
    "#tam_id_telegram = len(id_telegram)\n",
    "id_telegram = 681368147\n",
    "\n",
    "data = msg[0].split(':')[1].replace('.','/')\n",
    "\n",
    "for i in range(tam_msg):\n",
    "    \n",
    "    # formatando a hora\n",
    "    if msg[i].split(\":\")[0] == 'Hora':\n",
    "        tips = tips + '*' + msg[1].split(\":\")[0] + ':' '*' + msg[1].split(\":\")[1] + ':' + msg[1].split(\":\")[2] + '\\n'\n",
    "        flag = False\n",
    "    else:\n",
    "        tips = tips + '*' + msg[i].split(\":\")[0] + ':' '*' + msg[i].split(\":\")[1] + '\\n'\n",
    "        \n",
    "    # quebrando linha entre uma tip e outra\n",
    "    if msg[i].split(\":\")[0] == 'Método':\n",
    "        tips = tips + '\\n'\n",
    "        \n",
    "#for i in range(tam_id_telegram):\n",
    "bot.sendMessage(id_telegram, '*TIPS DO DIA *\\n\\n' + tips, parse_mode = 'Markdown')"
   ]
  },
  {
   "cell_type": "code",
   "execution_count": null,
   "metadata": {},
   "outputs": [],
   "source": [
    "a = 'Data: 19.01.20\\n\\\n",
    "Hora: 11:15\\n\\\n",
    "País:Netherlands\\n\\\n",
    "\\n\\\n",
    "Data: 19.01.20\\n\\\n",
    "Hora: 16:30\\n\\\n",
    "País:England\\n\\\n",
    "Liga: Premier League\\n\\\n",
    "Equipes: Liverpool - Manchester Utd\\n\\\n",
    "Método: Over 2.5 gols\\n\\\n",
    "\\n\\\n",
    "\\n\\\n",
    "Data: 19.01.20\\n\\\n",
    "Hora: 00:45\\n\\\n",
    "País:Mexico\\n\\\n",
    "Liga: Liga MX\\n\\\n",
    "Equipes: Santos Laguna\\n' \n",
    "    \n",
    "print(color.BOLD + a + color.END)"
   ]
  },
  {
   "cell_type": "code",
   "execution_count": null,
   "metadata": {},
   "outputs": [],
   "source": [
    "# cores em python (color)\n",
    "class color:\n",
    "   PURPLE = '\\033[95m'\n",
    "   CYAN = '\\033[96m'\n",
    "   DARKCYAN = '\\033[36m'\n",
    "   BLUE = '\\033[94m'\n",
    "   GREEN = '\\033[92m'\n",
    "   YELLOW = '\\033[93m'\n",
    "   RED = '\\033[91m'\n",
    "   BOLD = '\\033[1m'\n",
    "   UNDERLINE = '\\033[4m'\n",
    "   END = '\\033[0m'\n",
    "print(color.BOLD + 'Hello World !' + color.END)"
   ]
  }
 ],
 "metadata": {
  "kernelspec": {
   "display_name": "Python 3",
   "language": "python",
   "name": "python3"
  },
  "language_info": {
   "codemirror_mode": {
    "name": "ipython",
    "version": 3
   },
   "file_extension": ".py",
   "mimetype": "text/x-python",
   "name": "python",
   "nbconvert_exporter": "python",
   "pygments_lexer": "ipython3",
   "version": "3.7.1"
  }
 },
 "nbformat": 4,
 "nbformat_minor": 2
}
