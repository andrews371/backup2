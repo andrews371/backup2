{
 "cells": [
  {
   "cell_type": "code",
   "execution_count": 24,
   "metadata": {},
   "outputs": [
    {
     "name": "stdout",
     "output_type": "stream",
     "text": [
      "A media de gols do time mandante é: 1.6\n",
      "A media de gols do time visitante é: 0.925\n",
      "O desvio padrão do time mandante é: 1.215\n",
      "O desvio padrão do time visitante é: 0.971\n"
     ]
    }
   ],
   "source": [
    "import csv\n",
    "import statistics as s\n",
    "\n",
    "linha_hg = []\n",
    "linha_ag = []\n",
    "with open('brasileiro.csv', 'r', encoding='utf-8') as acsv:\n",
    "    arq = csv.DictReader(acsv, delimiter = ';')\n",
    "    \n",
    "    for linha in arq:\n",
    "        linha_hg.append(int(linha['HG']))\n",
    "        linha_ag.append(int(linha['AG']))\n",
    "    \n",
    "    hg_mg = s.mean(linha_hg)\n",
    "    ag_mg = s.mean(linha_ag)\n",
    "    hg_dp = s.stdev(linha_hg)\n",
    "    ag_dp = s.stdev(linha_ag)\n",
    "    \n",
    "    print(f'A media de gols do time mandante é: {hg_mg}')\n",
    "    print(f'A media de gols do time visitante é: {ag_mg}')\n",
    "    print(f'O desvio padrão do time mandante é: {round(hg_dp, 3)}')\n",
    "    print(f'O desvio padrão do time visitante é: {round(ag_dp, 3)}')"
   ]
  },
  {
   "cell_type": "code",
   "execution_count": 3,
   "metadata": {},
   "outputs": [],
   "source": [
    "import random\n",
    "import csv\n",
    "\n",
    "random.seed(1)\n",
    "valores = [round(random.uniform(100,500),2) for i in range(50)]\n",
    "odds = [round(random.uniform(1,4),2) for i in range(50)]\n",
    "estado = [random.choice(['Ganha', 'Perdida']) for i in range(50)]\n",
    "cabecalho = ['Valores', 'Odds', 'Resultados']\n",
    "tabela = list(zip(valores, odds, estado))\n",
    "\n",
    "with open('historico.csv', 'w', encoding='utf-8', newline='') as acsv:\n",
    "    arq = csv.writer(acsv, delimiter=';')\n",
    "    arq.writerow(cabecalho)\n",
    "    for linha in tabela:\n",
    "        arq.writerow(linha)"
   ]
  },
  {
   "cell_type": "code",
   "execution_count": 61,
   "metadata": {},
   "outputs": [
    {
     "name": "stdout",
     "output_type": "stream",
     "text": [
      "153.75\n",
      "438.97\n",
      "405.51\n",
      "202.03\n",
      "298.17\n",
      "279.8\n",
      "360.64\n",
      "415.49\n",
      "137.54\n",
      "111.34\n",
      "434.31\n",
      "273.11\n",
      "404.91\n",
      "100.84\n",
      "278.15\n",
      "388.62\n",
      "191.5\n",
      "478.11\n",
      "460.57\n",
      "112.24\n",
      "110.18\n",
      "316.56\n",
      "475.66\n",
      "252.48\n",
      "186.64\n",
      "268.85\n",
      "111.62\n",
      "188.68\n",
      "275.16\n",
      "298.32\n",
      "193.23\n",
      "192.35\n",
      "187.51\n",
      "283.84\n",
      "215.91\n",
      "108.6\n",
      "435.03\n",
      "322.58\n",
      "356.92\n",
      "174.36\n",
      "497.02\n",
      "443.98\n",
      "148.36\n",
      "233.08\n",
      "388.59\n",
      "384.48\n",
      "474.58\n",
      "268.84\n",
      "432.01\n",
      "368.12\n"
     ]
    }
   ],
   "source": [
    "import csv\n",
    "with open('historico.csv', 'r', encoding='utf-8', newline='') as acsv:\n",
    "    arq = csv.DictReader(acsv, delimiter = ';')\n",
    "    \n",
    "    for linha in arq:\n",
    "        print(linha['Valores'])"
   ]
  },
  {
   "cell_type": "code",
   "execution_count": 42,
   "metadata": {},
   "outputs": [
    {
     "name": "stdout",
     "output_type": "stream",
     "text": [
      "A média dos valores apostas é 290.38\n",
      "A média das odds é 2.65\n",
      "O punter ganhou 23 partidas\n",
      "O punter perdeu 27 partidas\n"
     ]
    }
   ],
   "source": [
    "import csv\n",
    "import statistics as st\n",
    "\n",
    "valor = []\n",
    "odd = []\n",
    "resultado = []\n",
    "\n",
    "with open('historico.csv', 'r', encoding='utf-8', newline='') as acsv:\n",
    "    arq = csv.DictReader(acsv, delimiter=';') # sempre que usar DictReader ou DictWriter tem q mostrar o delimiter\n",
    "    for linha in arq:\n",
    "        linha['Valores'] = float(linha['Valores'])\n",
    "        linha['Odds'] = float(linha['Odds'])\n",
    "        resultado.append(linha['Resultados'])\n",
    "        valor.append(linha['Valores'])\n",
    "        odd.append(linha['Odds'])\n",
    "    \n",
    "    res_win = resultado.count('Ganha')\n",
    "    res_lose = resultado.count('Perdida')\n",
    "    \n",
    "    print(f'A média dos valores apostas é {round(st.mean(valor),2)}')\n",
    "    print(f'A média das odds é {round(st.mean(odd),2)}')\n",
    "    print(f'O punter ganhou {res_win} partidas')\n",
    "    print(f'O punter perdeu {res_lose} partidas')\n",
    "    "
   ]
  },
  {
   "cell_type": "code",
   "execution_count": 38,
   "metadata": {},
   "outputs": [],
   "source": [
    "import csv\n",
    "import statistics as st\n",
    "\n",
    "valor = []\n",
    "odd = []\n",
    "resultado = []\n",
    "lucro_prejuizo = []\n",
    "\n",
    "with open('historico.csv', 'r', encoding='utf-8', newline='') as ler:\n",
    "    aler = csv.DictReader(ler, delimiter=';') # sempre que usar DictReader ou DictWriter tem q mostrar o delimiter\n",
    "    \n",
    "    for linha in aler:\n",
    "        linha['Valores'] = float(linha['Valores'])\n",
    "        linha['Odds'] = float(linha['Odds'])\n",
    "        valor.append(linha['Valores'])\n",
    "        odd.append(linha['Odds'])\n",
    "        resultado.append(linha['Resultados'])  \n",
    "        if linha['Resultados'] == 'Ganha':\n",
    "            lucro_prejuizo.append(round(linha['Valores'] * (linha['Odds']-1),2))\n",
    "        else:\n",
    "            lucro_prejuizo.append(-linha['Valores'])\n",
    "            \n",
    "    lista_final = list(zip(valor, odd, resultado, lucro_prejuizo))\n",
    "    cabecalho = ['Valores', 'Odds', 'Resultados', 'Lucro/Prejuizo']\n",
    "\n",
    "    with open('historico2.csv', 'w', encoding='utf-8', newline='') as esc:\n",
    "        aesc = csv.writer(esc, delimiter=';')\n",
    "        aesc.writerow(cabecalho)\n",
    "        \n",
    "        for linha in lista_final:\n",
    "            aesc.writerow(linha)     \n",
    "        "
   ]
  },
  {
   "cell_type": "code",
   "execution_count": 101,
   "metadata": {},
   "outputs": [
    {
     "name": "stdout",
     "output_type": "stream",
     "text": [
      "O seu ROI foi de -4.37%\n"
     ]
    }
   ],
   "source": [
    "import csv\n",
    "\n",
    "valores = []\n",
    "luc_prej = []\n",
    "\n",
    "with open('historico2.csv', 'r', encoding='utf-8', newline='') as hist2:\n",
    "    arq = csv.DictReader(hist2, delimiter=';')\n",
    "    \n",
    "    for linha in arq:\n",
    "        linha['Valores'] = float(linha['Valores'])\n",
    "        linha['Lucro/Prejuizo'] = float(linha['Lucro/Prejuizo'])\n",
    "        valores.append(linha['Valores'])\n",
    "        luc_prej.append(linha['Lucro/Prejuizo'])\n",
    "    \n",
    "    soma = sum(valores)\n",
    "    lp = sum(luc_prej)\n",
    "    roi = round((lp * 100)/soma,2)\n",
    "    \n",
    "    print(f'O seu ROI foi de {roi}%')"
   ]
  },
  {
   "cell_type": "code",
   "execution_count": 26,
   "metadata": {},
   "outputs": [],
   "source": [
    "import random\n",
    "import csv\n",
    "\n",
    "random.seed(1)\n",
    "valores = [round(random.uniform(100,500),2) for i in range(50)]\n",
    "odds = [round(random.uniform(1,4),2) for i in range(50)]\n",
    "estado = [random.choice(['Ganha', 'Perdida']) for i in range(50)]\n",
    "cabecalho = ['Valores', 'Odds', 'Resultados']\n",
    "tabela = list(zip(valores, odds, estado))\n",
    "\n",
    "with open('apagar.csv', 'w', encoding='utf-8', newline='') as acsv:\n",
    "    arq = csv.writer(acsv, delimiter=';')\n",
    "    arq.writerow(cabecalho)\n",
    "    for linha in tabela:\n",
    "        arq.writerow(linha)"
   ]
  },
  {
   "cell_type": "code",
   "execution_count": 27,
   "metadata": {},
   "outputs": [],
   "source": [
    "tabela.insert(0, cabecalho)"
   ]
  },
  {
   "cell_type": "code",
   "execution_count": 28,
   "metadata": {},
   "outputs": [
    {
     "data": {
      "text/plain": [
       "[['Valores', 'Odds', 'Resultados'],\n",
       " (153.75, 1.91, 'Ganha'),\n",
       " (438.97, 2.76, 'Perdida'),\n",
       " (405.51, 3.65, 'Perdida'),\n",
       " (202.03, 3.54, 'Ganha'),\n",
       " (298.17, 2.52, 'Perdida'),\n",
       " (279.8, 2.77, 'Perdida'),\n",
       " (360.64, 1.1, 'Perdida'),\n",
       " (415.49, 1.73, 'Perdida'),\n",
       " (137.54, 3.39, 'Perdida'),\n",
       " (111.34, 2.24, 'Ganha'),\n",
       " (434.31, 1.52, 'Perdida'),\n",
       " (273.11, 2.65, 'Perdida'),\n",
       " (404.91, 3.11, 'Ganha'),\n",
       " (100.84, 3.02, 'Ganha'),\n",
       " (278.15, 2.12, 'Ganha'),\n",
       " (388.62, 2.32, 'Ganha'),\n",
       " (191.5, 2.53, 'Ganha'),\n",
       " (478.11, 3.34, 'Perdida'),\n",
       " (460.57, 2.56, 'Ganha'),\n",
       " (112.24, 2.18, 'Ganha'),\n",
       " (110.18, 2.47, 'Ganha'),\n",
       " (316.56, 1.09, 'Ganha'),\n",
       " (475.66, 1.13, 'Perdida'),\n",
       " (252.48, 3.11, 'Ganha'),\n",
       " (186.64, 3.95, 'Perdida'),\n",
       " (268.85, 2.78, 'Ganha'),\n",
       " (111.62, 2.18, 'Perdida'),\n",
       " (188.68, 1.51, 'Ganha'),\n",
       " (275.16, 2.51, 'Ganha'),\n",
       " (298.32, 3.95, 'Perdida'),\n",
       " (193.23, 3.31, 'Perdida'),\n",
       " (192.35, 2.62, 'Ganha'),\n",
       " (187.51, 3.58, 'Ganha'),\n",
       " (283.84, 1.7, 'Ganha'),\n",
       " (215.91, 2.54, 'Perdida'),\n",
       " (108.6, 3.86, 'Ganha'),\n",
       " (435.03, 2.73, 'Perdida'),\n",
       " (322.58, 2.38, 'Perdida'),\n",
       " (356.92, 1.81, 'Perdida'),\n",
       " (174.36, 2.64, 'Perdida'),\n",
       " (497.02, 3.87, 'Perdida'),\n",
       " (443.98, 1.02, 'Perdida'),\n",
       " (148.36, 3.35, 'Ganha'),\n",
       " (233.08, 3.46, 'Ganha'),\n",
       " (388.59, 3.66, 'Perdida'),\n",
       " (384.48, 3.22, 'Perdida'),\n",
       " (474.58, 3.43, 'Perdida'),\n",
       " (268.84, 2.56, 'Perdida'),\n",
       " (432.01, 2.68, 'Ganha'),\n",
       " (368.12, 2.28, 'Perdida')]"
      ]
     },
     "execution_count": 28,
     "metadata": {},
     "output_type": "execute_result"
    }
   ],
   "source": [
    "tabela"
   ]
  },
  {
   "cell_type": "code",
   "execution_count": 62,
   "metadata": {},
   "outputs": [
    {
     "name": "stdout",
     "output_type": "stream",
     "text": [
      "Sao Paulo\n",
      "Atletico-MG\n",
      "Chapecoense-SC\n",
      "Flamengo RJ\n",
      "Gremio\n",
      "Athletico-PR\n",
      "Bahia\n",
      "Ceara\n",
      "Fluminense\n",
      "Palmeiras\n",
      "Corinthians\n",
      "CSA\n",
      "Internacional\n",
      "Avai\n",
      "Cruzeiro\n",
      "Fortaleza\n",
      "Goias\n",
      "Vasco\n",
      "Santos\n",
      "Botafogo RJ\n",
      "Palmeiras\n",
      "Vasco\n",
      "Ceara\n",
      "Chapecoense-SC\n",
      "Botafogo RJ\n",
      "Cruzeiro\n",
      "CSA\n",
      "Sao Paulo\n",
      "Bahia\n",
      "Gremio\n",
      "Fluminense\n",
      "Corinthians\n",
      "Goias\n",
      "Flamengo RJ\n",
      "Atletico-MG\n",
      "Internacional\n",
      "Santos\n",
      "Athletico-PR\n",
      "Avai\n",
      "Fortaleza\n"
     ]
    }
   ],
   "source": [
    "import csv\n",
    "import statistics as s\n",
    "\n",
    "linha_hg = []\n",
    "linha_ag = []\n",
    "with open('brasileiro.csv', 'r', encoding='utf-8') as acsv:\n",
    "    arq = csv.DictReader(acsv, delimiter = ';')\n",
    "    for linha in arq:\n",
    "        print(linha['Home'])"
   ]
  },
  {
   "cell_type": "code",
   "execution_count": 66,
   "metadata": {},
   "outputs": [
    {
     "name": "stdout",
     "output_type": "stream",
     "text": [
      "OrderedDict([('Country', 'Brazil'), ('League', 'Serie A'), ('Season', '2019'), ('Date', '27/04/2019'), ('Time', '20:00'), ('Home', 'Sao Paulo'), ('Away', 'Botafogo RJ'), ('HG', '2'), ('AG', '0'), ('Res', 'H'), ('PH', '1.78'), ('PD', '3.39'), ('PA', '5.61'), ('MaxH', '1.81'), ('MaxD', '3.6'), ('MaxA', '5.8'), ('AvgH', '1.74'), ('AvgD', '3.37'), ('AvgA', '5.14')])\n",
      "OrderedDict([('Country', 'Brazil'), ('League', 'Serie A'), ('Season', '2019'), ('Date', '27/04/2019'), ('Time', '23:00'), ('Home', 'Atletico-MG'), ('Away', 'Avai'), ('HG', '2'), ('AG', '1'), ('Res', 'H'), ('PH', '1.56'), ('PD', '4.09'), ('PA', '6.46'), ('MaxH', '1.58'), ('MaxD', '4.09'), ('MaxA', '7'), ('AvgH', '1.53'), ('AvgD', '3.9'), ('AvgA', '6.34')])\n",
      "OrderedDict([('Country', 'Brazil'), ('League', 'Serie A'), ('Season', '2019'), ('Date', '27/04/2019'), ('Time', '23:00'), ('Home', 'Chapecoense-SC'), ('Away', 'Internacional'), ('HG', '2'), ('AG', '0'), ('Res', 'H'), ('PH', '3.02'), ('PD', '3.03'), ('PA', '2.71'), ('MaxH', '3.15'), ('MaxD', '3.2'), ('MaxA', '2.71'), ('AvgH', '2.94'), ('AvgD', '2.94'), ('AvgA', '2.59')])\n",
      "OrderedDict([('Country', 'Brazil'), ('League', 'Serie A'), ('Season', '2019'), ('Date', '28/04/2019'), ('Time', '01:00'), ('Home', 'Flamengo RJ'), ('Away', 'Cruzeiro'), ('HG', '3'), ('AG', '1'), ('Res', 'H'), ('PH', '2.32'), ('PD', '3.2'), ('PA', '3.47'), ('MaxH', '2.32'), ('MaxD', '3.4'), ('MaxA', '3.57'), ('AvgH', '2.21'), ('AvgD', '3.12'), ('AvgA', '3.4')])\n",
      "OrderedDict([('Country', 'Brazil'), ('League', 'Serie A'), ('Season', '2019'), ('Date', '28/04/2019'), ('Time', '15:00'), ('Home', 'Gremio'), ('Away', 'Santos'), ('HG', '1'), ('AG', '2'), ('Res', 'A'), ('PH', '1.71'), ('PD', '3.58'), ('PA', '5.78'), ('MaxH', '1.83'), ('MaxD', '3.6'), ('MaxA', '5.94'), ('AvgH', '1.71'), ('AvgD', '3.41'), ('AvgA', '5.31')])\n",
      "OrderedDict([('Country', 'Brazil'), ('League', 'Serie A'), ('Season', '2019'), ('Date', '28/04/2019'), ('Time', '20:00'), ('Home', 'Athletico-PR'), ('Away', 'Vasco'), ('HG', '4'), ('AG', '1'), ('Res', 'H'), ('PH', '1.48'), ('PD', '4.1'), ('PA', '8.19'), ('MaxH', '1.5'), ('MaxD', '4.33'), ('MaxA', '8.5'), ('AvgH', '1.46'), ('AvgD', '4.02'), ('AvgA', '7.31')])\n",
      "OrderedDict([('Country', 'Brazil'), ('League', 'Serie A'), ('Season', '2019'), ('Date', '28/04/2019'), ('Time', '20:00'), ('Home', 'Bahia'), ('Away', 'Corinthians'), ('HG', '3'), ('AG', '2'), ('Res', 'H'), ('PH', '2.28'), ('PD', '3.14'), ('PA', '3.63'), ('MaxH', '2.35'), ('MaxD', '3.3'), ('MaxA', '3.69'), ('AvgH', '2.23'), ('AvgD', '3.06'), ('AvgA', '3.44')])\n",
      "OrderedDict([('Country', 'Brazil'), ('League', 'Serie A'), ('Season', '2019'), ('Date', '28/04/2019'), ('Time', '20:00'), ('Home', 'Ceara'), ('Away', 'CSA'), ('HG', '4'), ('AG', '0'), ('Res', 'H'), ('PH', '1.88'), ('PD', '3.41'), ('PA', '4.81'), ('MaxH', '1.89'), ('MaxD', '3.5'), ('MaxA', '4.85'), ('AvgH', '1.84'), ('AvgD', '3.32'), ('AvgA', '4.49')])\n",
      "OrderedDict([('Country', 'Brazil'), ('League', 'Serie A'), ('Season', '2019'), ('Date', '28/04/2019'), ('Time', '23:00'), ('Home', 'Fluminense'), ('Away', 'Goias'), ('HG', '0'), ('AG', '1'), ('Res', 'A'), ('PH', '1.77'), ('PD', '3.68'), ('PA', '5.02'), ('MaxH', '1.84'), ('MaxD', '3.68'), ('MaxA', '5.2'), ('AvgH', '1.75'), ('AvgD', '3.49'), ('AvgA', '4.75')])\n",
      "OrderedDict([('Country', 'Brazil'), ('League', 'Serie A'), ('Season', '2019'), ('Date', '28/04/2019'), ('Time', '23:00'), ('Home', 'Palmeiras'), ('Away', 'Fortaleza'), ('HG', '4'), ('AG', '0'), ('Res', 'H'), ('PH', '1.36'), ('PD', '4.98'), ('PA', '9.4'), ('MaxH', '1.4'), ('MaxD', '4.98'), ('MaxA', '10'), ('AvgH', '1.36'), ('AvgD', '4.66'), ('AvgA', '8.53')])\n",
      "OrderedDict([('Country', 'Brazil'), ('League', 'Serie A'), ('Season', '2019'), ('Date', '01/05/2019'), ('Time', '20:00'), ('Home', 'Corinthians'), ('Away', 'Chapecoense-SC'), ('HG', '1'), ('AG', '0'), ('Res', 'H'), ('PH', '1.66'), ('PD', '3.3'), ('PA', '7.5'), ('MaxH', '1.67'), ('MaxD', '3.6'), ('MaxA', '7.5'), ('AvgH', '1.62'), ('AvgD', '3.42'), ('AvgA', '6.38')])\n",
      "OrderedDict([('Country', 'Brazil'), ('League', 'Serie A'), ('Season', '2019'), ('Date', '01/05/2019'), ('Time', '20:00'), ('Home', 'CSA'), ('Away', 'Palmeiras'), ('HG', '1'), ('AG', '1'), ('Res', 'D'), ('PH', '7.04'), ('PD', '3.93'), ('PA', '1.56'), ('MaxH', '7.8'), ('MaxD', '4'), ('MaxA', '1.56'), ('AvgH', '6.88'), ('AvgD', '3.85'), ('AvgA', '1.51')])\n",
      "OrderedDict([('Country', 'Brazil'), ('League', 'Serie A'), ('Season', '2019'), ('Date', '01/05/2019'), ('Time', '20:00'), ('Home', 'Internacional'), ('Away', 'Flamengo RJ'), ('HG', '2'), ('AG', '1'), ('Res', 'H'), ('PH', '2.44'), ('PD', '3.1'), ('PA', '3.34'), ('MaxH', '2.44'), ('MaxD', '3.22'), ('MaxA', '3.34'), ('AvgH', '2.33'), ('AvgD', '3.09'), ('AvgA', '3.17')])\n",
      "OrderedDict([('Country', 'Brazil'), ('League', 'Serie A'), ('Season', '2019'), ('Date', '01/05/2019'), ('Time', '23:15'), ('Home', 'Avai'), ('Away', 'Gremio'), ('HG', '1'), ('AG', '1'), ('Res', 'D'), ('PH', '3.88'), ('PD', '3.16'), ('PA', '2.18'), ('MaxH', '4.2'), ('MaxD', '3.3'), ('MaxA', '2.21'), ('AvgH', '3.72'), ('AvgD', '3.11'), ('AvgA', '2.1')])\n",
      "OrderedDict([('Country', 'Brazil'), ('League', 'Serie A'), ('Season', '2019'), ('Date', '01/05/2019'), ('Time', '23:15'), ('Home', 'Cruzeiro'), ('Away', 'Ceara'), ('HG', '1'), ('AG', '0'), ('Res', 'H'), ('PH', '1.52'), ('PD', '3.71'), ('PA', '8.93'), ('MaxH', '1.52'), ('MaxD', '4.65'), ('MaxA', '9.05'), ('AvgH', '1.46'), ('AvgD', '3.97'), ('AvgA', '7.58')])\n",
      "OrderedDict([('Country', 'Brazil'), ('League', 'Serie A'), ('Season', '2019'), ('Date', '02/05/2019'), ('Time', '01:30'), ('Home', 'Fortaleza'), ('Away', 'Athletico-PR'), ('HG', '2'), ('AG', '1'), ('Res', 'H'), ('PH', '3.6'), ('PD', '3.27'), ('PA', '2.23'), ('MaxH', '3.65'), ('MaxD', '3.27'), ('MaxA', '2.29'), ('AvgH', '3.42'), ('AvgD', '3.09'), ('AvgA', '2.21')])\n",
      "OrderedDict([('Country', 'Brazil'), ('League', 'Serie A'), ('Season', '2019'), ('Date', '02/05/2019'), ('Time', '01:30'), ('Home', 'Goias'), ('Away', 'Sao Paulo'), ('HG', '1'), ('AG', '2'), ('Res', 'A'), ('PH', '3.1'), ('PD', '3.04'), ('PA', '2.63'), ('MaxH', '3.18'), ('MaxD', '3.15'), ('MaxA', '2.63'), ('AvgH', '3.03'), ('AvgD', '2.98'), ('AvgA', '2.49')])\n",
      "OrderedDict([('Country', 'Brazil'), ('League', 'Serie A'), ('Season', '2019'), ('Date', '02/05/2019'), ('Time', '01:30'), ('Home', 'Vasco'), ('Away', 'Atletico-MG'), ('HG', '1'), ('AG', '2'), ('Res', 'A'), ('PH', '3.27'), ('PD', '3.3'), ('PA', '2.37'), ('MaxH', '3.4'), ('MaxD', '3.38'), ('MaxA', '2.37'), ('AvgH', '3.15'), ('AvgD', '3.17'), ('AvgA', '2.3')])\n",
      "OrderedDict([('Country', 'Brazil'), ('League', 'Serie A'), ('Season', '2019'), ('Date', '02/05/2019'), ('Time', '23:15'), ('Home', 'Santos'), ('Away', 'Fluminense'), ('HG', '2'), ('AG', '1'), ('Res', 'H'), ('PH', '1.65'), ('PD', '3.73'), ('PA', '6.13'), ('MaxH', '1.68'), ('MaxD', '3.9'), ('MaxA', '6.5'), ('AvgH', '1.61'), ('AvgD', '3.69'), ('AvgA', '5.64')])\n",
      "OrderedDict([('Country', 'Brazil'), ('League', 'Serie A'), ('Season', '2019'), ('Date', '03/05/2019'), ('Time', '00:00'), ('Home', 'Botafogo RJ'), ('Away', 'Bahia'), ('HG', '3'), ('AG', '2'), ('Res', 'H'), ('PH', '2.36'), ('PD', '3.06'), ('PA', '3.57'), ('MaxH', '2.36'), ('MaxD', '3.15'), ('MaxA', '3.57'), ('AvgH', '2.27'), ('AvgD', '3'), ('AvgA', '3.42')])\n",
      "OrderedDict([('Country', 'Brazil'), ('League', 'Serie A'), ('Season', '2019'), ('Date', '04/05/2019'), ('Time', '23:00'), ('Home', 'Palmeiras'), ('Away', 'Internacional'), ('HG', '1'), ('AG', '0'), ('Res', 'H'), ('PH', '1.61'), ('PD', '3.81'), ('PA', '6.5'), ('MaxH', '1.66'), ('MaxD', '4'), ('MaxA', '6.5'), ('AvgH', '1.6'), ('AvgD', '3.7'), ('AvgA', '5.78')])\n",
      "OrderedDict([('Country', 'Brazil'), ('League', 'Serie A'), ('Season', '2019'), ('Date', '04/05/2019'), ('Time', '23:00'), ('Home', 'Vasco'), ('Away', 'Corinthians'), ('HG', '1'), ('AG', '1'), ('Res', 'D'), ('PH', '3.26'), ('PD', '3.16'), ('PA', '2.46'), ('MaxH', '3.26'), ('MaxD', '3.2'), ('MaxA', '2.5'), ('AvgH', '3.1'), ('AvgD', '3.06'), ('AvgA', '2.39')])\n",
      "OrderedDict([('Country', 'Brazil'), ('League', 'Serie A'), ('Season', '2019'), ('Date', '05/05/2019'), ('Time', '01:00'), ('Home', 'Ceara'), ('Away', 'Atletico-MG'), ('HG', '1'), ('AG', '2'), ('Res', 'A'), ('PH', '2.42'), ('PD', '3.18'), ('PA', '3.29'), ('MaxH', '2.42'), ('MaxD', '3.25'), ('MaxA', '3.3'), ('AvgH', '2.31'), ('AvgD', '3.12'), ('AvgA', '3.17')])\n",
      "OrderedDict([('Country', 'Brazil'), ('League', 'Serie A'), ('Season', '2019'), ('Date', '05/05/2019'), ('Time', '15:00'), ('Home', 'Chapecoense-SC'), ('Away', 'Athletico-PR'), ('HG', '1'), ('AG', '1'), ('Res', 'D'), ('PH', '2.64'), ('PD', '2.99'), ('PA', '3.15'), ('MaxH', '2.66'), ('MaxD', '3.13'), ('MaxA', '3.2'), ('AvgH', '2.49'), ('AvgD', '2.96'), ('AvgA', '3.04')])\n",
      "OrderedDict([('Country', 'Brazil'), ('League', 'Serie A'), ('Season', '2019'), ('Date', '05/05/2019'), ('Time', '20:00'), ('Home', 'Botafogo RJ'), ('Away', 'Fortaleza'), ('HG', '1'), ('AG', '0'), ('Res', 'H'), ('PH', '1.72'), ('PD', '4'), ('PA', '4.87'), ('MaxH', '1.81'), ('MaxD', '4'), ('MaxA', '5.3'), ('AvgH', '1.71'), ('AvgD', '3.68'), ('AvgA', '4.74')])\n",
      "OrderedDict([('Country', 'Brazil'), ('League', 'Serie A'), ('Season', '2019'), ('Date', '05/05/2019'), ('Time', '20:00'), ('Home', 'Cruzeiro'), ('Away', 'Goias'), ('HG', '2'), ('AG', '1'), ('Res', 'H'), ('PH', '1.4'), ('PD', '4.54'), ('PA', '9.35'), ('MaxH', '1.43'), ('MaxD', '4.6'), ('MaxA', '11'), ('AvgH', '1.38'), ('AvgD', '4.36'), ('AvgA', '8.71')])\n",
      "OrderedDict([('Country', 'Brazil'), ('League', 'Serie A'), ('Season', '2019'), ('Date', '05/05/2019'), ('Time', '20:00'), ('Home', 'CSA'), ('Away', 'Santos'), ('HG', '0'), ('AG', '0'), ('Res', 'D'), ('PH', '4.84'), ('PD', '3.49'), ('PA', '1.85'), ('MaxH', '5'), ('MaxD', '3.55'), ('MaxA', '1.89'), ('AvgH', '4.57'), ('AvgD', '3.37'), ('AvgA', '1.81')])\n",
      "OrderedDict([('Country', 'Brazil'), ('League', 'Serie A'), ('Season', '2019'), ('Date', '05/05/2019'), ('Time', '20:00'), ('Home', 'Sao Paulo'), ('Away', 'Flamengo RJ'), ('HG', '1'), ('AG', '1'), ('Res', 'D'), ('PH', '2.06'), ('PD', '3.31'), ('PA', '4.07'), ('MaxH', '2.13'), ('MaxD', '3.5'), ('MaxA', '4.2'), ('AvgH', '1.99'), ('AvgD', '3.28'), ('AvgA', '3.85')])\n",
      "OrderedDict([('Country', 'Brazil'), ('League', 'Serie A'), ('Season', '2019'), ('Date', '05/05/2019'), ('Time', '23:00'), ('Home', 'Bahia'), ('Away', 'Avai'), ('HG', '1'), ('AG', '0'), ('Res', 'H'), ('PH', '1.62'), ('PD', '3.91'), ('PA', '6.1'), ('MaxH', '1.65'), ('MaxD', '3.91'), ('MaxA', '7'), ('AvgH', '1.6'), ('AvgD', '3.68'), ('AvgA', '5.87')])\n",
      "OrderedDict([('Country', 'Brazil'), ('League', 'Serie A'), ('Season', '2019'), ('Date', '05/05/2019'), ('Time', '23:00'), ('Home', 'Gremio'), ('Away', 'Fluminense'), ('HG', '4'), ('AG', '5'), ('Res', 'A'), ('PH', '1.51'), ('PD', '4.14'), ('PA', '7.47'), ('MaxH', '1.59'), ('MaxD', '4.14'), ('MaxA', '7.8'), ('AvgH', '1.51'), ('AvgD', '3.85'), ('AvgA', '6.79')])\n",
      "OrderedDict([('Country', 'Brazil'), ('League', 'Serie A'), ('Season', '2019'), ('Date', '11/05/2019'), ('Time', '20:00'), ('Home', 'Fluminense'), ('Away', 'Botafogo RJ'), ('HG', '0'), ('AG', '1'), ('Res', 'A'), ('PH', '2.1'), ('PD', '3.3'), ('PA', '3.95'), ('MaxH', '2.1'), ('MaxD', '3.4'), ('MaxA', '4.16'), ('AvgH', '1.98'), ('AvgD', '3.26'), ('AvgA', '3.91')])\n",
      "OrderedDict([('Country', 'Brazil'), ('League', 'Serie A'), ('Season', '2019'), ('Date', '11/05/2019'), ('Time', '23:00'), ('Home', 'Corinthians'), ('Away', 'Gremio'), ('HG', '0'), ('AG', '0'), ('Res', 'D'), ('PH', '3'), ('PD', '2.98'), ('PA', '2.76'), ('MaxH', '3.02'), ('MaxD', '3.04'), ('MaxA', '2.8'), ('AvgH', '2.87'), ('AvgD', '2.89'), ('AvgA', '2.67')])\n",
      "OrderedDict([('Country', 'Brazil'), ('League', 'Serie A'), ('Season', '2019'), ('Date', '12/05/2019'), ('Time', '01:00'), ('Home', 'Goias'), ('Away', 'Ceara'), ('HG', '2'), ('AG', '1'), ('Res', 'H'), ('PH', '2.16'), ('PD', '3.18'), ('PA', '3.93'), ('MaxH', '2.2'), ('MaxD', '3.24'), ('MaxA', '4'), ('AvgH', '2.12'), ('AvgD', '3.08'), ('AvgA', '3.69')])\n",
      "OrderedDict([('Country', 'Brazil'), ('League', 'Serie A'), ('Season', '2019'), ('Date', '12/05/2019'), ('Time', '15:00'), ('Home', 'Flamengo RJ'), ('Away', 'Chapecoense-SC'), ('HG', '2'), ('AG', '1'), ('Res', 'H'), ('PH', '1.43'), ('PD', '4.39'), ('PA', '8.7'), ('MaxH', '1.45'), ('MaxD', '4.5'), ('MaxA', '9.2'), ('AvgH', '1.41'), ('AvgD', '4.23'), ('AvgA', '7.98')])\n",
      "OrderedDict([('Country', 'Brazil'), ('League', 'Serie A'), ('Season', '2019'), ('Date', '12/05/2019'), ('Time', '20:00'), ('Home', 'Atletico-MG'), ('Away', 'Palmeiras'), ('HG', '0'), ('AG', '2'), ('Res', 'A'), ('PH', '3.37'), ('PD', '2.96'), ('PA', '2.52'), ('MaxH', '3.37'), ('MaxD', '3.2'), ('MaxA', '2.52'), ('AvgH', '3.12'), ('AvgD', '2.99'), ('AvgA', '2.42')])\n",
      "OrderedDict([('Country', 'Brazil'), ('League', 'Serie A'), ('Season', '2019'), ('Date', '12/05/2019'), ('Time', '20:00'), ('Home', 'Internacional'), ('Away', 'Cruzeiro'), ('HG', '3'), ('AG', '1'), ('Res', 'H'), ('PH', '2.1'), ('PD', '3.11'), ('PA', '4.26'), ('MaxH', '2.11'), ('MaxD', '3.25'), ('MaxA', '4.26'), ('AvgH', '2.02'), ('AvgD', '3.12'), ('AvgA', '3.98')])\n",
      "OrderedDict([('Country', 'Brazil'), ('League', 'Serie A'), ('Season', '2019'), ('Date', '12/05/2019'), ('Time', '20:00'), ('Home', 'Santos'), ('Away', 'Vasco'), ('HG', '3'), ('AG', '0'), ('Res', 'H'), ('PH', '1.4'), ('PD', '4.71'), ('PA', '8.56'), ('MaxH', '1.48'), ('MaxD', '4.8'), ('MaxA', '8.56'), ('AvgH', '1.4'), ('AvgD', '4.52'), ('AvgA', '7.44')])\n",
      "OrderedDict([('Country', 'Brazil'), ('League', 'Serie A'), ('Season', '2019'), ('Date', '12/05/2019'), ('Time', '23:00'), ('Home', 'Athletico-PR'), ('Away', 'Bahia'), ('HG', '1'), ('AG', '0'), ('Res', 'H'), ('PH', '1.85'), ('PD', '3.49'), ('PA', '4.79'), ('MaxH', '1.87'), ('MaxD', '3.75'), ('MaxA', '5'), ('AvgH', '1.8'), ('AvgD', '3.39'), ('AvgA', '4.59')])\n",
      "OrderedDict([('Country', 'Brazil'), ('League', 'Serie A'), ('Season', '2019'), ('Date', '12/05/2019'), ('Time', '23:00'), ('Home', 'Avai'), ('Away', 'CSA'), ('HG', '0'), ('AG', '0'), ('Res', 'D'), ('PH', '1.7'), ('PD', '3.67'), ('PA', '5.62'), ('MaxH', '1.75'), ('MaxD', '3.75'), ('MaxA', '5.8'), ('AvgH', '1.69'), ('AvgD', '3.5'), ('AvgA', '5.28')])\n",
      "OrderedDict([('Country', 'Brazil'), ('League', 'Serie A'), ('Season', '2019'), ('Date', '12/05/2019'), ('Time', '23:00'), ('Home', 'Fortaleza'), ('Away', 'Sao Paulo'), ('HG', '0'), ('AG', '1'), ('Res', 'A'), ('PH', '2.97'), ('PD', '3'), ('PA', '2.77'), ('MaxH', '3'), ('MaxD', '3.15'), ('MaxA', '2.77'), ('AvgH', '2.86'), ('AvgD', '3.03'), ('AvgA', '2.58')])\n"
     ]
    }
   ],
   "source": [
    "import csv\n",
    "\n",
    "with open('brasileiro.csv', 'r', encoding='utf-8') as acsv:\n",
    "    arq = csv.DictReader(acsv, delimiter = ';')\n",
    "    for linha in arq:\n",
    "        print(linha)"
   ]
  },
  {
   "cell_type": "code",
   "execution_count": null,
   "metadata": {},
   "outputs": [],
   "source": []
  }
 ],
 "metadata": {
  "kernelspec": {
   "display_name": "Python 3",
   "language": "python",
   "name": "python3"
  },
  "language_info": {
   "codemirror_mode": {
    "name": "ipython",
    "version": 3
   },
   "file_extension": ".py",
   "mimetype": "text/x-python",
   "name": "python",
   "nbconvert_exporter": "python",
   "pygments_lexer": "ipython3",
   "version": "3.7.1"
  },
  "varInspector": {
   "cols": {
    "lenName": 16,
    "lenType": 16,
    "lenVar": 40
   },
   "kernels_config": {
    "python": {
     "delete_cmd_postfix": "",
     "delete_cmd_prefix": "del ",
     "library": "var_list.py",
     "varRefreshCmd": "print(var_dic_list())"
    },
    "r": {
     "delete_cmd_postfix": ") ",
     "delete_cmd_prefix": "rm(",
     "library": "var_list.r",
     "varRefreshCmd": "cat(var_dic_list()) "
    }
   },
   "types_to_exclude": [
    "module",
    "function",
    "builtin_function_or_method",
    "instance",
    "_Feature"
   ],
   "window_display": false
  }
 },
 "nbformat": 4,
 "nbformat_minor": 2
}
