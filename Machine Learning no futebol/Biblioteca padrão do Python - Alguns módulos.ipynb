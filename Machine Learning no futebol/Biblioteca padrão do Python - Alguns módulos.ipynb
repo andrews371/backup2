{
 "cells": [
  {
   "cell_type": "code",
   "execution_count": 1,
   "metadata": {},
   "outputs": [],
   "source": [
    "# Bibliotecas que são padrão não precisam ser instaladas, basta importá-las"
   ]
  },
  {
   "cell_type": "code",
   "execution_count": 1,
   "metadata": {},
   "outputs": [],
   "source": [
    "# Na documentação do python tem todas as bibliotecas padrão "
   ]
  },
  {
   "cell_type": "code",
   "execution_count": 7,
   "metadata": {},
   "outputs": [],
   "source": [
    "# vamos importar a biblioteca de estatísticas, mas lembrando que elas não são tão usadas para ciência de dados\n",
    "# pois têm outras mais usadas por serem mais eficientes para esse fim\n",
    "# veremos elas depois, mas é bom conhecer essa também"
   ]
  },
  {
   "cell_type": "code",
   "execution_count": 15,
   "metadata": {},
   "outputs": [],
   "source": [
    "# na documentaçao mostra usos dessa biblioteca como mostra uso e explicação para tudo de python (bibliotecas,\n",
    "# erros, exceções, funções, etc)"
   ]
  },
  {
   "cell_type": "code",
   "execution_count": 16,
   "metadata": {},
   "outputs": [],
   "source": [
    "import statistics"
   ]
  },
  {
   "cell_type": "code",
   "execution_count": 18,
   "metadata": {},
   "outputs": [
    {
     "data": {
      "text/plain": [
       "1.5"
      ]
     },
     "execution_count": 18,
     "metadata": {},
     "output_type": "execute_result"
    }
   ],
   "source": [
    "statistics.mean([1, 2, 1.5])"
   ]
  },
  {
   "cell_type": "code",
   "execution_count": 20,
   "metadata": {},
   "outputs": [
    {
     "data": {
      "text/plain": [
       "1.5"
      ]
     },
     "execution_count": 20,
     "metadata": {},
     "output_type": "execute_result"
    }
   ],
   "source": [
    "# também podemos importar utilizando um alias (apelido)\n",
    "\n",
    "import statistics as s\n",
    "s.mean([1, 2, 1.5])"
   ]
  },
  {
   "cell_type": "code",
   "execution_count": 22,
   "metadata": {},
   "outputs": [
    {
     "data": {
      "text/plain": [
       "1.5"
      ]
     },
     "execution_count": 22,
     "metadata": {},
     "output_type": "execute_result"
    }
   ],
   "source": [
    "# importando das 2 maneiras anteriores se importa toda a biblioteca e isso gasta mais processamento\n",
    "# e muitas vezes só queremos uma função da biblioteca e não várias\n",
    "# sendo assim podemos importar só aquilo que queremos caso não queiramos muita coisa dela\n",
    "\n",
    "from statistics import mean\n",
    "mean([1, 2, 1.5])"
   ]
  },
  {
   "cell_type": "code",
   "execution_count": 24,
   "metadata": {},
   "outputs": [
    {
     "data": {
      "text/plain": [
       "1.5"
      ]
     },
     "execution_count": 24,
     "metadata": {},
     "output_type": "execute_result"
    }
   ],
   "source": [
    "from statistics import mean as m\n",
    "m([1, 2, 1.5])"
   ]
  },
  {
   "cell_type": "code",
   "execution_count": 25,
   "metadata": {},
   "outputs": [],
   "source": [
    "# podemos ver que todos esses resultados são equivalentes. Resta ver o que é mais conveniente"
   ]
  },
  {
   "cell_type": "code",
   "execution_count": 27,
   "metadata": {},
   "outputs": [
    {
     "name": "stdout",
     "output_type": "stream",
     "text": [
      "media 1.5\n",
      "mediana 5\n"
     ]
    }
   ],
   "source": [
    "# para importar mais de um método fazemos:\n",
    "\n",
    "from statistics import mean, median\n",
    "a = mean([1, 2, 1.5])\n",
    "b = median([1, 3, 5, 6, 8])\n",
    "print(f'media {a}')\n",
    "print(f'mediana {b}')"
   ]
  },
  {
   "cell_type": "code",
   "execution_count": 29,
   "metadata": {},
   "outputs": [
    {
     "name": "stdout",
     "output_type": "stream",
     "text": [
      "media 1.5\n",
      "mediana 5\n"
     ]
    }
   ],
   "source": [
    "# ou usando o alias\n",
    "\n",
    "from statistics import mean as m, median as mm\n",
    "a = m([1, 2, 1.5])\n",
    "b = mm([1, 3, 5, 6, 8])\n",
    "print(f'media {a}')\n",
    "print(f'mediana {b}')"
   ]
  },
  {
   "cell_type": "code",
   "execution_count": 4,
   "metadata": {},
   "outputs": [
    {
     "data": {
      "text/plain": [
       "7.3"
      ]
     },
     "execution_count": 4,
     "metadata": {},
     "output_type": "execute_result"
    }
   ],
   "source": [
    "# Temos tbm esta outra forma apesar de que ela não é recomendada pq qnd for chamar o método, por exemplo variance()\n",
    "# em outro trecho do código, não sabemos de que biblioteca esse método é já que não especifica ao contrário dos outros.\n",
    "\n",
    "from statistics import * # é o mesmo que colocar todos os métodos aqui\n",
    "variance([1, 3, 5, 6, 8]) # a diferença pra \"import statistics\" é que não precisamos usar nenhum nome(statistics).método\n",
    "                          # para chamar o método, apenas digitamos o método desejado.\n"
   ]
  },
  {
   "cell_type": "code",
   "execution_count": 6,
   "metadata": {},
   "outputs": [],
   "source": [
    "# biblioteca math\n",
    "\n",
    "import math"
   ]
  },
  {
   "cell_type": "code",
   "execution_count": 10,
   "metadata": {},
   "outputs": [
    {
     "data": {
      "text/plain": [
       "4.5"
      ]
     },
     "execution_count": 10,
     "metadata": {},
     "output_type": "execute_result"
    }
   ],
   "source": [
    "math.fabs(-4.5)"
   ]
  },
  {
   "cell_type": "code",
   "execution_count": 11,
   "metadata": {},
   "outputs": [
    {
     "data": {
      "text/plain": [
       "24"
      ]
     },
     "execution_count": 11,
     "metadata": {},
     "output_type": "execute_result"
    }
   ],
   "source": [
    "math.factorial(4)"
   ]
  },
  {
   "cell_type": "code",
   "execution_count": 13,
   "metadata": {},
   "outputs": [
    {
     "data": {
      "text/plain": [
       "9.0"
      ]
     },
     "execution_count": 13,
     "metadata": {},
     "output_type": "execute_result"
    }
   ],
   "source": [
    "math.fsum([1,3,5])"
   ]
  },
  {
   "cell_type": "code",
   "execution_count": 16,
   "metadata": {},
   "outputs": [
    {
     "data": {
      "text/plain": [
       "1.0"
      ]
     },
     "execution_count": 16,
     "metadata": {},
     "output_type": "execute_result"
    }
   ],
   "source": [
    "math.remainder(1,3) # resto da divisão do primeiro argumento pelo segundo"
   ]
  },
  {
   "cell_type": "code",
   "execution_count": 18,
   "metadata": {},
   "outputs": [
    {
     "data": {
      "text/plain": [
       "8.0"
      ]
     },
     "execution_count": 18,
     "metadata": {},
     "output_type": "execute_result"
    }
   ],
   "source": [
    "math.pow(2,3) # potência. Tanto essa potência como o resto visto acima podem ser feitos de outra forma"
   ]
  },
  {
   "cell_type": "code",
   "execution_count": 20,
   "metadata": {},
   "outputs": [
    {
     "data": {
      "text/plain": [
       "3.0"
      ]
     },
     "execution_count": 20,
     "metadata": {},
     "output_type": "execute_result"
    }
   ],
   "source": [
    "math.sqrt(9) # raíz quadrada"
   ]
  },
  {
   "cell_type": "code",
   "execution_count": 27,
   "metadata": {},
   "outputs": [
    {
     "data": {
      "text/plain": [
       "0.7853981633974483"
      ]
     },
     "execution_count": 27,
     "metadata": {},
     "output_type": "execute_result"
    }
   ],
   "source": [
    "math.radians(45)"
   ]
  },
  {
   "cell_type": "code",
   "execution_count": 23,
   "metadata": {},
   "outputs": [
    {
     "data": {
      "text/plain": [
       "0.8660254037844387"
      ]
     },
     "execution_count": 23,
     "metadata": {},
     "output_type": "execute_result"
    }
   ],
   "source": [
    "math.cos(math.radians(30))"
   ]
  },
  {
   "cell_type": "code",
   "execution_count": 24,
   "metadata": {},
   "outputs": [
    {
     "data": {
      "text/plain": [
       "0.49999999999999994"
      ]
     },
     "execution_count": 24,
     "metadata": {},
     "output_type": "execute_result"
    }
   ],
   "source": [
    "math.sin(math.radians(30))"
   ]
  },
  {
   "cell_type": "code",
   "execution_count": 25,
   "metadata": {},
   "outputs": [
    {
     "data": {
      "text/plain": [
       "0.9999999999999999"
      ]
     },
     "execution_count": 25,
     "metadata": {},
     "output_type": "execute_result"
    }
   ],
   "source": [
    "math.tan(math.radians(45))"
   ]
  },
  {
   "cell_type": "code",
   "execution_count": 28,
   "metadata": {},
   "outputs": [
    {
     "data": {
      "text/plain": [
       "3.141592653589793"
      ]
     },
     "execution_count": 28,
     "metadata": {},
     "output_type": "execute_result"
    }
   ],
   "source": [
    "math.pi # o mesmo que 180 em radianos"
   ]
  },
  {
   "cell_type": "code",
   "execution_count": 29,
   "metadata": {},
   "outputs": [
    {
     "data": {
      "text/plain": [
       "3.141592653589793"
      ]
     },
     "execution_count": 29,
     "metadata": {},
     "output_type": "execute_result"
    }
   ],
   "source": [
    "math.radians(180)"
   ]
  },
  {
   "cell_type": "code",
   "execution_count": 30,
   "metadata": {},
   "outputs": [
    {
     "data": {
      "text/plain": [
       "2.718281828459045"
      ]
     },
     "execution_count": 30,
     "metadata": {},
     "output_type": "execute_result"
    }
   ],
   "source": [
    "math.e"
   ]
  },
  {
   "cell_type": "code",
   "execution_count": 31,
   "metadata": {},
   "outputs": [],
   "source": [
    "# importando biblioteca de tempo\n",
    "\n",
    "import time\n",
    "t = time.localtime()"
   ]
  },
  {
   "cell_type": "code",
   "execution_count": 32,
   "metadata": {},
   "outputs": [
    {
     "name": "stdout",
     "output_type": "stream",
     "text": [
      "time.struct_time(tm_year=2019, tm_mon=6, tm_mday=18, tm_hour=10, tm_min=21, tm_sec=40, tm_wday=1, tm_yday=169, tm_isdst=0)\n"
     ]
    }
   ],
   "source": [
    "print(t)"
   ]
  },
  {
   "cell_type": "code",
   "execution_count": 33,
   "metadata": {},
   "outputs": [
    {
     "data": {
      "text/plain": [
       "'Tue Jun 18 10:21:40 2019'"
      ]
     },
     "execution_count": 33,
     "metadata": {},
     "output_type": "execute_result"
    }
   ],
   "source": [
    "# convertendo essa visualização de tempo para uma melhor visualização\n",
    "\n",
    "time.asctime(t)"
   ]
  },
  {
   "cell_type": "code",
   "execution_count": 51,
   "metadata": {},
   "outputs": [
    {
     "name": "stdout",
     "output_type": "stream",
     "text": [
      "0\n",
      "1\n",
      "2\n",
      "3\n",
      "4\n",
      "5\n",
      "6\n",
      "7\n",
      "8\n",
      "9\n",
      "0.0017299652099609375\n"
     ]
    }
   ],
   "source": [
    "start = time.time()\n",
    "for i in range(10):\n",
    "    print(i)\n",
    "    \n",
    "end = time.time()\n",
    "print(end-start) # imprime o tempo final - inicial para ver o tempo que levou para executar o trecho de código\n",
    "                 # entre time.time() que está na variável start e time.time() que está na variável end\n"
   ]
  },
  {
   "cell_type": "code",
   "execution_count": 69,
   "metadata": {},
   "outputs": [
    {
     "name": "stdout",
     "output_type": "stream",
     "text": [
      "oi, esperando 2 segundos\n",
      "oi novamente.\n"
     ]
    }
   ],
   "source": [
    "k = 2\n",
    "print(f'oi, esperando {k} segundos')\n",
    "time.sleep(k) # argumento em time está em segundos.\n",
    "print('oi novamente.')"
   ]
  },
  {
   "cell_type": "code",
   "execution_count": 74,
   "metadata": {},
   "outputs": [],
   "source": [
    "# números aleatórios -> em ciência de dados existem outras bibliotecas para se gerar número aletório"
   ]
  },
  {
   "cell_type": "code",
   "execution_count": 86,
   "metadata": {},
   "outputs": [
    {
     "data": {
      "text/plain": [
       "7"
      ]
     },
     "execution_count": 86,
     "metadata": {},
     "output_type": "execute_result"
    }
   ],
   "source": [
    "import random\n",
    "\n",
    "# sempre que executar essa célula o resultado muda\n",
    "random.randrange(0,10) # número pseudo - aleatório entre 0 e 10"
   ]
  },
  {
   "cell_type": "code",
   "execution_count": 81,
   "metadata": {},
   "outputs": [
    {
     "data": {
      "text/plain": [
       "2"
      ]
     },
     "execution_count": 81,
     "metadata": {},
     "output_type": "execute_result"
    }
   ],
   "source": [
    "import random\n",
    "\n",
    "random.seed(1) # sempre que executar essa célular, o número aleatório vai ser o mesmo devido à esse método seed()\n",
    "               # o valor de 1 pode ser substituído por qualquer inteiro\n",
    "random.randrange(0,10) # número pseudo - aleatório entre 0 e 10"
   ]
  },
  {
   "cell_type": "code",
   "execution_count": 165,
   "metadata": {},
   "outputs": [
    {
     "data": {
      "text/plain": [
       "84.12340954622506"
      ]
     },
     "execution_count": 165,
     "metadata": {},
     "output_type": "execute_result"
    }
   ],
   "source": [
    "random.uniform(0,100) # gera números do tipo float nesse intervalo"
   ]
  },
  {
   "cell_type": "code",
   "execution_count": 5,
   "metadata": {},
   "outputs": [
    {
     "data": {
      "text/plain": [
       "'são paulo'"
      ]
     },
     "execution_count": 5,
     "metadata": {},
     "output_type": "execute_result"
    }
   ],
   "source": [
    "lista = ['flamengo', 'palmeiras', 'são paulo', 'internacional']\n",
    "random.choice(lista) # escolhe um elemento aleatório na lista"
   ]
  },
  {
   "cell_type": "code",
   "execution_count": 261,
   "metadata": {},
   "outputs": [
    {
     "data": {
      "text/plain": [
       "['são paulo', 'flamengo', 'internacional', 'palmeiras']"
      ]
     },
     "execution_count": 261,
     "metadata": {},
     "output_type": "execute_result"
    }
   ],
   "source": [
    "# random.shuffle(lista) # embaralha a lista\n",
    "lista"
   ]
  },
  {
   "cell_type": "code",
   "execution_count": 262,
   "metadata": {},
   "outputs": [
    {
     "data": {
      "text/plain": [
       "['palmeiras', 'internacional']"
      ]
     },
     "execution_count": 262,
     "metadata": {},
     "output_type": "execute_result"
    }
   ],
   "source": [
    "random.sample(lista,2) # pega uma amostra aleatória da lista com o número de amostra que eu escolher"
   ]
  },
  {
   "cell_type": "code",
   "execution_count": 291,
   "metadata": {},
   "outputs": [
    {
     "data": {
      "text/plain": [
       "0.6117939507363511"
      ]
     },
     "execution_count": 291,
     "metadata": {},
     "output_type": "execute_result"
    }
   ],
   "source": [
    "# gera um número aleatório entre 0 e 1\n",
    "\n",
    "random.random()"
   ]
  },
  {
   "cell_type": "code",
   "execution_count": 282,
   "metadata": {},
   "outputs": [
    {
     "data": {
      "text/plain": [
       "'Tue Jun 18 10:21:40 2019'"
      ]
     },
     "execution_count": 282,
     "metadata": {},
     "output_type": "execute_result"
    }
   ],
   "source": [
    "time.asctime(t) # essa já tínhamos visto e esse t é uma variável criada antes"
   ]
  },
  {
   "cell_type": "code",
   "execution_count": 283,
   "metadata": {},
   "outputs": [
    {
     "data": {
      "text/plain": [
       "datetime.date(2019, 6, 18)"
      ]
     },
     "execution_count": 283,
     "metadata": {},
     "output_type": "execute_result"
    }
   ],
   "source": [
    "import datetime # semelhante à função da célula de cima, usando o datetime\n",
    "\n",
    "datetime.date.today()"
   ]
  },
  {
   "cell_type": "code",
   "execution_count": 296,
   "metadata": {},
   "outputs": [
    {
     "data": {
      "text/plain": [
       "61.2"
      ]
     },
     "execution_count": 296,
     "metadata": {},
     "output_type": "execute_result"
    }
   ],
   "source": [
    "import collections\n",
    "\n",
    "Bet = collections.namedtuple('Bet', ['valor', 'odd']) # declaração da tupla usando o método \"namedtuple\"\n",
    "b = Bet(120, 1.51)\n",
    "b[0] * (b[1] - 1) # até aqui tudo normal. Mas a vantagem de usar o método \"namedtuple\" está abaixo"
   ]
  },
  {
   "cell_type": "code",
   "execution_count": 297,
   "metadata": {},
   "outputs": [
    {
     "data": {
      "text/plain": [
       "61.2"
      ]
     },
     "execution_count": 297,
     "metadata": {},
     "output_type": "execute_result"
    }
   ],
   "source": [
    "# podemos usar o nome que setamos para fazer referência a um campo da tupla em vez de buscar pelo índice\n",
    "# isso torna a chamada bem mais intuitiva\n",
    "\n",
    "b.valor * (b.odd - 1)"
   ]
  },
  {
   "cell_type": "code",
   "execution_count": 312,
   "metadata": {},
   "outputs": [
    {
     "data": {
      "text/plain": [
       "(120, 1.51)"
      ]
     },
     "execution_count": 312,
     "metadata": {},
     "output_type": "execute_result"
    }
   ],
   "source": [
    "v, o = b\n",
    "v, o"
   ]
  },
  {
   "cell_type": "code",
   "execution_count": 313,
   "metadata": {},
   "outputs": [
    {
     "data": {
      "text/plain": [
       "61.2"
      ]
     },
     "execution_count": 313,
     "metadata": {},
     "output_type": "execute_result"
    }
   ],
   "source": [
    "v * (o - 1)"
   ]
  },
  {
   "cell_type": "code",
   "execution_count": 314,
   "metadata": {},
   "outputs": [
    {
     "data": {
      "text/plain": [
       "Bet(valor=120, odd=1.51)"
      ]
     },
     "execution_count": 314,
     "metadata": {},
     "output_type": "execute_result"
    }
   ],
   "source": [
    "b"
   ]
  },
  {
   "cell_type": "code",
   "execution_count": 316,
   "metadata": {},
   "outputs": [],
   "source": [
    "# b.odd = 2.3 => isso resultaria em erro pq odd assim como valor está como tupla e tupla não pode ser alterada "
   ]
  },
  {
   "cell_type": "code",
   "execution_count": 324,
   "metadata": {},
   "outputs": [
    {
     "name": "stdout",
     "output_type": "stream",
     "text": [
      "['antonio', 'andre', 'lucia', 'lucivânia', 'agnaldo', 'pedro', 'francisco', 'thiago']\n"
     ]
    }
   ],
   "source": [
    "# biblioteca pprint apresenta um print para visualização de forma mais elegante que o print convencional\n",
    "# permite uma melhor organização da saída que vai ser mostrada\n",
    "# útil principalmente para grandes dicionários ou json que vamos em ciência de dados\n",
    "\n",
    "import pprint\n",
    "\n",
    "lista = ['antonio', 'andre', 'lucia', 'lucivânia', 'agnaldo', 'pedro', 'francisco', 'thiago']\n",
    "print(lista) "
   ]
  },
  {
   "cell_type": "code",
   "execution_count": 325,
   "metadata": {},
   "outputs": [
    {
     "name": "stdout",
     "output_type": "stream",
     "text": [
      "['antonio',\n",
      " 'andre',\n",
      " 'lucia',\n",
      " 'lucivânia',\n",
      " 'agnaldo',\n",
      " 'pedro',\n",
      " 'francisco',\n",
      " 'thiago']\n"
     ]
    }
   ],
   "source": [
    "pprint.pprint(lista)"
   ]
  },
  {
   "cell_type": "code",
   "execution_count": 344,
   "metadata": {},
   "outputs": [
    {
     "name": "stdout",
     "output_type": "stream",
     "text": [
      "[   'antonio',\n",
      "    'andre',\n",
      "    'lucia',\n",
      "    'lucivânia',\n",
      "    'agnaldo',\n",
      "    'pedro',\n",
      "    'francisco',\n",
      "    'thiago']\n"
     ]
    }
   ],
   "source": [
    "pp = pprint.PrettyPrinter(indent = 4) # temos uma indentação em comparação à exibição anterior\n",
    "pp.pprint(lista) # como dito, é muito útil para grandes dicionários e json como veremos mais adiante\n",
    "                 # para esse caso de teste usei lista para não ter que fazer dicionários grandes"
   ]
  },
  {
   "cell_type": "code",
   "execution_count": 345,
   "metadata": {},
   "outputs": [],
   "source": [
    "# pp = pprint.PrettyPrinter(indent = 4, width = 80) => tbm podemos usar width para determinar a largura"
   ]
  },
  {
   "cell_type": "code",
   "execution_count": 356,
   "metadata": {},
   "outputs": [],
   "source": [
    "dic = {'c1':'abel', 'c2':'vanderlei', 'c3':'caetano','c4':{'c4.1':'abel2','c4.2':'vanderlei2'}, 'c5':{'c5.1':'rafael','c5.2':'andre'}}"
   ]
  },
  {
   "cell_type": "code",
   "execution_count": 357,
   "metadata": {},
   "outputs": [
    {
     "name": "stdout",
     "output_type": "stream",
     "text": [
      "{'c1': 'abel', 'c2': 'vanderlei', 'c3': 'caetano', 'c4': {'c4.1': 'abel2', 'c4.2': 'vanderlei2'}, 'c5': {'c5.1': 'rafael', 'c5.2': 'andre'}}\n"
     ]
    }
   ],
   "source": [
    "print(dic)"
   ]
  },
  {
   "cell_type": "code",
   "execution_count": 366,
   "metadata": {},
   "outputs": [
    {
     "name": "stdout",
     "output_type": "stream",
     "text": [
      "{   'c1': 'abel',\n",
      "    'c2': 'vanderlei',\n",
      "    'c3': 'caetano',\n",
      "    'c4': {'c4.1': 'abel2', 'c4.2': 'vanderlei2'},\n",
      "    'c5': {'c5.1': 'rafael', 'c5.2': 'andre'}}\n"
     ]
    }
   ],
   "source": [
    "pprint.pprint(dic, indent = 4, width = 100) # mesmo conteúdo exibido pelo print() anterior, só que é bem melhor\n",
    "                                            # de visualizar"
   ]
  },
  {
   "cell_type": "code",
   "execution_count": 388,
   "metadata": {},
   "outputs": [],
   "source": [
    "# lembrando que cada biblioteca dessa, por exemplo, pprint, tem muitos outros métodos, abordamos apenas alguns métodos\n",
    "# e algumas bibliotecas (módulos) da bilioteca padrão. Para ver mais bibliotecas ou mais métodos dessas bibliotecas \n",
    "# vistas aqui podemos ir na documentação do python que tem tudo lá como já dito anteriormente."
   ]
  }
 ],
 "metadata": {
  "kernelspec": {
   "display_name": "Python 3",
   "language": "python",
   "name": "python3"
  },
  "language_info": {
   "codemirror_mode": {
    "name": "ipython",
    "version": 3
   },
   "file_extension": ".py",
   "mimetype": "text/x-python",
   "name": "python",
   "nbconvert_exporter": "python",
   "pygments_lexer": "ipython3",
   "version": "3.7.1"
  },
  "varInspector": {
   "cols": {
    "lenName": 16,
    "lenType": 16,
    "lenVar": 40
   },
   "kernels_config": {
    "python": {
     "delete_cmd_postfix": "",
     "delete_cmd_prefix": "del ",
     "library": "var_list.py",
     "varRefreshCmd": "print(var_dic_list())"
    },
    "r": {
     "delete_cmd_postfix": ") ",
     "delete_cmd_prefix": "rm(",
     "library": "var_list.r",
     "varRefreshCmd": "cat(var_dic_list()) "
    }
   },
   "types_to_exclude": [
    "module",
    "function",
    "builtin_function_or_method",
    "instance",
    "_Feature"
   ],
   "window_display": false
  }
 },
 "nbformat": 4,
 "nbformat_minor": 2
}
