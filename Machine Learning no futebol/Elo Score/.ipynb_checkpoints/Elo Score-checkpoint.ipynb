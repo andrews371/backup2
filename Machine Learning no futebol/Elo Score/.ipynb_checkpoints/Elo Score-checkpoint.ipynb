{
 "cells": [
  {
   "cell_type": "code",
   "execution_count": 1,
   "metadata": {},
   "outputs": [],
   "source": [
    "import glob # para mexer com vários arquivos varrendo todos com mesma extensão e transformando num grande data set\n",
    "import pandas as pd\n",
    "import numpy as np\n",
    "import matplotlib\n",
    "import matplotlib.pyplot as plt # mais usadas essa e a de baixo\n",
    "import seaborn as sns\n",
    "import warnings\n",
    "\n",
    "warnings.filterwarnings('ignore')\n",
    "%matplotlib inline\n",
    "matplotlib.style.use('default')\n",
    "plt.rcParams['figure.figsize'] = [6, 4]\n",
    "\n",
    "#Pandas Settings\n",
    "pd.options.display.float_format = '{:,.2f}'.format"
   ]
  },
  {
   "cell_type": "markdown",
   "metadata": {},
   "source": [
    "## Fazendo loop nos arquivos da pasta\n",
    "\n"
   ]
  },
  {
   "cell_type": "code",
   "execution_count": 2,
   "metadata": {},
   "outputs": [],
   "source": [
    "# lista com o caminho + nome dos arquivos .csv (apenas caminho + nome.csv). não tem nenhuma informação extra\n",
    "\n",
    "file_list = [f for f in glob.glob(\"*.csv\")]"
   ]
  },
  {
   "cell_type": "code",
   "execution_count": 3,
   "metadata": {},
   "outputs": [
    {
     "data": {
      "text/plain": [
       "(272, 58)"
      ]
     },
     "metadata": {},
     "output_type": "display_data"
    },
    {
     "data": {
      "text/html": [
       "<div>\n",
       "<style scoped>\n",
       "    .dataframe tbody tr th:only-of-type {\n",
       "        vertical-align: middle;\n",
       "    }\n",
       "\n",
       "    .dataframe tbody tr th {\n",
       "        vertical-align: top;\n",
       "    }\n",
       "\n",
       "    .dataframe thead th {\n",
       "        text-align: right;\n",
       "    }\n",
       "</style>\n",
       "<table border=\"1\" class=\"dataframe\">\n",
       "  <thead>\n",
       "    <tr style=\"text-align: right;\">\n",
       "      <th></th>\n",
       "      <th>Div</th>\n",
       "      <th>Date</th>\n",
       "      <th>HomeTeam</th>\n",
       "      <th>AwayTeam</th>\n",
       "      <th>FTHG</th>\n",
       "      <th>FTAG</th>\n",
       "      <th>FTR</th>\n",
       "      <th>HTHG</th>\n",
       "      <th>HTAG</th>\n",
       "      <th>HTR</th>\n",
       "      <th>...</th>\n",
       "      <th>BbMx&gt;2.5</th>\n",
       "      <th>BbAv&gt;2.5</th>\n",
       "      <th>BbMx&lt;2.5</th>\n",
       "      <th>BbAv&lt;2.5</th>\n",
       "      <th>BbAH</th>\n",
       "      <th>BbAHh</th>\n",
       "      <th>BbMxAHH</th>\n",
       "      <th>BbAvAHH</th>\n",
       "      <th>BbMxAHA</th>\n",
       "      <th>BbAvAHA</th>\n",
       "    </tr>\n",
       "  </thead>\n",
       "  <tbody>\n",
       "    <tr>\n",
       "      <th>0</th>\n",
       "      <td>T1</td>\n",
       "      <td>07/08/09</td>\n",
       "      <td>Buyuksehyr</td>\n",
       "      <td>Besiktas</td>\n",
       "      <td>1</td>\n",
       "      <td>1</td>\n",
       "      <td>D</td>\n",
       "      <td>1.00</td>\n",
       "      <td>1.00</td>\n",
       "      <td>D</td>\n",
       "      <td>...</td>\n",
       "      <td>2.20</td>\n",
       "      <td>2.00</td>\n",
       "      <td>1.80</td>\n",
       "      <td>1.75</td>\n",
       "      <td>11</td>\n",
       "      <td>0.50</td>\n",
       "      <td>2.12</td>\n",
       "      <td>2.07</td>\n",
       "      <td>1.83</td>\n",
       "      <td>1.82</td>\n",
       "    </tr>\n",
       "    <tr>\n",
       "      <th>1</th>\n",
       "      <td>T1</td>\n",
       "      <td>08/08/09</td>\n",
       "      <td>Diyarbakirspor</td>\n",
       "      <td>Ankaragucu</td>\n",
       "      <td>2</td>\n",
       "      <td>2</td>\n",
       "      <td>D</td>\n",
       "      <td>1.00</td>\n",
       "      <td>2.00</td>\n",
       "      <td>A</td>\n",
       "      <td>...</td>\n",
       "      <td>2.33</td>\n",
       "      <td>2.14</td>\n",
       "      <td>1.70</td>\n",
       "      <td>1.64</td>\n",
       "      <td>13</td>\n",
       "      <td>0.00</td>\n",
       "      <td>1.85</td>\n",
       "      <td>1.79</td>\n",
       "      <td>2.11</td>\n",
       "      <td>1.98</td>\n",
       "    </tr>\n",
       "    <tr>\n",
       "      <th>2</th>\n",
       "      <td>T1</td>\n",
       "      <td>08/08/09</td>\n",
       "      <td>Sivasspor</td>\n",
       "      <td>Trabzonspor</td>\n",
       "      <td>1</td>\n",
       "      <td>2</td>\n",
       "      <td>A</td>\n",
       "      <td>0.00</td>\n",
       "      <td>1.00</td>\n",
       "      <td>A</td>\n",
       "      <td>...</td>\n",
       "      <td>2.22</td>\n",
       "      <td>2.07</td>\n",
       "      <td>1.75</td>\n",
       "      <td>1.68</td>\n",
       "      <td>13</td>\n",
       "      <td>0.00</td>\n",
       "      <td>2.05</td>\n",
       "      <td>1.94</td>\n",
       "      <td>1.89</td>\n",
       "      <td>1.83</td>\n",
       "    </tr>\n",
       "    <tr>\n",
       "      <th>3</th>\n",
       "      <td>T1</td>\n",
       "      <td>09/08/09</td>\n",
       "      <td>Bursaspor</td>\n",
       "      <td>Kasimpasa</td>\n",
       "      <td>2</td>\n",
       "      <td>1</td>\n",
       "      <td>H</td>\n",
       "      <td>0.00</td>\n",
       "      <td>0.00</td>\n",
       "      <td>D</td>\n",
       "      <td>...</td>\n",
       "      <td>2.12</td>\n",
       "      <td>2.03</td>\n",
       "      <td>1.82</td>\n",
       "      <td>1.73</td>\n",
       "      <td>12</td>\n",
       "      <td>-1.00</td>\n",
       "      <td>1.81</td>\n",
       "      <td>1.78</td>\n",
       "      <td>2.15</td>\n",
       "      <td>2.11</td>\n",
       "    </tr>\n",
       "    <tr>\n",
       "      <th>4</th>\n",
       "      <td>T1</td>\n",
       "      <td>09/08/09</td>\n",
       "      <td>Denizlispor</td>\n",
       "      <td>Fenerbahce</td>\n",
       "      <td>0</td>\n",
       "      <td>2</td>\n",
       "      <td>A</td>\n",
       "      <td>0.00</td>\n",
       "      <td>1.00</td>\n",
       "      <td>A</td>\n",
       "      <td>...</td>\n",
       "      <td>1.91</td>\n",
       "      <td>1.82</td>\n",
       "      <td>2.01</td>\n",
       "      <td>1.92</td>\n",
       "      <td>13</td>\n",
       "      <td>0.50</td>\n",
       "      <td>2.08</td>\n",
       "      <td>2.04</td>\n",
       "      <td>1.88</td>\n",
       "      <td>1.84</td>\n",
       "    </tr>\n",
       "  </tbody>\n",
       "</table>\n",
       "<p>5 rows × 58 columns</p>\n",
       "</div>"
      ],
      "text/plain": [
       "  Div      Date        HomeTeam     AwayTeam  FTHG  FTAG FTR  HTHG  HTAG HTR  \\\n",
       "0  T1  07/08/09      Buyuksehyr     Besiktas     1     1   D  1.00  1.00   D   \n",
       "1  T1  08/08/09  Diyarbakirspor   Ankaragucu     2     2   D  1.00  2.00   A   \n",
       "2  T1  08/08/09       Sivasspor  Trabzonspor     1     2   A  0.00  1.00   A   \n",
       "3  T1  09/08/09       Bursaspor    Kasimpasa     2     1   H  0.00  0.00   D   \n",
       "4  T1  09/08/09     Denizlispor   Fenerbahce     0     2   A  0.00  1.00   A   \n",
       "\n",
       "    ...     BbMx>2.5  BbAv>2.5  BbMx<2.5  BbAv<2.5  BbAH  BbAHh  BbMxAHH  \\\n",
       "0   ...         2.20      2.00      1.80      1.75    11   0.50     2.12   \n",
       "1   ...         2.33      2.14      1.70      1.64    13   0.00     1.85   \n",
       "2   ...         2.22      2.07      1.75      1.68    13   0.00     2.05   \n",
       "3   ...         2.12      2.03      1.82      1.73    12  -1.00     1.81   \n",
       "4   ...         1.91      1.82      2.01      1.92    13   0.50     2.08   \n",
       "\n",
       "   BbAvAHH  BbMxAHA  BbAvAHA  \n",
       "0     2.07     1.83     1.82  \n",
       "1     1.79     2.11     1.98  \n",
       "2     1.94     1.89     1.83  \n",
       "3     1.78     2.15     2.11  \n",
       "4     2.04     1.88     1.84  \n",
       "\n",
       "[5 rows x 58 columns]"
      ]
     },
     "execution_count": 3,
     "metadata": {},
     "output_type": "execute_result"
    }
   ],
   "source": [
    "# obs: o \"encoding = 'unicode_escape'\" é usado para não dá erro que daria em alguns casos qnd \n",
    "# se lê como dataframe e há algum problema de codificação, então isso evita o erro\n",
    "\n",
    "df = pd.read_csv(file_list[21],encoding = 'unicode_escape') # df é um dataframe apenas para o arquivo arquivo 21 do file_list\n",
    "display(df.shape) # mostra as linhas e colunas. Se usasse num for podia mostrar linhas e colunas de cada arquivo\n",
    "df.head()"
   ]
  },
  {
   "cell_type": "code",
   "execution_count": 4,
   "metadata": {},
   "outputs": [],
   "source": [
    "# criando um dataframe para todos os arquivos do file_list e não apenas para um como feito anteriormente\n",
    "\n",
    "df_list = [pd.read_csv(f,encoding = 'unicode_escape') for f in file_list]"
   ]
  },
  {
   "cell_type": "code",
   "execution_count": 5,
   "metadata": {},
   "outputs": [
    {
     "data": {
      "text/plain": [
       "Index(['Div', 'Date', 'HomeTeam', 'AwayTeam', 'FTHG', 'FTAG', 'FTR', 'HTHG',\n",
       "       'HTAG', 'HTR', 'HS', 'AS', 'HST', 'AST', 'HFKC', 'AFKC', 'HC', 'AC',\n",
       "       'HY', 'AY', 'HR', 'AR', 'B365H', 'B365D', 'B365A', 'BWH', 'BWD', 'BWA',\n",
       "       'IWH', 'IWD', 'IWA', 'LBH', 'LBD', 'LBA', 'PSH', 'PSD', 'PSA', 'WHH',\n",
       "       'WHD', 'WHA', 'VCH', 'VCD', 'VCA', 'Bb1X2', 'BbMxH', 'BbAvH', 'BbMxD',\n",
       "       'BbAvD', 'BbMxA', 'BbAvA', 'BbOU', 'BbMx>2.5', 'BbAv>2.5', 'BbMx<2.5',\n",
       "       'BbAv<2.5', 'BbAH', 'BbAHh', 'BbMxAHH', 'BbAvAHH', 'BbMxAHA', 'BbAvAHA',\n",
       "       'PSCH', 'PSCD', 'PSCA'],\n",
       "      dtype='object')"
      ]
     },
     "execution_count": 5,
     "metadata": {},
     "output_type": "execute_result"
    }
   ],
   "source": [
    "df_list[0].columns # aprensenta as colunas do dataframe 0"
   ]
  },
  {
   "cell_type": "markdown",
   "metadata": {},
   "source": [
    "## Gerando o dadaset final"
   ]
  },
  {
   "cell_type": "code",
   "execution_count": 6,
   "metadata": {},
   "outputs": [],
   "source": [
    "for i in range(len(df_list)):\n",
    "    \n",
    "    # vai percorrer o dataframe e o if verifica se tem a coluna \"Home\" em df_list, se tiver (por conhecer o arquivo) \n",
    "    # se sabe que este df_list (nesta posição) tem uma nomenclatura diferente que pode atrapalhar na análise\n",
    "    # dos dados, então padronizamos a nomenclatura, substituindo \"Home\" por \"HomeTeam\", \"Away\" por \"AwayTeam\"\n",
    "    # \"Res\" por \"FTR\", ... e \"AvgA\" por \"B365A\" como está abaixo\n",
    "    if 'Home' in list(df_list[i].columns):\n",
    "        df_list[i] = df_list[i].rename(columns={'Home':'HomeTeam', 'Away':'AwayTeam', 'Res':'FTR',\n",
    "                                              'AvgH':'B365H', 'AvgD':'B365D', 'AvgA':'B365A'})"
   ]
  },
  {
   "cell_type": "code",
   "execution_count": 7,
   "metadata": {},
   "outputs": [],
   "source": [
    "# pegando as colunas que vc precisa em um momento\n",
    "columns = ['HomeTeam','AwayTeam','FTR','B365H','B365D','B365A','Div','Date']\n",
    "new_df_list = []\n",
    "for i in range(len(df_list)):\n",
    "    new_df_list.append(df_list[i][columns])"
   ]
  },
  {
   "cell_type": "code",
   "execution_count": 8,
   "metadata": {},
   "outputs": [
    {
     "data": {
      "text/plain": [
       "(33248, 8)"
      ]
     },
     "execution_count": 8,
     "metadata": {},
     "output_type": "execute_result"
    }
   ],
   "source": [
    "final_dataset = pd.concat(new_df_list, sort=False).reset_index(drop=True) # o reset_index é para remover a coluna de índice\n",
    "final_dataset.shape"
   ]
  },
  {
   "cell_type": "code",
   "execution_count": 9,
   "metadata": {},
   "outputs": [
    {
     "data": {
      "text/html": [
       "<div>\n",
       "<style scoped>\n",
       "    .dataframe tbody tr th:only-of-type {\n",
       "        vertical-align: middle;\n",
       "    }\n",
       "\n",
       "    .dataframe tbody tr th {\n",
       "        vertical-align: top;\n",
       "    }\n",
       "\n",
       "    .dataframe thead th {\n",
       "        text-align: right;\n",
       "    }\n",
       "</style>\n",
       "<table border=\"1\" class=\"dataframe\">\n",
       "  <thead>\n",
       "    <tr style=\"text-align: right;\">\n",
       "      <th></th>\n",
       "      <th>HomeTeam</th>\n",
       "      <th>AwayTeam</th>\n",
       "      <th>FTR</th>\n",
       "      <th>B365H</th>\n",
       "      <th>B365D</th>\n",
       "      <th>B365A</th>\n",
       "      <th>Div</th>\n",
       "      <th>Date</th>\n",
       "    </tr>\n",
       "  </thead>\n",
       "  <tbody>\n",
       "    <tr>\n",
       "      <th>0</th>\n",
       "      <td>Asteras Tripolis</td>\n",
       "      <td>Giannina</td>\n",
       "      <td>A</td>\n",
       "      <td>1.70</td>\n",
       "      <td>3.40</td>\n",
       "      <td>5.50</td>\n",
       "      <td>G1</td>\n",
       "      <td>19/08/17</td>\n",
       "    </tr>\n",
       "    <tr>\n",
       "      <th>1</th>\n",
       "      <td>Olympiakos</td>\n",
       "      <td>Larisa</td>\n",
       "      <td>H</td>\n",
       "      <td>1.17</td>\n",
       "      <td>7.00</td>\n",
       "      <td>15.00</td>\n",
       "      <td>G1</td>\n",
       "      <td>19/08/17</td>\n",
       "    </tr>\n",
       "    <tr>\n",
       "      <th>2</th>\n",
       "      <td>Xanthi</td>\n",
       "      <td>Lamia</td>\n",
       "      <td>D</td>\n",
       "      <td>1.67</td>\n",
       "      <td>3.30</td>\n",
       "      <td>6.00</td>\n",
       "      <td>G1</td>\n",
       "      <td>19/08/17</td>\n",
       "    </tr>\n",
       "    <tr>\n",
       "      <th>3</th>\n",
       "      <td>AEK</td>\n",
       "      <td>Panetolikos</td>\n",
       "      <td>H</td>\n",
       "      <td>1.36</td>\n",
       "      <td>4.50</td>\n",
       "      <td>9.00</td>\n",
       "      <td>G1</td>\n",
       "      <td>20/08/17</td>\n",
       "    </tr>\n",
       "    <tr>\n",
       "      <th>4</th>\n",
       "      <td>Kerkyra</td>\n",
       "      <td>Panionios</td>\n",
       "      <td>A</td>\n",
       "      <td>3.75</td>\n",
       "      <td>3.10</td>\n",
       "      <td>2.10</td>\n",
       "      <td>G1</td>\n",
       "      <td>20/08/17</td>\n",
       "    </tr>\n",
       "  </tbody>\n",
       "</table>\n",
       "</div>"
      ],
      "text/plain": [
       "           HomeTeam     AwayTeam FTR  B365H  B365D  B365A Div      Date\n",
       "0  Asteras Tripolis     Giannina   A   1.70   3.40   5.50  G1  19/08/17\n",
       "1        Olympiakos       Larisa   H   1.17   7.00  15.00  G1  19/08/17\n",
       "2            Xanthi        Lamia   D   1.67   3.30   6.00  G1  19/08/17\n",
       "3               AEK  Panetolikos   H   1.36   4.50   9.00  G1  20/08/17\n",
       "4           Kerkyra    Panionios   A   3.75   3.10   2.10  G1  20/08/17"
      ]
     },
     "metadata": {},
     "output_type": "display_data"
    }
   ],
   "source": [
    "display(final_dataset.head())"
   ]
  },
  {
   "cell_type": "code",
   "execution_count": 10,
   "metadata": {},
   "outputs": [
    {
     "data": {
      "text/html": [
       "<div>\n",
       "<style scoped>\n",
       "    .dataframe tbody tr th:only-of-type {\n",
       "        vertical-align: middle;\n",
       "    }\n",
       "\n",
       "    .dataframe tbody tr th {\n",
       "        vertical-align: top;\n",
       "    }\n",
       "\n",
       "    .dataframe thead th {\n",
       "        text-align: right;\n",
       "    }\n",
       "</style>\n",
       "<table border=\"1\" class=\"dataframe\">\n",
       "  <thead>\n",
       "    <tr style=\"text-align: right;\">\n",
       "      <th></th>\n",
       "      <th>HomeTeam</th>\n",
       "      <th>AwayTeam</th>\n",
       "      <th>FTR</th>\n",
       "      <th>B365H</th>\n",
       "      <th>B365D</th>\n",
       "      <th>B365A</th>\n",
       "      <th>Div</th>\n",
       "      <th>Date</th>\n",
       "    </tr>\n",
       "  </thead>\n",
       "  <tbody>\n",
       "    <tr>\n",
       "      <th>33243</th>\n",
       "      <td>Gent</td>\n",
       "      <td>Mechelen</td>\n",
       "      <td>H</td>\n",
       "      <td>1.53</td>\n",
       "      <td>4.33</td>\n",
       "      <td>4.75</td>\n",
       "      <td>B1</td>\n",
       "      <td>12/03/17</td>\n",
       "    </tr>\n",
       "    <tr>\n",
       "      <th>33244</th>\n",
       "      <td>Kortrijk</td>\n",
       "      <td>Mouscron</td>\n",
       "      <td>A</td>\n",
       "      <td>2.75</td>\n",
       "      <td>3.40</td>\n",
       "      <td>2.30</td>\n",
       "      <td>B1</td>\n",
       "      <td>12/03/17</td>\n",
       "    </tr>\n",
       "    <tr>\n",
       "      <th>33245</th>\n",
       "      <td>Lokeren</td>\n",
       "      <td>Charleroi</td>\n",
       "      <td>D</td>\n",
       "      <td>3.60</td>\n",
       "      <td>3.30</td>\n",
       "      <td>1.95</td>\n",
       "      <td>B1</td>\n",
       "      <td>12/03/17</td>\n",
       "    </tr>\n",
       "    <tr>\n",
       "      <th>33246</th>\n",
       "      <td>Standard</td>\n",
       "      <td>Oostende</td>\n",
       "      <td>D</td>\n",
       "      <td>1.95</td>\n",
       "      <td>3.40</td>\n",
       "      <td>3.50</td>\n",
       "      <td>B1</td>\n",
       "      <td>12/03/17</td>\n",
       "    </tr>\n",
       "    <tr>\n",
       "      <th>33247</th>\n",
       "      <td>Westerlo</td>\n",
       "      <td>Genk</td>\n",
       "      <td>A</td>\n",
       "      <td>2.90</td>\n",
       "      <td>3.30</td>\n",
       "      <td>2.25</td>\n",
       "      <td>B1</td>\n",
       "      <td>12/03/17</td>\n",
       "    </tr>\n",
       "  </tbody>\n",
       "</table>\n",
       "</div>"
      ],
      "text/plain": [
       "       HomeTeam   AwayTeam FTR  B365H  B365D  B365A Div      Date\n",
       "33243      Gent   Mechelen   H   1.53   4.33   4.75  B1  12/03/17\n",
       "33244  Kortrijk   Mouscron   A   2.75   3.40   2.30  B1  12/03/17\n",
       "33245   Lokeren  Charleroi   D   3.60   3.30   1.95  B1  12/03/17\n",
       "33246  Standard   Oostende   D   1.95   3.40   3.50  B1  12/03/17\n",
       "33247  Westerlo       Genk   A   2.90   3.30   2.25  B1  12/03/17"
      ]
     },
     "metadata": {},
     "output_type": "display_data"
    }
   ],
   "source": [
    "display(final_dataset.tail())"
   ]
  },
  {
   "cell_type": "code",
   "execution_count": 11,
   "metadata": {},
   "outputs": [
    {
     "name": "stdout",
     "output_type": "stream",
     "text": [
      "<class 'pandas.core.frame.DataFrame'>\n",
      "RangeIndex: 33248 entries, 0 to 33247\n",
      "Data columns (total 8 columns):\n",
      "HomeTeam    33160 non-null object\n",
      "AwayTeam    33160 non-null object\n",
      "FTR         33158 non-null object\n",
      "B365H       33079 non-null float64\n",
      "B365D       33079 non-null float64\n",
      "B365A       33079 non-null float64\n",
      "Div         33160 non-null object\n",
      "Date        33160 non-null object\n",
      "dtypes: float64(3), object(5)\n",
      "memory usage: 1.4+ MB\n"
     ]
    }
   ],
   "source": [
    "final_dataset.info() # podemos ver que temos informações nulas\n",
    "# pois no total temos colunas (que aqui estão em forma de linha) que não chega no total de índice que é\n",
    "# 33248"
   ]
  },
  {
   "cell_type": "code",
   "execution_count": 12,
   "metadata": {},
   "outputs": [
    {
     "data": {
      "text/plain": [
       "(33078, 8)"
      ]
     },
     "execution_count": 12,
     "metadata": {},
     "output_type": "execute_result"
    }
   ],
   "source": [
    "# aqui removemos as colunas nulas \n",
    "\n",
    "final_dataset.dropna(inplace=True) \n",
    "final_dataset.shape"
   ]
  },
  {
   "cell_type": "code",
   "execution_count": 13,
   "metadata": {},
   "outputs": [],
   "source": [
    "# resetando o índice de novo já que dropou para ir de 0 até o final\n",
    "# sem ficar pulando nenhum valor\n",
    "\n",
    "final_dataset = final_dataset.reset_index(drop=True)"
   ]
  },
  {
   "cell_type": "code",
   "execution_count": 14,
   "metadata": {},
   "outputs": [
    {
     "name": "stdout",
     "output_type": "stream",
     "text": [
      "<class 'pandas.core.frame.DataFrame'>\n",
      "RangeIndex: 33078 entries, 0 to 33077\n",
      "Data columns (total 8 columns):\n",
      "HomeTeam    33078 non-null object\n",
      "AwayTeam    33078 non-null object\n",
      "FTR         33078 non-null object\n",
      "B365H       33078 non-null float64\n",
      "B365D       33078 non-null float64\n",
      "B365A       33078 non-null float64\n",
      "Div         33078 non-null object\n",
      "Date        33078 non-null object\n",
      "dtypes: float64(3), object(5)\n",
      "memory usage: 1.4+ MB\n"
     ]
    }
   ],
   "source": [
    "final_dataset.info()\n",
    "\n",
    "# agora podemos perceber que o total de índice é 33078 e todas as colunas do datasetfinal (HomeTeam, ..., Div)\n",
    "# tem também 33078 no total"
   ]
  },
  {
   "cell_type": "code",
   "execution_count": 15,
   "metadata": {},
   "outputs": [
    {
     "data": {
      "text/plain": [
       "'2017-08-19'"
      ]
     },
     "execution_count": 15,
     "metadata": {},
     "output_type": "execute_result"
    }
   ],
   "source": [
    "data = final_dataset.loc[0,'Date'].split('/')[::-1]\n",
    "ano = '20' + data[0]\n",
    "data[0] = ano\n",
    "'-'.join(data)"
   ]
  },
  {
   "cell_type": "code",
   "execution_count": 16,
   "metadata": {},
   "outputs": [],
   "source": [
    "for key, row in final_dataset.iterrows():\n",
    "    data = row['Date'].split('/')[::-1]\n",
    "    if len(data[0]) == 2:\n",
    "        ano = '20' + data[0]\n",
    "    data[0] = ano\n",
    "    final_dataset.loc[key,'Date'] = '-'.join(data)"
   ]
  },
  {
   "cell_type": "code",
   "execution_count": 17,
   "metadata": {},
   "outputs": [],
   "source": [
    "final_dataset.to_csv('dados_com_data.csv', sep=';')"
   ]
  }
 ],
 "metadata": {
  "kernelspec": {
   "display_name": "Python 3",
   "language": "python",
   "name": "python3"
  },
  "language_info": {
   "codemirror_mode": {
    "name": "ipython",
    "version": 3
   },
   "file_extension": ".py",
   "mimetype": "text/x-python",
   "name": "python",
   "nbconvert_exporter": "python",
   "pygments_lexer": "ipython3",
   "version": "3.7.1"
  }
 },
 "nbformat": 4,
 "nbformat_minor": 2
}
