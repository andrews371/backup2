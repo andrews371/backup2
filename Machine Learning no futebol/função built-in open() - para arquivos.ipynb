{
 "cells": [
  {
   "cell_type": "code",
   "execution_count": 2,
   "metadata": {},
   "outputs": [],
   "source": [
    "# lembrando que para manipulação de arquivos existem outras bibliotecas usadas\n",
    "# para ciência de dados e machine learning. Mas aqui é para ter conhecimento da bibliotecao padrão de python\n",
    "# para manipulação de arquivos"
   ]
  },
  {
   "cell_type": "code",
   "execution_count": 15,
   "metadata": {},
   "outputs": [
    {
     "name": "stdout",
     "output_type": "stream",
     "text": [
      "Nome do arquivo é: titulos.txt\n",
      "Modo de abertura é: r\n"
     ]
    }
   ],
   "source": [
    "a = open('titulos.txt', 'r') # fiz assim pq já existe esse arquivo nessa mesma pasta, se não tivesse eu teria que \n",
    "                        # colocar o caminho completo onde o arquivo está\n",
    "# a primeira linha tbm podeira ser assim: a = open('titulos.txt', mode = 'r') mas como o modo \"r\"\n",
    "# é padrão, não precisamos colocá-lo\n",
    "print(f'Nome do arquivo é: {a.name}')\n",
    "print(f'Modo de abertura é: {a.mode}')    \n",
    "a.close()"
   ]
  },
  {
   "cell_type": "code",
   "execution_count": 18,
   "metadata": {},
   "outputs": [
    {
     "name": "stdout",
     "output_type": "stream",
     "text": [
      "\n"
     ]
    }
   ],
   "source": [
    "# outra maneira utilizada para abrir um arquivo é usando o with pois \n",
    "# ele abre o arquivo e permite diversas intruções serem executadas sem a necessidade de fechar o arquivo\n",
    "# pois ele fecha automaticamente.\n",
    "\n",
    "# Essa maneira é bastante utilizada\n",
    "\n",
    "with open('titulos.txt', 'r') as a:\n",
    "    print(a.read()) # se tentar acessar o arquivo fora do escopo do with vai dar erro pq o arquivo já estará fechado"
   ]
  },
  {
   "cell_type": "code",
   "execution_count": 27,
   "metadata": {},
   "outputs": [],
   "source": [
    "# não mostrou nada pq não tinha nada no arquivo \n",
    "\n",
    "with open('titulos.txt', 'w') as a:\n",
    "    a.write('Escrevendo no arquivo\\nAndré - atenção - títulos')"
   ]
  },
  {
   "cell_type": "code",
   "execution_count": 28,
   "metadata": {},
   "outputs": [
    {
     "name": "stdout",
     "output_type": "stream",
     "text": [
      "Escrevendo no arquivo\n",
      "André - atenção - títulos\n"
     ]
    }
   ],
   "source": [
    "with open('titulos.txt', 'r') as a:\n",
    "    print(a.read()) # agora exibiu uma mensagem pq anteriormente criamos essa mensagem"
   ]
  },
  {
   "cell_type": "code",
   "execution_count": 130,
   "metadata": {},
   "outputs": [
    {
     "name": "stdout",
     "output_type": "stream",
     "text": [
      "Escrevendo no arquivo\n",
      "André - atenção - títulos\n",
      "Escrevendo no arquivo\n",
      "André - atenção - títulos\n",
      "Escrevendo no arquivo\n",
      "André - atenção - títulos\n",
      "Escrevendo no arquivo\n",
      "André - atenção - títulos\n",
      "Escrevendo no arquivo\n",
      "André - atenção - títulos\n",
      "Escrevendo no arquivo\n",
      "André - atenção - títulos\n",
      "Escrevendo no arquivo\n",
      "André - atenção - títulos\n",
      "Escrevendo no arquivo\n",
      "André - atenção - títulos\n",
      "Escrevendo no arquivo\n",
      "André - atenção - títulos\n",
      "Escrevendo no arquivo\n",
      "André - atenção - títulos\n",
      "Escrevendo no arquivo\n",
      "André - atenção - títulos\n",
      "Escrevendo no arquivo\n",
      "André - atenção - títulos\n",
      "Escrevendo no arquivo\n",
      "André - atenção - títulos\n",
      "Escrevendo no arquivo\n",
      "André - atenção - títulos\n",
      "Escrevendo no arquivo\n",
      "André - atenção - títulos\n",
      "Escrevendo no arquivo\n",
      "André - atenção - títulos\n"
     ]
    }
   ],
   "source": [
    "# outra maneira de printar uma mensagem na tela é:\n",
    "\n",
    "with open('titulos.txt', 'r') as a:\n",
    "    conteudo = a.read()\n",
    "    print(conteudo)"
   ]
  },
  {
   "cell_type": "code",
   "execution_count": 128,
   "metadata": {},
   "outputs": [
    {
     "name": "stdout",
     "output_type": "stream",
     "text": [
      "Escrevendo no arquivo\n",
      "André - atenção - títulos\n",
      "Escrevendo no arquivo\n",
      "André - atenção - títulos\n",
      "Escrevendo no arquivo\n",
      "André - atenção - títulos\n",
      "Escrevendo no arquivo\n",
      "André - atenção - títulos\n",
      "Escrevendo no arquivo\n",
      "André - atenção - títulos\n",
      "Escrevendo no arquivo\n",
      "André - atenção - títulos\n",
      "Escrevendo no arquivo\n",
      "André - atenção - títulos\n",
      "Escrevendo no arquivo\n",
      "André - atenção - títulos\n",
      "Escrevendo no arquivo\n",
      "André - atenção - títulos\n",
      "Escrevendo no arquivo\n",
      "André - atenção - títulos\n",
      "Escrevendo no arquivo\n",
      "André - atenção - títulos\n",
      "Escrevendo no arquivo\n",
      "André - atenção - títulos\n",
      "Escrevendo no arquivo\n",
      "André - atenção - títulos\n",
      "Escrevendo no arquivo\n",
      "André - atenção - títulos\n",
      "Escrevendo no arquivo\n",
      "André - atenção - títulos\n",
      "Escrevendo no arquivo\n",
      "André - atenção - títulos\n"
     ]
    }
   ],
   "source": [
    "# as vezes os acentos não são exibidos da maneira correta, isso é devido ao encondig.\n",
    "# Caso isso aconteça devemos especificar o encoding que queremos abrir o arquivo como mostrado abaixo:\n",
    "\n",
    "with open('titulos.txt', 'r', encoding = 'utf-8') as a:\n",
    "    conteudo = a.read()\n",
    "    print(conteudo)"
   ]
  },
  {
   "cell_type": "code",
   "execution_count": 131,
   "metadata": {},
   "outputs": [
    {
     "data": {
      "text/plain": [
       "804"
      ]
     },
     "execution_count": 131,
     "metadata": {},
     "output_type": "execute_result"
    }
   ],
   "source": [
    "# para ver o tamanho em bytes da variável (conteudo) que contém o arquivo\n",
    "# temos que importar a biblioteca sys e fazemos:\n",
    "\n",
    "import sys\n",
    "sys.getsizeof(conteudo) # se esse comando estivesse dentro de um laço, para imprimí-lo teríamos que usar o print()"
   ]
  },
  {
   "cell_type": "code",
   "execution_count": 132,
   "metadata": {},
   "outputs": [
    {
     "name": "stdout",
     "output_type": "stream",
     "text": [
      "['Escrevendo no arquivo\\n', 'André - atenção - títulos\\n', 'Escrevendo no arquivo\\n', 'André - atenção - títulos\\n', 'Escrevendo no arquivo\\n', 'André - atenção - títulos\\n', 'Escrevendo no arquivo\\n', 'André - atenção - títulos\\n', 'Escrevendo no arquivo\\n', 'André - atenção - títulos\\n', 'Escrevendo no arquivo\\n', 'André - atenção - títulos\\n', 'Escrevendo no arquivo\\n', 'André - atenção - títulos\\n', 'Escrevendo no arquivo\\n', 'André - atenção - títulos\\n', 'Escrevendo no arquivo\\n', 'André - atenção - títulos\\n', 'Escrevendo no arquivo\\n', 'André - atenção - títulos\\n', 'Escrevendo no arquivo\\n', 'André - atenção - títulos\\n', 'Escrevendo no arquivo\\n', 'André - atenção - títulos\\n', 'Escrevendo no arquivo\\n', 'André - atenção - títulos\\n', 'Escrevendo no arquivo\\n', 'André - atenção - títulos\\n', 'Escrevendo no arquivo\\n', 'André - atenção - títulos\\n', 'Escrevendo no arquivo\\n', 'André - atenção - títulos']\n"
     ]
    }
   ],
   "source": [
    "# podemos ler linha por linha e colocar dentro de uma lista, e assim diminuir o tamanho da variável \n",
    "# que armazena a leitura\n",
    "\n",
    "with open('titulos.txt', 'r', encoding='utf-8') as a:\n",
    "    conteudo = a.readlines()\n",
    "    print(conteudo)"
   ]
  },
  {
   "cell_type": "code",
   "execution_count": 133,
   "metadata": {},
   "outputs": [
    {
     "data": {
      "text/plain": [
       "188"
      ]
     },
     "execution_count": 133,
     "metadata": {},
     "output_type": "execute_result"
    }
   ],
   "source": [
    "# o \\n mostrado na saída anterior indica que houve uma quebra de linha\n",
    "import sys\n",
    "sys.getsizeof(conteudo)"
   ]
  },
  {
   "cell_type": "code",
   "execution_count": 136,
   "metadata": {},
   "outputs": [
    {
     "name": "stdout",
     "output_type": "stream",
     "text": [
      "Escrevendo no arquivo\n",
      "André - atenção - títulos\n",
      "Escrevendo no arquivo\n",
      "André - atenção - títulos\n",
      "Escrevendo no arquivo\n",
      "André - atenção - títulos\n",
      "Escrevendo no arquivo\n",
      "André - atenção - títulos\n",
      "Escrevendo no arquivo\n",
      "André - atenção - títulos\n",
      "Escrevendo no arquivo\n",
      "André - atenção - títulos\n",
      "Escrevendo no arquivo\n",
      "André - atenção - títulos\n",
      "Escrevendo no arquivo\n",
      "André - atenção - títulos\n",
      "Escrevendo no arquivo\n",
      "André - atenção - títulos\n",
      "Escrevendo no arquivo\n",
      "André - atenção - títulos\n",
      "Escrevendo no arquivo\n",
      "André - atenção - títulos\n",
      "Escrevendo no arquivo\n",
      "André - atenção - títulos\n",
      "Escrevendo no arquivo\n",
      "André - atenção - títulos\n",
      "Escrevendo no arquivo\n",
      "André - atenção - títulos\n",
      "Escrevendo no arquivo\n",
      "André - atenção - títulos\n",
      "Escrevendo no arquivo\n",
      "André - atenção - títulos"
     ]
    }
   ],
   "source": [
    "with open('titulos.txt', 'r', encoding='utf-8') as a:\n",
    "    for linha in a:\n",
    "        print(linha, end='') # esse end='' é só para mostrar linha abaixo de linha. Se não colocar isso, pula linha\n",
    "                             # na hora de exibir apesar de exibir tudo\n",
    "        conteudo = linha     # fazendo dessa forma diminuímos ainda mais o tamanho da variável que recebe\n",
    "                             # o conteúdo do arquivo, nesse caso, a variável \"conteúdo\".\n",
    "                             # se o arquivo tiver poucas linhas pode não diminuir o tamanho fazendo isso"
   ]
  },
  {
   "cell_type": "code",
   "execution_count": 137,
   "metadata": {},
   "outputs": [
    {
     "data": {
      "text/plain": [
       "62"
      ]
     },
     "execution_count": 137,
     "metadata": {},
     "output_type": "execute_result"
    }
   ],
   "source": [
    "sys.getsizeof(conteudo)"
   ]
  },
  {
   "cell_type": "code",
   "execution_count": 138,
   "metadata": {},
   "outputs": [
    {
     "name": "stdout",
     "output_type": "stream",
     "text": [
      "Escrevendo no arquivo\n",
      "André - atenção - títulos\n",
      "Escrevendo no arquivo\n",
      "André - atenção - títulos\n",
      "Escr\n"
     ]
    }
   ],
   "source": [
    "# outra maneira de ler especificando o tanto de caracteres que você quer ler\n",
    "\n",
    "with open('titulos.txt', 'r', encoding = 'utf-8') as a:\n",
    "    conteudo = a.read(100) # nesse caso vai ler apenas os 100 primeiros caracteres\n",
    "    print(conteudo)"
   ]
  },
  {
   "cell_type": "code",
   "execution_count": 139,
   "metadata": {},
   "outputs": [
    {
     "data": {
      "text/plain": [
       "137"
      ]
     },
     "execution_count": 139,
     "metadata": {},
     "output_type": "execute_result"
    }
   ],
   "source": [
    "sys.getsizeof(conteudo)"
   ]
  },
  {
   "cell_type": "code",
   "execution_count": 152,
   "metadata": {},
   "outputs": [
    {
     "name": "stdout",
     "output_type": "stream",
     "text": [
      "1 Escrevendo no arquivo\n",
      "2 André - atenção - títulos\n",
      "3 Escrevendo no arquivo\n",
      "4 André - atenção - títulos\n",
      "Escrevendo no arquivo\n",
      "André - atenção - títulos\n",
      "Escrevendo no arquivo\n",
      "André - atenção - títulos\n",
      "Escrevendo no arquivo\n",
      "André - atenção - títulos\n",
      "Escrevendo no arquivo\n",
      "André - atenção - títulos\n",
      "Escrevendo no arquivo\n",
      "André - atenção - títulos\n",
      "Escrevendo no arquivo\n",
      "André - atenção - títulos\n",
      "Escrevendo no arquivo\n",
      "André - atenção - títulos\n",
      "Escrevendo no arquivo\n",
      "André - atenção - títulos\n",
      "Escrevendo no arquivo\n",
      "André - atenção - títulos\n",
      "Escrevendo no arquivo\n",
      "André - atenção - títulos\n",
      "Escrevendo no arquivo\n",
      "André - atenção - títulos\n",
      "Escrevendo no arquivo\n",
      "André - atenção - títulos\n",
      "Escrevendo no arquivo\n",
      "André - atenção - títulos\n",
      "Escrevendo no arquivo\n",
      "André - atenção - títulos"
     ]
    }
   ],
   "source": [
    "with open('titulos.txt', 'r', encoding = 'utf-8') as a:\n",
    "    carac = 100\n",
    "    conteudo = a.read(carac)\n",
    "    while len(conteudo) > 0:\n",
    "        print(conteudo, end='')\n",
    "        conteudo = a.read(carac) # diminuo ainda mais o tamanho da variável \"conteudo\""
   ]
  },
  {
   "cell_type": "code",
   "execution_count": 151,
   "metadata": {},
   "outputs": [
    {
     "data": {
      "text/plain": [
       "25"
      ]
     },
     "execution_count": 151,
     "metadata": {},
     "output_type": "execute_result"
    }
   ],
   "source": [
    "sys.getsizeof(conteudo)"
   ]
  },
  {
   "cell_type": "code",
   "execution_count": 155,
   "metadata": {},
   "outputs": [],
   "source": [
    "with open('teste.txt', 'w') as a: # esse arquivo não existia, portanto foi criado\n",
    "    a.write('testando')"
   ]
  },
  {
   "cell_type": "code",
   "execution_count": 160,
   "metadata": {},
   "outputs": [],
   "source": [
    "with open('teste.txt', 'w') as a: \n",
    "    a.write('testando') # sobrescreveu o que tinha antes\n",
    "    a.write('testando')"
   ]
  },
  {
   "cell_type": "code",
   "execution_count": 185,
   "metadata": {},
   "outputs": [],
   "source": [
    "with open('teste.txt', 'w') as a:\n",
    "    a.write('testandotestando')\n",
    "    a.seek(0)\n",
    "    a.write('teste') # sobrescreveu no começo portanto pegou uma parte do a.write anterior"
   ]
  },
  {
   "cell_type": "code",
   "execution_count": 164,
   "metadata": {},
   "outputs": [],
   "source": [
    "# copiando um arquivo para outro\n",
    "\n",
    "with open('titulos.txt', 'r', encoding = 'utf-8') as la:\n",
    "    with open('titulos2.txt', 'w') as ea:\n",
    "        for linha in la:\n",
    "            ea.write(linha)"
   ]
  },
  {
   "cell_type": "code",
   "execution_count": 174,
   "metadata": {},
   "outputs": [],
   "source": [
    "# copiando imagem\n",
    "# a leitura de imagem tem que ser feita em binário ( isso já mostra como ler qualquer arquivo em binário )\n",
    "\n",
    "with open('logo_ufpb.png', 'rb') as li: # rb significa leitura em binário. Tem q colocar a extensão. Pode ser qlqr uma\n",
    "    with open('logo_ufpb_copia.png', 'wb') as ei: # a escrita também tem que ser em binário, por isso o \"wb\"\n",
    "        for linha in li:\n",
    "            ei.write(linha)    "
   ]
  },
  {
   "cell_type": "code",
   "execution_count": 176,
   "metadata": {},
   "outputs": [],
   "source": [
    "# para ler de uma forma que gaste menos memória podemos fazer como já visto antes com texto\n",
    "# a execução também é mais rápida\n",
    "\n",
    "with open('logo_ufpb.png', 'rb') as li: \n",
    "    with open('logo_ufpb_copia.png', 'wb') as ei: \n",
    "        tam = 1024\n",
    "        li_tam = li.read(tam)\n",
    "        while len(li_tam) > 0:\n",
    "            ei.write(li_tam)\n",
    "            li_tam = li.read(tam)"
   ]
  },
  {
   "cell_type": "code",
   "execution_count": 186,
   "metadata": {},
   "outputs": [
    {
     "name": "stdout",
     "output_type": "stream",
     "text": [
      "testendotestando\n"
     ]
    }
   ],
   "source": [
    "# adicionando algo ao arquivo sem sobrescrever - isso é o que tinha antes\n",
    "\n",
    "with open('teste.txt', 'r') as a:\n",
    "    print(a.read()) # o que tinha antes"
   ]
  },
  {
   "cell_type": "code",
   "execution_count": 187,
   "metadata": {},
   "outputs": [],
   "source": [
    "# adicionando algo ao arquivo sem sobrescrever\n",
    "\n",
    "with open('teste.txt', 'a') as arq:\n",
    "    arq.write('\\nOi meu nome é andre\\noutra linha\\n')\n",
    "    arq.write('mais uma\\n')"
   ]
  },
  {
   "cell_type": "code",
   "execution_count": 188,
   "metadata": {},
   "outputs": [],
   "source": [
    "# adicionando algo ao arquivo sem sobrescrever\n",
    "\n",
    "with open('teste.txt', 'a') as arq:\n",
    "    arq.write('São Paulo\\n')\n",
    "    arq.write('Flamengo ')"
   ]
  },
  {
   "cell_type": "code",
   "execution_count": null,
   "metadata": {},
   "outputs": [],
   "source": []
  }
 ],
 "metadata": {
  "kernelspec": {
   "display_name": "Python 3",
   "language": "python",
   "name": "python3"
  },
  "language_info": {
   "codemirror_mode": {
    "name": "ipython",
    "version": 3
   },
   "file_extension": ".py",
   "mimetype": "text/x-python",
   "name": "python",
   "nbconvert_exporter": "python",
   "pygments_lexer": "ipython3",
   "version": "3.7.1"
  },
  "varInspector": {
   "cols": {
    "lenName": 16,
    "lenType": 16,
    "lenVar": 40
   },
   "kernels_config": {
    "python": {
     "delete_cmd_postfix": "",
     "delete_cmd_prefix": "del ",
     "library": "var_list.py",
     "varRefreshCmd": "print(var_dic_list())"
    },
    "r": {
     "delete_cmd_postfix": ") ",
     "delete_cmd_prefix": "rm(",
     "library": "var_list.r",
     "varRefreshCmd": "cat(var_dic_list()) "
    }
   },
   "types_to_exclude": [
    "module",
    "function",
    "builtin_function_or_method",
    "instance",
    "_Feature"
   ],
   "window_display": false
  }
 },
 "nbformat": 4,
 "nbformat_minor": 2
}
