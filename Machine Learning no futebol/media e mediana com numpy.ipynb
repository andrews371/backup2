{
 "cells": [
  {
   "cell_type": "code",
   "execution_count": 68,
   "metadata": {},
   "outputs": [
    {
     "name": "stdout",
     "output_type": "stream",
     "text": [
      "[1.82237509 1.73799313 1.81206847 1.81686851 1.83111591 1.73334835\n",
      " 1.82658212 1.88414559 1.71606183 1.76246511]\n"
     ]
    }
   ],
   "source": [
    "import numpy as np\n",
    "\n",
    "# se os dois primeiros parâmetros não forem passados, ficam valendo por padrão: intervalo de 0.0 à 1.0\n",
    "odds = np.random.uniform(1.7, 1.9, 10) # se o último parâmetro não for especificado, por padrão vale 1.\n",
    "print(odds)"
   ]
  },
  {
   "cell_type": "code",
   "execution_count": 69,
   "metadata": {},
   "outputs": [
    {
     "name": "stdout",
     "output_type": "stream",
     "text": [
      "Odds arredondadas [1.82 1.74 1.81 1.82 1.83 1.73 1.83 1.88 1.72 1.76]\n",
      "\n"
     ]
    }
   ],
   "source": [
    "odds_decimais = np.around(odds, 2)\n",
    "print('Odds arredondadas', odds_decimais, end='\\n\\n')"
   ]
  },
  {
   "cell_type": "code",
   "execution_count": 70,
   "metadata": {},
   "outputs": [
    {
     "name": "stdout",
     "output_type": "stream",
     "text": [
      "1.794302410760339\n",
      "1.8144684908810411\n"
     ]
    }
   ],
   "source": [
    "print(np.mean(odds))\n",
    "print(np.median(odds))"
   ]
  },
  {
   "cell_type": "code",
   "execution_count": 94,
   "metadata": {},
   "outputs": [
    {
     "name": "stdout",
     "output_type": "stream",
     "text": [
      "5.5\n",
      "8.25\n"
     ]
    }
   ],
   "source": [
    "l1 = [2, 3, 8, 9] # lista já ordenada. Se não tivesse, o método median tbm funcionaria. Ele mesmo organizaria a lista\n",
    "                  # em ordem crescente ou decrescente e tiraria a média dos valores centrais, caso a lista tivesse\n",
    "                  # um número par de elementos, ou pegaria o valor central, caso a lista tivesse um número ímpar.\n",
    "l2 = [2, 3, 8, 20] \n",
    "print(np.median(l1)) # como tem um número par de elementos, a mediana calcula a média dos valores centrais\n",
    "print(np.mean(l2))"
   ]
  },
  {
   "cell_type": "code",
   "execution_count": 91,
   "metadata": {},
   "outputs": [
    {
     "name": "stdout",
     "output_type": "stream",
     "text": [
      "5.0\n"
     ]
    }
   ],
   "source": [
    "l3 = [2, 3, 5, 8, 9] # conjunto já ordenado\n",
    "print(np.median(l3)) # aqui temos um número ímpar de elementos, logo a mediana é o valor central"
   ]
  },
  {
   "cell_type": "code",
   "execution_count": 84,
   "metadata": {},
   "outputs": [
    {
     "name": "stdout",
     "output_type": "stream",
     "text": [
      "media  3.378\n",
      "mediana  1.82\n"
     ]
    }
   ],
   "source": [
    "l4 = [1.82, 1.74, 1.81, 1.82, 1.83, 1.73, 1.83, 1.88, 1.72, 17.6]\n",
    "print('media ', np.mean(l4))\n",
    "print('mediana ', np.median(l4))"
   ]
  },
  {
   "cell_type": "code",
   "execution_count": 90,
   "metadata": {},
   "outputs": [
    {
     "name": "stdout",
     "output_type": "stream",
     "text": [
      "media  3.378\n",
      "mediana  1.82\n"
     ]
    }
   ],
   "source": [
    "l5 = [1.82, 1.74, 1.81, 1.73, 17.6, 1.83, 1.88, 1.72, 1.83]\n",
    "print('media ', np.mean(l4))\n",
    "print('mediana ', np.median(l4)) # com a mediana os outliers (17.6) são ignorados"
   ]
  },
  {
   "cell_type": "code",
   "execution_count": 104,
   "metadata": {},
   "outputs": [],
   "source": [
    "# mais um pouco de numpy\n",
    "\n",
    "valor = np.array([10, 20, 20, 30, 10, 20])\n",
    "odd = np.array([1.80, 2.20, 2.05, 2.75, 1.75, 2.50])"
   ]
  },
  {
   "cell_type": "code",
   "execution_count": null,
   "metadata": {},
   "outputs": [],
   "source": []
  },
  {
   "cell_type": "code",
   "execution_count": null,
   "metadata": {},
   "outputs": [],
   "source": []
  },
  {
   "cell_type": "code",
   "execution_count": null,
   "metadata": {},
   "outputs": [],
   "source": []
  }
 ],
 "metadata": {
  "kernelspec": {
   "display_name": "Python 3",
   "language": "python",
   "name": "python3"
  },
  "language_info": {
   "codemirror_mode": {
    "name": "ipython",
    "version": 3
   },
   "file_extension": ".py",
   "mimetype": "text/x-python",
   "name": "python",
   "nbconvert_exporter": "python",
   "pygments_lexer": "ipython3",
   "version": "3.7.1"
  }
 },
 "nbformat": 4,
 "nbformat_minor": 2
}
