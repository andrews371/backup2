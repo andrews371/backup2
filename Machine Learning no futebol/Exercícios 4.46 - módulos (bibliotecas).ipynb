{
 "cells": [
  {
   "cell_type": "code",
   "execution_count": 2,
   "metadata": {},
   "outputs": [],
   "source": [
    "apostas = [101, 203, 145, 222, 121, 210, 113, 190, 193, 281]\n",
    "odds = [1.5, 1.2, 2.7, 1.31, 2.4, 2.2, 1.56, 3.1, 1.2, 2.5]"
   ]
  },
  {
   "cell_type": "code",
   "execution_count": 16,
   "metadata": {},
   "outputs": [],
   "source": [
    "import statistics as s"
   ]
  },
  {
   "cell_type": "code",
   "execution_count": 17,
   "metadata": {},
   "outputs": [
    {
     "data": {
      "text/plain": [
       "177.9"
      ]
     },
     "execution_count": 17,
     "metadata": {},
     "output_type": "execute_result"
    }
   ],
   "source": [
    "s.mean(apostas)"
   ]
  },
  {
   "cell_type": "code",
   "execution_count": 18,
   "metadata": {},
   "outputs": [
    {
     "data": {
      "text/plain": [
       "3228.322222222222"
      ]
     },
     "execution_count": 18,
     "metadata": {},
     "output_type": "execute_result"
    }
   ],
   "source": [
    "s.variance(apostas)"
   ]
  },
  {
   "cell_type": "code",
   "execution_count": 19,
   "metadata": {},
   "outputs": [
    {
     "data": {
      "text/plain": [
       "56.818326464462345"
      ]
     },
     "execution_count": 19,
     "metadata": {},
     "output_type": "execute_result"
    }
   ],
   "source": [
    "s.stdev(apostas)"
   ]
  },
  {
   "cell_type": "code",
   "execution_count": 20,
   "metadata": {},
   "outputs": [
    {
     "data": {
      "text/plain": [
       "1.967"
      ]
     },
     "execution_count": 20,
     "metadata": {},
     "output_type": "execute_result"
    }
   ],
   "source": [
    "s.mean(odds)"
   ]
  },
  {
   "cell_type": "code",
   "execution_count": 21,
   "metadata": {},
   "outputs": [
    {
     "data": {
      "text/plain": [
       "0.4820900000000001"
      ]
     },
     "execution_count": 21,
     "metadata": {},
     "output_type": "execute_result"
    }
   ],
   "source": [
    "s.variance(odds)"
   ]
  },
  {
   "cell_type": "code",
   "execution_count": 22,
   "metadata": {},
   "outputs": [
    {
     "data": {
      "text/plain": [
       "0.6943270122931989"
      ]
     },
     "execution_count": 22,
     "metadata": {},
     "output_type": "execute_result"
    }
   ],
   "source": [
    "s.stdev(odds)"
   ]
  },
  {
   "cell_type": "code",
   "execution_count": 97,
   "metadata": {},
   "outputs": [],
   "source": [
    "import random as r"
   ]
  },
  {
   "cell_type": "code",
   "execution_count": 167,
   "metadata": {},
   "outputs": [
    {
     "name": "stdout",
     "output_type": "stream",
     "text": [
      "[261.11, 239.49, 155.14, 114.73, 177.82, 151.23, 245.95, 125.83, 169.15, 195.85]\n",
      "[2.82, 2.01, 1.56, 2.51, 2.24, 1.5, 2.82, 2.97, 2.62, 2.8]\n",
      "['perdida', 'ganha', 'ganha', 'perdida', 'perdida', 'ganha', 'perdida', 'perdida', 'perdida', 'ganha']\n"
     ]
    }
   ],
   "source": [
    "r.seed(0)\n",
    "\n",
    "apostas = [round(r.uniform(50,300), 2) for i in range(10)]\n",
    "odds = [round(r.uniform(1,3), 2) for i in range(10)]\n",
    "win = [r.choice(['ganha', 'perdida']) for i in range(10)]\n",
    "\n",
    "print(apostas)\n",
    "print(odds)\n",
    "print(win)"
   ]
  },
  {
   "cell_type": "code",
   "execution_count": 31,
   "metadata": {},
   "outputs": [
    {
     "data": {
      "text/plain": [
       "[217, 273, 248, 288, 159, 114, 167, 299, 257, 133]"
      ]
     },
     "execution_count": 31,
     "metadata": {},
     "output_type": "execute_result"
    }
   ],
   "source": [
    "lista1"
   ]
  },
  {
   "cell_type": "code",
   "execution_count": 184,
   "metadata": {},
   "outputs": [
    {
     "data": {
      "text/plain": [
       "[Carta(número=1, naipe='♠'),\n",
       " Carta(número=1, naipe='♡'),\n",
       " Carta(número=1, naipe='♢'),\n",
       " Carta(número=1, naipe='♣'),\n",
       " Carta(número=2, naipe='♠')]"
      ]
     },
     "execution_count": 184,
     "metadata": {},
     "output_type": "execute_result"
    }
   ],
   "source": [
    "from collections import namedtuple\n",
    "\n",
    "Carta = namedtuple('Carta', ('número', 'naipe'))\n",
    "naipes = '\\u2660\\u2661\\u2662\\u2663' # código unicode para naipes das cartas\n",
    "espadas, copas, ouros, paus = naipes\n",
    "baralho = [Carta(i + 1,n) for i in range(13) for n in naipes] # 52 cartas no baralho (13 * 4)\n",
    "baralho[:5] # mostrando apenas os 5 primeiros elementos do baralho"
   ]
  },
  {
   "cell_type": "code",
   "execution_count": 205,
   "metadata": {},
   "outputs": [
    {
     "data": {
      "text/plain": [
       "[Carta(número=3, naipe='♡'),\n",
       " Carta(número=8, naipe='♣'),\n",
       " Carta(número=4, naipe='♠'),\n",
       " Carta(número=2, naipe='♠'),\n",
       " Carta(número=7, naipe='♣')]"
      ]
     },
     "execution_count": 205,
     "metadata": {},
     "output_type": "execute_result"
    }
   ],
   "source": [
    "r.shuffle(baralho)\n",
    "baralho[:5]"
   ]
  },
  {
   "cell_type": "code",
   "execution_count": 25,
   "metadata": {},
   "outputs": [
    {
     "name": "stdout",
     "output_type": "stream",
     "text": [
      "1.9099948406219482\n"
     ]
    }
   ],
   "source": [
    "# usando o for\n",
    "\n",
    "import time\n",
    "\n",
    "start = time.time()\n",
    "# poderia ter a = range(5000001) aqui e \"a\" no lugar do range(5000001)\n",
    "lista4 = []\n",
    "for i in range(5000001):\n",
    "    lista4.append(i * 2)\n",
    "end = time.time()\n",
    "print(end - start)  \n"
   ]
  },
  {
   "cell_type": "code",
   "execution_count": 22,
   "metadata": {},
   "outputs": [
    {
     "name": "stdout",
     "output_type": "stream",
     "text": [
      "1.4822511672973633\n"
     ]
    }
   ],
   "source": [
    "# usando o map para fazer a mesma coisa -> Esse método é mais rápido que o anterior\n",
    "\n",
    "import time\n",
    "\n",
    "start = time.time() # poderia ser outro nome no lugar de start\n",
    "lista5 = list(range(5000001))\n",
    "lista6 = list(map(lambda num: num * 2, lista5))\n",
    "end = time.time() # poderia ser outro nome no lugar de end\n",
    "print(end - start) "
   ]
  },
  {
   "cell_type": "code",
   "execution_count": 24,
   "metadata": {},
   "outputs": [
    {
     "name": "stdout",
     "output_type": "stream",
     "text": [
      "1.0029609203338623\n"
     ]
    }
   ],
   "source": [
    "# agora usando a list comprehension para fazer novamente a mesma coisa -> Esse método é ainda mais rápido que o anterior\n",
    "\n",
    "import time\n",
    "\n",
    "start = time.time()\n",
    "lista7 = range(5000001)\n",
    "lista8 = [i * 2 for i in lista7]\n",
    "end = time.time()\n",
    "print(end - start)"
   ]
  },
  {
   "cell_type": "code",
   "execution_count": 26,
   "metadata": {},
   "outputs": [],
   "source": [
    "# conclusão: o que gasta menos tempo de execução é a list comprehension, depois o map e por último o for"
   ]
  },
  {
   "cell_type": "code",
   "execution_count": null,
   "metadata": {},
   "outputs": [],
   "source": []
  }
 ],
 "metadata": {
  "kernelspec": {
   "display_name": "Python 3",
   "language": "python",
   "name": "python3"
  },
  "language_info": {
   "codemirror_mode": {
    "name": "ipython",
    "version": 3
   },
   "file_extension": ".py",
   "mimetype": "text/x-python",
   "name": "python",
   "nbconvert_exporter": "python",
   "pygments_lexer": "ipython3",
   "version": "3.7.1"
  },
  "varInspector": {
   "cols": {
    "lenName": 16,
    "lenType": 16,
    "lenVar": 40
   },
   "kernels_config": {
    "python": {
     "delete_cmd_postfix": "",
     "delete_cmd_prefix": "del ",
     "library": "var_list.py",
     "varRefreshCmd": "print(var_dic_list())"
    },
    "r": {
     "delete_cmd_postfix": ") ",
     "delete_cmd_prefix": "rm(",
     "library": "var_list.r",
     "varRefreshCmd": "cat(var_dic_list()) "
    }
   },
   "types_to_exclude": [
    "module",
    "function",
    "builtin_function_or_method",
    "instance",
    "_Feature"
   ],
   "window_display": false
  }
 },
 "nbformat": 4,
 "nbformat_minor": 2
}
