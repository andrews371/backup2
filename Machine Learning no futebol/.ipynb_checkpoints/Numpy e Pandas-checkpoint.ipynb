{
 "cells": [
  {
   "cell_type": "code",
   "execution_count": 3,
   "metadata": {},
   "outputs": [],
   "source": [
    "import pandas as pd\n",
    "import numpy as np\n",
    "import statistics as s"
   ]
  },
  {
   "cell_type": "markdown",
   "metadata": {},
   "source": [
    "## Apostas Realizadas"
   ]
  },
  {
   "cell_type": "code",
   "execution_count": 4,
   "metadata": {},
   "outputs": [],
   "source": [
    "valor_apostado = [10, 20, 20, 30, 10, 20]\n",
    "odds_apostadas = [1.8, 2.20, 2.05, 2.75, 1.75, 2.50]"
   ]
  },
  {
   "cell_type": "code",
   "execution_count": 5,
   "metadata": {},
   "outputs": [
    {
     "data": {
      "text/plain": [
       "18.33"
      ]
     },
     "execution_count": 5,
     "metadata": {},
     "output_type": "execute_result"
    }
   ],
   "source": [
    "round(s.mean(valor_apostado), 2)"
   ]
  },
  {
   "cell_type": "code",
   "execution_count": 23,
   "metadata": {},
   "outputs": [
    {
     "data": {
      "text/plain": [
       "2.17"
      ]
     },
     "execution_count": 23,
     "metadata": {},
     "output_type": "execute_result"
    }
   ],
   "source": [
    "round(s.mean(odds_apostadas), 2)"
   ]
  },
  {
   "cell_type": "code",
   "execution_count": 7,
   "metadata": {},
   "outputs": [
    {
     "name": "stdout",
     "output_type": "stream",
     "text": [
      "Lucro potencial de 143.0\n"
     ]
    }
   ],
   "source": [
    "potencial = 0\n",
    "j = 0\n",
    "for i in valor_apostado:\n",
    "    potencial += (i * (odds_apostadas[j] - 1))\n",
    "    j += 1\n",
    "print(f'Lucro potencial de {round(potencial, 2)}')"
   ]
  },
  {
   "cell_type": "markdown",
   "metadata": {},
   "source": [
    "### Agora vamos usar a biblioteca numpy"
   ]
  },
  {
   "cell_type": "code",
   "execution_count": 8,
   "metadata": {},
   "outputs": [
    {
     "data": {
      "text/plain": [
       "18.33"
      ]
     },
     "execution_count": 8,
     "metadata": {},
     "output_type": "execute_result"
    }
   ],
   "source": [
    "round(np.mean(valor_apostado), 2)"
   ]
  },
  {
   "cell_type": "code",
   "execution_count": 9,
   "metadata": {},
   "outputs": [
    {
     "data": {
      "text/plain": [
       "2.18"
      ]
     },
     "execution_count": 9,
     "metadata": {},
     "output_type": "execute_result"
    }
   ],
   "source": [
    "round(np.mean(odds_apostadas), 2) # 2.175 com numpy é arredondado para 2.18, com statistics é arredondado para 2.17"
   ]
  },
  {
   "cell_type": "code",
   "execution_count": 10,
   "metadata": {},
   "outputs": [
    {
     "name": "stdout",
     "output_type": "stream",
     "text": [
      "O retorno potencial é de 253.0\n"
     ]
    }
   ],
   "source": [
    "# np.dot multiplica os valores de cada array posição 0 com posição 0 e assim sucessitivamente \n",
    "# sempre somando o valor anterior com a nova soma\n",
    "\n",
    "print (f'O retorno potencial é de {np.dot(valor_apostado, odds_apostadas)}')"
   ]
  },
  {
   "cell_type": "code",
   "execution_count": 47,
   "metadata": {},
   "outputs": [
    {
     "name": "stdout",
     "output_type": "stream",
     "text": [
      "Array \"valor_apostado\" - 1 -> [ 9 19 19 29  9 19]\n",
      "O retorno potencial é de 143.00\n",
      "\n"
     ]
    }
   ],
   "source": [
    "# só o lucro agora\n",
    "# temos que ter listas como arrays, fazendo isso:\n",
    "\n",
    "valor_apostado = np.array([10, 20, 20, 30, 10, 20]) \n",
    "odds_apostadas = np.array([1.8, 2.20, 2.05, 2.75, 1.75, 2.50])\n",
    "\n",
    "# pois assim podemos fazer isso:\n",
    "\n",
    "exemplo = np.array([10, 20, 20, 30, 10, 20]) - 1 \n",
    "print('Array \"valor_apostado\" - 1 -> {}'.format(exemplo))\n",
    "\n",
    "# Aqui para colocarmos 2 casas decimais no retorno potencial, o round não resolve, precisamos então\n",
    "# de usar o format como mostrado abaixo. O \"end\" no final é para continuar a instrução no fim \n",
    "print ('O retorno potencial é de {:.2f}'.format(np.dot(valor_apostado, odds_apostadas - 1)), end = '\\n\\n')"
   ]
  },
  {
   "cell_type": "code",
   "execution_count": 63,
   "metadata": {},
   "outputs": [],
   "source": [
    "# continuando...\n",
    "\n",
    "valor_apostado = np.array([10, 30, 20, 20, 10, 20]) \n",
    "odds_apostadas = np.array([1.8, 2.20, 2.05, 2.75, 1.75, 2.50])\n",
    "listas_de_apostas = np.array(['Atlético - MG', 'Cruzeiro', 'Palmeiras - 0.75', 'Mais de 2,5 Gols', 'Cartões Amarelos + 5', 'Cantos + 12,5'])"
   ]
  },
  {
   "cell_type": "code",
   "execution_count": 66,
   "metadata": {},
   "outputs": [
    {
     "name": "stdout",
     "output_type": "stream",
     "text": [
      "O indice de odd maxima na lista \"odds_apostadas\" é -> 3\n",
      "A aposta de maior odd foi em -> Mais de 2,5 Gols\n",
      "A aposta de maior valor foi em  -> Cruzeiro\n",
      "A aposta de menor odd foi em -> Cartões Amarelos + 5\n",
      "A aposta de menor valor foi em -> Atlético - MG\n"
     ]
    }
   ],
   "source": [
    "# máximo e mínimo com numpy\n",
    "\n",
    "max_odds = np.argmax(odds_apostadas)\n",
    "max_valor = np.argmax(valor_apostado)\n",
    "min_odds = np.argmin(odds_apostadas)\n",
    "min_valor = np.argmin(valor_apostado)\n",
    "\n",
    "print('O indice de odd maxima na lista \"odds_apostadas\" é -> {}'.format(max_odds)) # pode ter essa formatação\n",
    "print('A aposta de maior odd foi em ->', listas_de_apostas[max_odds])              # ou essa  \n",
    "print('A aposta de maior valor foi em  ->', listas_de_apostas[max_valor])\n",
    "print('A aposta de menor odd foi em ->', listas_de_apostas[min_odds])\n",
    "print('A aposta de menor valor foi em ->', listas_de_apostas[min_valor])"
   ]
  },
  {
   "cell_type": "code",
   "execution_count": null,
   "metadata": {},
   "outputs": [],
   "source": []
  },
  {
   "cell_type": "code",
   "execution_count": null,
   "metadata": {},
   "outputs": [],
   "source": []
  },
  {
   "cell_type": "code",
   "execution_count": null,
   "metadata": {},
   "outputs": [],
   "source": []
  },
  {
   "cell_type": "code",
   "execution_count": null,
   "metadata": {},
   "outputs": [],
   "source": []
  },
  {
   "cell_type": "code",
   "execution_count": null,
   "metadata": {},
   "outputs": [],
   "source": []
  },
  {
   "cell_type": "code",
   "execution_count": null,
   "metadata": {},
   "outputs": [],
   "source": []
  }
 ],
 "metadata": {
  "kernelspec": {
   "display_name": "Python 3",
   "language": "python",
   "name": "python3"
  },
  "language_info": {
   "codemirror_mode": {
    "name": "ipython",
    "version": 3
   },
   "file_extension": ".py",
   "mimetype": "text/x-python",
   "name": "python",
   "nbconvert_exporter": "python",
   "pygments_lexer": "ipython3",
   "version": "3.7.1"
  }
 },
 "nbformat": 4,
 "nbformat_minor": 2
}
