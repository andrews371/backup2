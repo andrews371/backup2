{
 "cells": [
  {
   "cell_type": "code",
   "execution_count": 4,
   "metadata": {},
   "outputs": [
    {
     "name": "stdout",
     "output_type": "stream",
     "text": [
      "Impossível operação de append\n",
      "9\n"
     ]
    }
   ],
   "source": [
    "num = 9\n",
    "\n",
    "try:\n",
    "    num.append(3)\n",
    "except:\n",
    "    print('Impossível operação de append')\n",
    "print (num)"
   ]
  },
  {
   "cell_type": "code",
   "execution_count": 6,
   "metadata": {},
   "outputs": [
    {
     "name": "stdout",
     "output_type": "stream",
     "text": [
      "informe um valor: 9\n",
      "informe outro valor: s\n",
      "informe apenas um valor numérico cada vez que for pedido\n"
     ]
    }
   ],
   "source": [
    "i = 0\n",
    "try:\n",
    "    n1 = int(input('informe um valor: '))\n",
    "    n2 = int(input('informe outro valor: '))\n",
    "    \n",
    "except:\n",
    "    print('informe apenas um valor numérico cada vez que for pedido')\n",
    "    i = 1\n",
    "\n",
    "if (i != 1):\n",
    "    try:\n",
    "        print(n1/n2)\n",
    "    except:\n",
    "        print('Impossível realizar divisão por zero')"
   ]
  },
  {
   "cell_type": "code",
   "execution_count": 5,
   "metadata": {},
   "outputs": [
    {
     "name": "stdout",
     "output_type": "stream",
     "text": [
      "informe um valor: 9\n",
      "informe outro valor: s\n",
      "informe apenas um valor numérico cada vez que for pedido\n",
      "Impossível realizar divisão por zero\n"
     ]
    }
   ],
   "source": [
    "# O código acima pode ser escrito de forma mais eficiente como segue:\n",
    "\n",
    "i = 0\n",
    "try:\n",
    "    n1 = int(input('informe um valor: '))\n",
    "    n2 = int(input('informe outro valor: '))\n",
    "except:\n",
    "    print('informe apenas um valor numérico cada vez que for pedido')\n",
    "    try:\n",
    "        print(n1/n2)\n",
    "    except:\n",
    "        print('Impossível realizar divisão por zero')"
   ]
  },
  {
   "cell_type": "code",
   "execution_count": null,
   "metadata": {},
   "outputs": [],
   "source": []
  }
 ],
 "metadata": {
  "kernelspec": {
   "display_name": "Python 3",
   "language": "python",
   "name": "python3"
  },
  "language_info": {
   "codemirror_mode": {
    "name": "ipython",
    "version": 3
   },
   "file_extension": ".py",
   "mimetype": "text/x-python",
   "name": "python",
   "nbconvert_exporter": "python",
   "pygments_lexer": "ipython3",
   "version": "3.7.1"
  },
  "varInspector": {
   "cols": {
    "lenName": 16,
    "lenType": 16,
    "lenVar": 40
   },
   "kernels_config": {
    "python": {
     "delete_cmd_postfix": "",
     "delete_cmd_prefix": "del ",
     "library": "var_list.py",
     "varRefreshCmd": "print(var_dic_list())"
    },
    "r": {
     "delete_cmd_postfix": ") ",
     "delete_cmd_prefix": "rm(",
     "library": "var_list.r",
     "varRefreshCmd": "cat(var_dic_list()) "
    }
   },
   "types_to_exclude": [
    "module",
    "function",
    "builtin_function_or_method",
    "instance",
    "_Feature"
   ],
   "window_display": false
  }
 },
 "nbformat": 4,
 "nbformat_minor": 2
}
