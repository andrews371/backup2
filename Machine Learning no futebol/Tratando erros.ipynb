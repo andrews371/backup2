{
 "cells": [
  {
   "cell_type": "code",
   "execution_count": 4,
   "metadata": {},
   "outputs": [
    {
     "name": "stdout",
     "output_type": "stream",
     "text": [
      "Impossível operação de append\n",
      "9\n"
     ]
    }
   ],
   "source": [
    "num = 9\n",
    "\n",
    "try:\n",
    "    num.append(3)\n",
    "except:\n",
    "    print('Impossível operação de append')\n",
    "print (num)"
   ]
  },
  {
   "cell_type": "code",
   "execution_count": 7,
   "metadata": {},
   "outputs": [
    {
     "name": "stdout",
     "output_type": "stream",
     "text": [
      "informe um valor: 9\n",
      "informe outro valor: 0\n",
      "Impossível realizar divisão por zero\n"
     ]
    }
   ],
   "source": [
    "i = 0\n",
    "try:\n",
    "    n1 = int(input('informe um valor: '))\n",
    "    n2 = int(input('informe outro valor: '))\n",
    "    \n",
    "except:\n",
    "    print('informe apenas um valor numérico cada vez que for pedido')\n",
    "    i = 1\n",
    "\n",
    "if (i != 1):\n",
    "    try:\n",
    "        print(n1/n2)\n",
    "    except:\n",
    "        print('Impossível realizar divisão por zero')"
   ]
  },
  {
   "cell_type": "code",
   "execution_count": 53,
   "metadata": {},
   "outputs": [
    {
     "name": "stdout",
     "output_type": "stream",
     "text": [
      "informe um valor: 9\n",
      "informe outro valor: 9\n",
      "1.0\n"
     ]
    }
   ],
   "source": [
    "# O código acima pode ser escrito de forma mais eficiente como segue:\n",
    "\n",
    "try:\n",
    "    n1 = int(input('informe um valor: '))\n",
    "    n2 = int(input('informe outro valor: '))\n",
    "    a = n1/n2\n",
    "except ValueError:\n",
    "    print('informe apenas um valor numérico')\n",
    "except ZeroDivisionError:\n",
    "        print('Impossível realizar divisão por zero')\n",
    "else:\n",
    "    print(a)"
   ]
  },
  {
   "cell_type": "code",
   "execution_count": 35,
   "metadata": {},
   "outputs": [
    {
     "name": "stdout",
     "output_type": "stream",
     "text": [
      "Help on class ZeroDivisionError in module builtins:\n",
      "\n",
      "class ZeroDivisionError(ArithmeticError)\n",
      " |  Second argument to a division or modulo operation was zero.\n",
      " |  \n",
      " |  Method resolution order:\n",
      " |      ZeroDivisionError\n",
      " |      ArithmeticError\n",
      " |      Exception\n",
      " |      BaseException\n",
      " |      object\n",
      " |  \n",
      " |  Methods defined here:\n",
      " |  \n",
      " |  __init__(self, /, *args, **kwargs)\n",
      " |      Initialize self.  See help(type(self)) for accurate signature.\n",
      " |  \n",
      " |  ----------------------------------------------------------------------\n",
      " |  Static methods defined here:\n",
      " |  \n",
      " |  __new__(*args, **kwargs) from builtins.type\n",
      " |      Create and return a new object.  See help(type) for accurate signature.\n",
      " |  \n",
      " |  ----------------------------------------------------------------------\n",
      " |  Methods inherited from BaseException:\n",
      " |  \n",
      " |  __delattr__(self, name, /)\n",
      " |      Implement delattr(self, name).\n",
      " |  \n",
      " |  __getattribute__(self, name, /)\n",
      " |      Return getattr(self, name).\n",
      " |  \n",
      " |  __reduce__(...)\n",
      " |      Helper for pickle.\n",
      " |  \n",
      " |  __repr__(self, /)\n",
      " |      Return repr(self).\n",
      " |  \n",
      " |  __setattr__(self, name, value, /)\n",
      " |      Implement setattr(self, name, value).\n",
      " |  \n",
      " |  __setstate__(...)\n",
      " |  \n",
      " |  __str__(self, /)\n",
      " |      Return str(self).\n",
      " |  \n",
      " |  with_traceback(...)\n",
      " |      Exception.with_traceback(tb) --\n",
      " |      set self.__traceback__ to tb and return self.\n",
      " |  \n",
      " |  ----------------------------------------------------------------------\n",
      " |  Data descriptors inherited from BaseException:\n",
      " |  \n",
      " |  __cause__\n",
      " |      exception cause\n",
      " |  \n",
      " |  __context__\n",
      " |      exception context\n",
      " |  \n",
      " |  __dict__\n",
      " |  \n",
      " |  __suppress_context__\n",
      " |  \n",
      " |  __traceback__\n",
      " |  \n",
      " |  args\n",
      "\n"
     ]
    }
   ],
   "source": [
    "help(ZeroDivisionError) # help tbm mostra o que significa uma excessão"
   ]
  },
  {
   "cell_type": "code",
   "execution_count": 52,
   "metadata": {},
   "outputs": [
    {
     "name": "stdout",
     "output_type": "stream",
     "text": [
      "informe um valor: 9\n",
      "informe outro valor: 9\n",
      "1.0\n",
      "\n",
      "O programa chegou ao fim\n"
     ]
    }
   ],
   "source": [
    "# Aqui temos o uso do \"finally\" => ele sempre é executado independente se o programa cai ou não no else\n",
    "\n",
    "try:\n",
    "    n1 = int(input('informe um valor: '))\n",
    "    n2 = int(input('informe outro valor: '))\n",
    "    a = n1/n2\n",
    "except ValueError:\n",
    "    print('informe apenas um valor numérico')\n",
    "except ZeroDivisionError:\n",
    "        print('Impossível realizar divisão por zero')\n",
    "else:\n",
    "    print(a)\n",
    "finally:\n",
    "    print('\\nO programa chegou ao fim')"
   ]
  },
  {
   "cell_type": "code",
   "execution_count": 107,
   "metadata": {},
   "outputs": [
    {
     "name": "stdout",
     "output_type": "stream",
     "text": [
      "informe um valor: 9\n",
      "informe outro valor: 9\n",
      "1.0\n",
      "\n",
      "O programa chegou ao fim\n"
     ]
    }
   ],
   "source": [
    "# se não souber qual a excessão, não especifica. Usa except Exception as e:\n",
    "\n",
    "try:\n",
    "    n1 = int(input('informe um valor: '))\n",
    "    n2 = int(input('informe outro valor: '))\n",
    "    a = n1/n2\n",
    "except Exception as e:\n",
    "    print(e) # aqui traz o erro que acontecer. Mas eu poderia personalizar essa mensagem, como abaixo e acima\n",
    "else:\n",
    "    print(a)\n",
    "finally:\n",
    "    print('\\nO programa chegou ao fim')"
   ]
  },
  {
   "cell_type": "code",
   "execution_count": 108,
   "metadata": {},
   "outputs": [
    {
     "name": "stdout",
     "output_type": "stream",
     "text": [
      "informe um valor: 9\n",
      "informe outro valor: a\n",
      "deu erro no valor informado\n",
      "\n",
      "O programa chegou ao fim\n"
     ]
    }
   ],
   "source": [
    "# se não souber qual a excessão, não especifica. Usa except Exception as e:, mas posso mudar \n",
    "# o que vai ser impresso\n",
    "\n",
    "try:\n",
    "    n1 = int(input('informe um valor: '))\n",
    "    n2 = int(input('informe outro valor: '))\n",
    "    a = n1/n2\n",
    "except Exception as e:\n",
    "    print('deu erro no valor informado') # não necessariamente tem que vir o \"e\" no print\n",
    "else:\n",
    "    print(a)\n",
    "finally:\n",
    "    print('\\nO programa chegou ao fim')"
   ]
  },
  {
   "cell_type": "code",
   "execution_count": 109,
   "metadata": {},
   "outputs": [
    {
     "name": "stdout",
     "output_type": "stream",
     "text": [
      "erro, \"n\" tem valor inválido\n",
      "\n",
      "O programa chegou ao fim\n"
     ]
    }
   ],
   "source": [
    "# tbm posso fazer surgir um erro de excessão se alguma condição acontecer\n",
    "\n",
    "n = 2\n",
    "try:\n",
    "    n = 0 # * n = n.append(3) => entraria na primeira excessão\n",
    "    if n == 0:\n",
    "        raise Exception # fiz surgir uma excessão para n = 0\n",
    "except AttributeError as e: # típico qnd usa atribuição indevida como no comentário *\n",
    "    print(e)\n",
    "except Exception as e: # seja qual for a excessão cai aqui se não tiver caído antes\n",
    "    print('erro, \"n\" tem valor inválido')\n",
    "else:\n",
    "    print(n)\n",
    "finally: # sempre executa\n",
    "    print('\\nO programa chegou ao fim')"
   ]
  },
  {
   "cell_type": "code",
   "execution_count": null,
   "metadata": {},
   "outputs": [],
   "source": []
  }
 ],
 "metadata": {
  "kernelspec": {
   "display_name": "Python 3",
   "language": "python",
   "name": "python3"
  },
  "language_info": {
   "codemirror_mode": {
    "name": "ipython",
    "version": 3
   },
   "file_extension": ".py",
   "mimetype": "text/x-python",
   "name": "python",
   "nbconvert_exporter": "python",
   "pygments_lexer": "ipython3",
   "version": "3.7.1"
  },
  "varInspector": {
   "cols": {
    "lenName": 16,
    "lenType": 16,
    "lenVar": 40
   },
   "kernels_config": {
    "python": {
     "delete_cmd_postfix": "",
     "delete_cmd_prefix": "del ",
     "library": "var_list.py",
     "varRefreshCmd": "print(var_dic_list())"
    },
    "r": {
     "delete_cmd_postfix": ") ",
     "delete_cmd_prefix": "rm(",
     "library": "var_list.r",
     "varRefreshCmd": "cat(var_dic_list()) "
    }
   },
   "types_to_exclude": [
    "module",
    "function",
    "builtin_function_or_method",
    "instance",
    "_Feature"
   ],
   "window_display": false
  }
 },
 "nbformat": 4,
 "nbformat_minor": 2
}
