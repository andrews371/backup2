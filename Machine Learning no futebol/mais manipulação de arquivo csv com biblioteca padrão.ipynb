{
 "cells": [
  {
   "cell_type": "code",
   "execution_count": 378,
   "metadata": {},
   "outputs": [],
   "source": [
    "import csv\n",
    "import os # bliblioteca para deletar arquivos\n",
    "\n",
    "with open('Apostas-do-Thiago.csv', 'r', encoding ='utf-8', newline='') as acsv:\n",
    "    lista1 = []\n",
    "    lista2 = []\n",
    "    arq1 = csv.reader(acsv)\n",
    "    \n",
    "    with open('tiago2.csv', 'w', encoding = 'utf-8') as esc:\n",
    "        arq2 = csv.writer(esc)\n",
    "        \n",
    "        for linha in arq1:\n",
    "            lista1.append(linha[0].split(','))\n",
    "        for linha2 in lista1:\n",
    "            arq2.writerow(linha2)\n",
    "\n",
    "with open('tiago2.csv', 'r', encoding = 'utf-8') as al:\n",
    "    arq1 = csv.reader(al)\n",
    "    with open('Apostas-do-Thiago.csv', 'w', encoding = 'utf-8') as ae:\n",
    "        arq2 = csv.writer(ae)\n",
    "        \n",
    "        for linha in arq1:\n",
    "            arq2.writerow(linha)\n",
    "\n",
    "os.remove('tiago2.csv')"
   ]
  },
  {
   "cell_type": "code",
   "execution_count": 434,
   "metadata": {},
   "outputs": [
    {
     "name": "stdout",
     "output_type": "stream",
     "text": [
      "Número de apostas no Atlético de Madrid: 26.\n",
      "Thiago teve lucro de : 240.46.\n",
      "A odd média de Thiago foi de : 1.79.\n"
     ]
    }
   ],
   "source": [
    "# Quantas apostas o Thiago fez no Atlético de Madrid\n",
    "# Ele teve lucro ou prejuízo ao apostar no Atlético? De quanto foi?\n",
    "# Qual foi a média das odds apostadas pelo Thiago em todas suas apostas?\n",
    "\n",
    "import csv \n",
    "import statistics as st\n",
    "\n",
    "contador = 0\n",
    "retorno = 0\n",
    "odd = []\n",
    "with open('Apostas-do-Thiago.csv', 'r', encoding = 'utf-8', newline = '') as al:\n",
    "    arq1 = csv.DictReader(al)\n",
    "    \n",
    "    for linha in arq1:\n",
    "        if (linha['Mercado'] == '1x2') and (linha['Aposta Realizada'] == 'Ath Madrid'):\n",
    "            contador += 1\n",
    "            linha['Valor Recebido/Perdido'] = float(linha['Valor Recebido/Perdido'])\n",
    "            retorno += linha['Valor Recebido/Perdido']\n",
    "            \n",
    "        linha['Odds'] = float(linha['Odds'])\n",
    "        odd.append(linha['Odds'])\n",
    "    odd_media = round(st.mean(odd),2)      \n",
    "        \n",
    "    print(f'Número de apostas no Atlético de Madrid: {contador}.')\n",
    "    if retorno > 0:\n",
    "        print(f'Thiago teve lucro de : {round(retorno,2)}.')\n",
    "    elif retorno < 0:\n",
    "        print(f'Thiago teve prejuízo de: {round(retorno,2)}.')\n",
    "    else:\n",
    "        print('Thiago não teve retorno nem prejuízo.')\n",
    "    print(f'A odd média de Thiago foi de : {odd_media}.')"
   ]
  },
  {
   "cell_type": "code",
   "execution_count": 427,
   "metadata": {},
   "outputs": [],
   "source": [
    "import statistics as s\n",
    "l = [1,3,3]\n",
    "a = round(s.mean(l),2)"
   ]
  },
  {
   "cell_type": "code",
   "execution_count": 428,
   "metadata": {},
   "outputs": [
    {
     "data": {
      "text/plain": [
       "2.33"
      ]
     },
     "execution_count": 428,
     "metadata": {},
     "output_type": "execute_result"
    }
   ],
   "source": [
    "a"
   ]
  },
  {
   "cell_type": "code",
   "execution_count": null,
   "metadata": {},
   "outputs": [],
   "source": []
  },
  {
   "cell_type": "code",
   "execution_count": null,
   "metadata": {},
   "outputs": [],
   "source": []
  }
 ],
 "metadata": {
  "kernelspec": {
   "display_name": "Python 3",
   "language": "python",
   "name": "python3"
  },
  "language_info": {
   "codemirror_mode": {
    "name": "ipython",
    "version": 3
   },
   "file_extension": ".py",
   "mimetype": "text/x-python",
   "name": "python",
   "nbconvert_exporter": "python",
   "pygments_lexer": "ipython3",
   "version": "3.7.1"
  },
  "varInspector": {
   "cols": {
    "lenName": 16,
    "lenType": 16,
    "lenVar": 40
   },
   "kernels_config": {
    "python": {
     "delete_cmd_postfix": "",
     "delete_cmd_prefix": "del ",
     "library": "var_list.py",
     "varRefreshCmd": "print(var_dic_list())"
    },
    "r": {
     "delete_cmd_postfix": ") ",
     "delete_cmd_prefix": "rm(",
     "library": "var_list.r",
     "varRefreshCmd": "cat(var_dic_list()) "
    }
   },
   "types_to_exclude": [
    "module",
    "function",
    "builtin_function_or_method",
    "instance",
    "_Feature"
   ],
   "window_display": false
  }
 },
 "nbformat": 4,
 "nbformat_minor": 2
}
