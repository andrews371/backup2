{
 "cells": [
  {
   "cell_type": "code",
   "execution_count": 1,
   "metadata": {},
   "outputs": [],
   "source": [
    "# Em ciência de dados utiliza-se mais o pandas como veremos mais adiante\n",
    "# mas também vamos conhecer essa biblioteca "
   ]
  },
  {
   "cell_type": "code",
   "execution_count": 2,
   "metadata": {},
   "outputs": [
    {
     "name": "stdout",
     "output_type": "stream",
     "text": [
      "['time', 'odd', 'valor']\n",
      "['Cruzeiro', '1.5', '102.9']\n",
      "['Atlético', '2.1', '55.4']\n",
      "['Flamengo', '1.2', '69.8']\n",
      "['Fluminense', '1.7', '78.2']\n",
      "['Palmeiras', '1.3', '43.21']\n",
      "['Santos', '2.5', '87.69']\n",
      "['Grêmio', '1.4', '107.9']\n",
      "['Internacional', '2.4', '57.9']\n",
      "['Boca Juniors', '1.15', '200']\n",
      "['River Plate', '2.1', '150.25']\n"
     ]
    }
   ],
   "source": [
    "import csv\n",
    "\n",
    "with open('apostas.csv', 'r', encoding = 'utf-8') as acsv:\n",
    "    arq = csv.reader(acsv)\n",
    "    \n",
    "    for linha in arq:\n",
    "        print(linha)"
   ]
  },
  {
   "cell_type": "code",
   "execution_count": 26,
   "metadata": {},
   "outputs": [
    {
     "name": "stdout",
     "output_type": "stream",
     "text": [
      "['Cruzeiro', '1.5', '102.9']\n",
      "['Atlético', '2.1', '55.4']\n",
      "['Flamengo', '1.2', '69.8']\n",
      "['Fluminense', '1.7', '78.2']\n",
      "['Palmeiras', '1.3', '43.21']\n",
      "['Santos', '2.5', '87.69']\n",
      "['Grêmio', '1.4', '107.9']\n",
      "['Internacional', '2.4', '57.9']\n",
      "['Boca Juniors', '1.15', '200']\n",
      "['River Plate', '2.1', '150.25']\n"
     ]
    }
   ],
   "source": [
    "with open('apostas.csv', 'r', encoding = 'utf-8') as acsv:\n",
    "    arq = csv.reader(acsv)\n",
    "    next(arq) # começa a partir da próxima linha, então elimina o cabeçalho\n",
    "    for linha in arq:\n",
    "        print(linha)"
   ]
  },
  {
   "cell_type": "code",
   "execution_count": 6,
   "metadata": {},
   "outputs": [
    {
     "name": "stdout",
     "output_type": "stream",
     "text": [
      "Cruzeiro\n",
      "Atlético\n",
      "Flamengo\n",
      "Fluminense\n",
      "Palmeiras\n",
      "Santos\n",
      "Grêmio\n",
      "Internacional\n",
      "Boca Juniors\n",
      "River Plate\n"
     ]
    }
   ],
   "source": [
    "with open('apostas.csv', 'r', encoding = 'utf-8') as acsv:\n",
    "    arq = csv.reader(acsv)\n",
    "    next(arq) # começa a partir da próxima linha, então elimina o cabeçalho\n",
    "    for linha in arq:\n",
    "        print(linha[0]) # posso imprimir só o primeiro elemento da lista ou segundo, teceiro..."
   ]
  },
  {
   "cell_type": "code",
   "execution_count": 28,
   "metadata": {},
   "outputs": [],
   "source": [
    "# copiar um arquivo csv => muito semlhante à copiar um arquivo de texto\n",
    "\n",
    "with open('apostas.csv', 'r', encoding = 'utf-8') as acsv1:\n",
    "    larq = csv.reader(acsv1)\n",
    "    with open('apostas_copia.csv', 'w', encoding = 'utf-8', newline='') as acsv2: # newline='' é para não pular linha\n",
    "        earq = csv.writer(acsv2, delimiter = ',') # estou delimitando com \",\" para exemplificar mas pode se qlqr coisa\n",
    "        for linha in larq:\n",
    "            earq.writerow(linha)\n",
    "            "
   ]
  },
  {
   "cell_type": "code",
   "execution_count": 31,
   "metadata": {},
   "outputs": [
    {
     "name": "stdout",
     "output_type": "stream",
     "text": [
      "OrderedDict([('time', 'Cruzeiro'), ('odd', '1.5'), ('valor', '102.9')])\n",
      "OrderedDict([('time', 'Atlético'), ('odd', '2.1'), ('valor', '55.4')])\n",
      "OrderedDict([('time', 'Flamengo'), ('odd', '1.2'), ('valor', '69.8')])\n",
      "OrderedDict([('time', 'Fluminense'), ('odd', '1.7'), ('valor', '78.2')])\n",
      "OrderedDict([('time', 'Palmeiras'), ('odd', '1.3'), ('valor', '43.21')])\n",
      "OrderedDict([('time', 'Santos'), ('odd', '2.5'), ('valor', '87.69')])\n",
      "OrderedDict([('time', 'Grêmio'), ('odd', '1.4'), ('valor', '107.9')])\n",
      "OrderedDict([('time', 'Internacional'), ('odd', '2.4'), ('valor', '57.9')])\n",
      "OrderedDict([('time', 'Boca Juniors'), ('odd', '1.15'), ('valor', '200')])\n",
      "OrderedDict([('time', 'River Plate'), ('odd', '2.1'), ('valor', '150.25')])\n"
     ]
    }
   ],
   "source": [
    "with open('apostas.csv', 'r', encoding = 'utf-8') as acsv:\n",
    "    arq = csv.DictReader(acsv)\n",
    "    for linha in arq:\n",
    "        print(linha)"
   ]
  },
  {
   "cell_type": "code",
   "execution_count": 19,
   "metadata": {},
   "outputs": [
    {
     "name": "stdout",
     "output_type": "stream",
     "text": [
      "Cruzeiro\n",
      "Atlético\n",
      "Flamengo\n",
      "Fluminense\n",
      "Palmeiras\n",
      "Santos\n",
      "Grêmio\n",
      "Internacional\n",
      "Boca Juniors\n",
      "River Plate\n"
     ]
    }
   ],
   "source": [
    "import csv\n",
    "\n",
    "with open('apostas.csv', 'r', encoding = 'utf-8') as acsv:\n",
    "    arq = csv.DictReader(acsv)\n",
    "    for linha in arq:\n",
    "        print(linha['time']) # usando DictReader() eu posso filtrar pelo título: time, odd, valor que é mais intuitivo\n",
    "                             # do que usar posições, como 0, 1, 2... já vimos isso antes para outro container"
   ]
  },
  {
   "cell_type": "code",
   "execution_count": 35,
   "metadata": {},
   "outputs": [],
   "source": [
    "# copiar um arquivo csv => muito semlhante à copiar um arquivo de texto\n",
    "\n",
    "with open('apostas_copia.csv', 'r', encoding = 'utf-8') as acsv1:\n",
    "    larq = csv.DictReader(acsv1)\n",
    "    \n",
    "    with open('apostas_copia2.csv', 'w', encoding = 'utf-8', newline='') as acsv2: # newline='' é para não pular linha\n",
    "        cabecalho = ['time', 'odd', 'valor']\n",
    "        earq = csv.DictWriter(acsv2, fieldnames = cabecalho, delimiter = ',') # posso trocar a ordem do delimiter e \n",
    "        earq.writeheader()                                                    # fieldnames\n",
    "        \n",
    "        for linha in larq:\n",
    "            earq.writerow(linha)\n",
    "            \n",
    "# como dito a grande vantagem de se utilizar o DictReader e o DictWriter é poder fazer referência aos \n",
    "# elementos por nome em vez de número, o que torna a busca mais intuitiva            "
   ]
  },
  {
   "cell_type": "code",
   "execution_count": 95,
   "metadata": {},
   "outputs": [],
   "source": [
    "with open('apostas.csv', 'a', encoding='utf-8', newline='') as acsv:\n",
    "    arq = csv.writer(acsv)\n",
    "    arq.writerow(['Boca Juniors', 1.15, 200])\n",
    "    arq.writerow(['River Plate', 2.10, 150.25])"
   ]
  },
  {
   "cell_type": "code",
   "execution_count": 29,
   "metadata": {},
   "outputs": [],
   "source": [
    "l = [10.4, 100.50, 200.50]"
   ]
  },
  {
   "cell_type": "code",
   "execution_count": 30,
   "metadata": {},
   "outputs": [],
   "source": [
    "soma = sum(l)"
   ]
  },
  {
   "cell_type": "code",
   "execution_count": 31,
   "metadata": {},
   "outputs": [
    {
     "data": {
      "text/plain": [
       "311.4"
      ]
     },
     "execution_count": 31,
     "metadata": {},
     "output_type": "execute_result"
    }
   ],
   "source": [
    "soma"
   ]
  },
  {
   "cell_type": "code",
   "execution_count": null,
   "metadata": {},
   "outputs": [],
   "source": []
  }
 ],
 "metadata": {
  "kernelspec": {
   "display_name": "Python 3",
   "language": "python",
   "name": "python3"
  },
  "language_info": {
   "codemirror_mode": {
    "name": "ipython",
    "version": 3
   },
   "file_extension": ".py",
   "mimetype": "text/x-python",
   "name": "python",
   "nbconvert_exporter": "python",
   "pygments_lexer": "ipython3",
   "version": "3.7.1"
  },
  "varInspector": {
   "cols": {
    "lenName": 16,
    "lenType": 16,
    "lenVar": 40
   },
   "kernels_config": {
    "python": {
     "delete_cmd_postfix": "",
     "delete_cmd_prefix": "del ",
     "library": "var_list.py",
     "varRefreshCmd": "print(var_dic_list())"
    },
    "r": {
     "delete_cmd_postfix": ") ",
     "delete_cmd_prefix": "rm(",
     "library": "var_list.r",
     "varRefreshCmd": "cat(var_dic_list()) "
    }
   },
   "types_to_exclude": [
    "module",
    "function",
    "builtin_function_or_method",
    "instance",
    "_Feature"
   ],
   "window_display": false
  }
 },
 "nbformat": 4,
 "nbformat_minor": 2
}
