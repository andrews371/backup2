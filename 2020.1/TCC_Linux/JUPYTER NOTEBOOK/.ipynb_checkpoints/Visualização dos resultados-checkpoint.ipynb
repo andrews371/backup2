{
 "cells": [
  {
   "cell_type": "markdown",
   "metadata": {},
   "source": [
    "## Resultados obtidos usando Machine Learning na Premier League"
   ]
  },
  {
   "cell_type": "code",
   "execution_count": 1,
   "metadata": {},
   "outputs": [],
   "source": [
    "import pandas as pd\n",
    "import numpy as np\n",
    "from sklearn.feature_selection import SelectFromModel\n",
    "from sklearn.preprocessing import OneHotEncoder\n",
    "from sklearn.compose import ColumnTransformer\n",
    "from sklearn.preprocessing import LabelEncoder\n",
    "from sklearn.preprocessing import StandardScaler\n",
    "from sklearn import preprocessing\n",
    "from trinta_testes_validacao_cruzada import TrintaTestes\n",
    "from graph_compare import diagram\n",
    "from sklearn import metrics\n",
    "from sklearn.metrics import f1_score\n",
    "from sklearn.metrics import accuracy_score, confusion_matrix\n",
    "import itertools\n",
    "import matplotlib\n",
    "import matplotlib.pyplot as plt\n",
    "import seaborn as sns\n",
    "import warnings\n",
    "\n",
    "%matplotlib inline\n",
    "warnings.filterwarnings('ignore')\n",
    "#pd.options.display.float_format = '{:,.2f}'.format"
   ]
  },
  {
   "cell_type": "markdown",
   "metadata": {},
   "source": [
    "## Funções para plotagem da matriz de confusão e dos atributos mais importantes"
   ]
  },
  {
   "cell_type": "code",
   "execution_count": 2,
   "metadata": {},
   "outputs": [],
   "source": [
    "# Funções para plotagem da matriz de confusão\n",
    "\n",
    "def view_confusion_matrix(conf_matrix, classes=None,\n",
    "                          normalize=False,\n",
    "                          title='Confusion matrix',\n",
    "                          cmap=plt.cm.Blues):\n",
    "    \"\"\"\n",
    "    This function prints and plots the confusion matrix.\n",
    "    Normalization can be applied by setting `normalize=True`.\n",
    "    \"\"\"\n",
    "    \n",
    "    accuracy = np.trace(conf_matrix) / np.sum(conf_matrix).astype('float')\n",
    "    misclass = 1 - accuracy\n",
    "    if normalize:\n",
    "        conf_matrix = conf_matrix.astype('float') / conf_matrix.sum(axis=1)[:, np.newaxis]\n",
    "    plt.imshow(conf_matrix, interpolation='nearest', cmap=cmap)\n",
    "    plt.title(title)\n",
    "    plt.colorbar()\n",
    "    if classes:\n",
    "        tick_marks = np.arange(len(classes))\n",
    "        plt.xticks(tick_marks, classes, rotation=45)\n",
    "        plt.yticks(tick_marks, classes)\n",
    "\n",
    "    fmt = '.2f' if normalize else '.0f'\n",
    "    thresh = conf_matrix.max() / 2.\n",
    "    for i, j in itertools.product(range(conf_matrix.shape[0]), range(conf_matrix.shape[1])):\n",
    "        plt.text(j, i, format(conf_matrix[i, j], fmt),\n",
    "                 horizontalalignment=\"center\",\n",
    "                 color=\"white\" if conf_matrix[i, j] > thresh else \"black\")\n",
    "\n",
    "    plt.ylabel('True label')\n",
    "    plt.xlabel('Predicted label\\naccuracy={:0.4f}; misclass={:0.4f}'.format(accuracy, misclass))\n",
    "    plt.tight_layout()\n",
    "    plt.show()\n",
    "    plt.clf()\n",
    "    plt.cla()\n",
    "    plt.close()\n",
    "\n",
    "def plotConfusionMatrix(cnf_matrix, classes_):\n",
    "    np.set_printoptions(precision=2)\n",
    "\n",
    "    # para habilitar configuração de tamanho da imagem a ser plotada \n",
    "    #matplotlib.style.use('default')\n",
    "    \n",
    "    # tamanho da imagem a ser plotada\n",
    "    #plt.figure(figsize=(6,4))\n",
    "        \n",
    "    # Plot non-normalized confusion matrix\n",
    "    if classes_:\n",
    "        view_confusion_matrix(cnf_matrix, classes=classes_,\n",
    "                      title='Confusion matrix, without normalization')\n",
    "    else:\n",
    "        view_confusion_matrix(cnf_matrix,\n",
    "                      title='Confusion matrix, without normalization')\n",
    "    \n",
    "    # tamanho da imagem a ser plotada\n",
    "    #plt.figure(figsize=(6,4))\n",
    "    \n",
    "    # Plot normalized confusion matrix\n",
    "    if classes_:\n",
    "        view_confusion_matrix(cnf_matrix, classes=classes_, normalize=True,\n",
    "                      title='Normalized confusion matrix')\n",
    "    else:\n",
    "        view_confusion_matrix(cnf_matrix, normalize=True,\n",
    "                      title='Normalized confusion matrix')\n",
    "        \n",
    "\n",
    "# função para verificação dos atributos mais importante para árvore de decisão e random forest\n",
    "\n",
    "def importance(importancias):\n",
    "\n",
    "    # se tiver mudado o tamanho das plotagens, posso voltar ao padrão com o comando abaixo\n",
    "    #%matplotlib inline\n",
    "    \n",
    "    # juntando os dataframes pertencentes à lista passada como parâmetro em um só dataframe\n",
    "    importances = pd.concat(importancias, axis=0, join='inner')\n",
    "    \n",
    "    # eliminando duplicidade de atributos e unificando por média\n",
    "    importances = importances.groupby(importances.index).agg('mean')\n",
    "    \n",
    "    # ordenando por importância\n",
    "    importances = importances.sort_values('importance', ascending = False)\n",
    "    #importances = importances.iloc[0:4,:]\n",
    "    display(importances)\n",
    "\n",
    "    # imprimindo valores com nome dos atributos, em ordem e através de gráfico em barras\n",
    "    importances.plot(kind='bar')"
   ]
  },
  {
   "cell_type": "markdown",
   "metadata": {},
   "source": [
    "## Separação da base em previsores e classe"
   ]
  },
  {
   "cell_type": "code",
   "execution_count": 50,
   "metadata": {},
   "outputs": [],
   "source": [
    "#base = pd.read_csv('dados_meio_tempo_com_odds.csv').drop(['Unnamed: 0'], axis=1).sample(frac=1).reset_index(drop=True)\n",
    "#base = pd.read_csv('dados_meio_tempo_com_odds_sem_vencedor_e_gols_ht.csv').drop(['Unnamed: 0'], axis=1).sample(frac=1).reset_index(drop=True)\n",
    "base = pd.read_csv('dados_meio_tempo_sem_odds_sem_vencedor_e_gols_ht.csv').drop(['Unnamed: 0'], axis=1).sample(frac=1).reset_index(drop=True)\n",
    "\n",
    "previsores = base.iloc[:, 0:-1].values #returns a numpy array\n",
    "classe = base.iloc[:, -1].values\n",
    "\n",
    "classes_alvo = ['Visitante', 'Empate', 'Mandante']\n",
    "\n",
    "# apenas para visualizar em forma de dataframe\n",
    "classe_df = pd.DataFrame(classe)\n",
    "previsores_df = pd.DataFrame(previsores)"
   ]
  },
  {
   "cell_type": "markdown",
   "metadata": {},
   "source": [
    "## Pré-processamento dos dados"
   ]
  },
  {
   "cell_type": "code",
   "execution_count": 51,
   "metadata": {},
   "outputs": [
    {
     "ename": "IndexError",
     "evalue": "index 0 is out of bounds for axis 0 with size 0",
     "output_type": "error",
     "traceback": [
      "\u001b[0;31m---------------------------------------------------------------------------\u001b[0m",
      "\u001b[0;31mIndexError\u001b[0m                                Traceback (most recent call last)",
      "\u001b[0;32m<ipython-input-51-602bc7bea8a9>\u001b[0m in \u001b[0;36m<module>\u001b[0;34m\u001b[0m\n\u001b[1;32m      7\u001b[0m \u001b[0;34m\u001b[0m\u001b[0m\n\u001b[1;32m      8\u001b[0m \u001b[0;31m# usar LabelEncoder na posição 31 apenas se essa posiçã tiver a coluna \"vencedorht\"\u001b[0m\u001b[0;34m\u001b[0m\u001b[0;34m\u001b[0m\u001b[0;34m\u001b[0m\u001b[0m\n\u001b[0;32m----> 9\u001b[0;31m \u001b[0;32mif\u001b[0m \u001b[0mbase\u001b[0m\u001b[0;34m.\u001b[0m\u001b[0miloc\u001b[0m\u001b[0;34m[\u001b[0m\u001b[0;34m:\u001b[0m\u001b[0;34m,\u001b[0m \u001b[0;36m31\u001b[0m\u001b[0;34m:\u001b[0m\u001b[0;36m32\u001b[0m\u001b[0;34m]\u001b[0m\u001b[0;34m.\u001b[0m\u001b[0mcolumns\u001b[0m\u001b[0;34m[\u001b[0m\u001b[0;36m0\u001b[0m\u001b[0;34m]\u001b[0m \u001b[0;34m==\u001b[0m \u001b[0;34m'vencedorht'\u001b[0m\u001b[0;34m:\u001b[0m\u001b[0;34m\u001b[0m\u001b[0;34m\u001b[0m\u001b[0m\n\u001b[0m\u001b[1;32m     10\u001b[0m     \u001b[0mprevisores\u001b[0m\u001b[0;34m[\u001b[0m\u001b[0;34m:\u001b[0m\u001b[0;34m,\u001b[0m \u001b[0;36m31\u001b[0m\u001b[0;34m]\u001b[0m \u001b[0;34m=\u001b[0m \u001b[0mlabelencoder_X\u001b[0m\u001b[0;34m.\u001b[0m\u001b[0mfit_transform\u001b[0m\u001b[0;34m(\u001b[0m\u001b[0mprevisores\u001b[0m\u001b[0;34m[\u001b[0m\u001b[0;34m:\u001b[0m\u001b[0;34m,\u001b[0m \u001b[0;36m31\u001b[0m\u001b[0;34m]\u001b[0m\u001b[0;34m)\u001b[0m\u001b[0;34m\u001b[0m\u001b[0;34m\u001b[0m\u001b[0m\n\u001b[1;32m     11\u001b[0m \u001b[0;34m\u001b[0m\u001b[0m\n",
      "\u001b[0;32m~/anaconda3/lib/python3.7/site-packages/pandas/core/indexes/base.py\u001b[0m in \u001b[0;36m__getitem__\u001b[0;34m(self, key)\u001b[0m\n\u001b[1;32m   3928\u001b[0m         \u001b[0;32mif\u001b[0m \u001b[0mis_scalar\u001b[0m\u001b[0;34m(\u001b[0m\u001b[0mkey\u001b[0m\u001b[0;34m)\u001b[0m\u001b[0;34m:\u001b[0m\u001b[0;34m\u001b[0m\u001b[0;34m\u001b[0m\u001b[0m\n\u001b[1;32m   3929\u001b[0m             \u001b[0mkey\u001b[0m \u001b[0;34m=\u001b[0m \u001b[0mcom\u001b[0m\u001b[0;34m.\u001b[0m\u001b[0mcast_scalar_indexer\u001b[0m\u001b[0;34m(\u001b[0m\u001b[0mkey\u001b[0m\u001b[0;34m)\u001b[0m\u001b[0;34m\u001b[0m\u001b[0;34m\u001b[0m\u001b[0m\n\u001b[0;32m-> 3930\u001b[0;31m             \u001b[0;32mreturn\u001b[0m \u001b[0mgetitem\u001b[0m\u001b[0;34m(\u001b[0m\u001b[0mkey\u001b[0m\u001b[0;34m)\u001b[0m\u001b[0;34m\u001b[0m\u001b[0;34m\u001b[0m\u001b[0m\n\u001b[0m\u001b[1;32m   3931\u001b[0m \u001b[0;34m\u001b[0m\u001b[0m\n\u001b[1;32m   3932\u001b[0m         \u001b[0;32mif\u001b[0m \u001b[0misinstance\u001b[0m\u001b[0;34m(\u001b[0m\u001b[0mkey\u001b[0m\u001b[0;34m,\u001b[0m \u001b[0mslice\u001b[0m\u001b[0;34m)\u001b[0m\u001b[0;34m:\u001b[0m\u001b[0;34m\u001b[0m\u001b[0;34m\u001b[0m\u001b[0m\n",
      "\u001b[0;31mIndexError\u001b[0m: index 0 is out of bounds for axis 0 with size 0"
     ]
    }
   ],
   "source": [
    "# transformando variáveis categóricas em numéricas usando o LabelEncoder\n",
    "\n",
    "# para previsores\n",
    "labelencoder_X = LabelEncoder()\n",
    "previsores[:, 0] = labelencoder_X.fit_transform(previsores[:, 0])\n",
    "previsores[:, 1] = labelencoder_X.fit_transform(previsores[:, 1])\n",
    "\n",
    "# usar LabelEncoder na posição 31 apenas se essa posiçã tiver a coluna \"vencedorht\"\n",
    "try:\n",
    "    if base.iloc[:, 31:32].columns[0] == 'vencedorht':\n",
    "        previsores[:, 31] = labelencoder_X.fit_transform(previsores[:, 31])\n",
    "except:\n",
    "    pass\n",
    "\n",
    "# para classe LabelEncoder não costuma ser necessário\n",
    "'''labelencoder_classe = LabelEncoder()\n",
    "classe = labelencoder_classe.fit_transform(classe)'''\n",
    "\n",
    "pass\n",
    "\n",
    "# apenas para visualizar em forma de dataframe\n",
    "previsores_le_df = pd.DataFrame(previsores) "
   ]
  },
  {
   "cell_type": "code",
   "execution_count": null,
   "metadata": {},
   "outputs": [],
   "source": [
    "# transformando variáveis categóricas em numéricas e tirando o peso dos valores após a transformação\n",
    "# através do OneHotEncoder\n",
    "\n",
    "try:\n",
    "    if base.iloc[:, 31:32].columns[0] == 'vencedorht':\n",
    "            column_tranformer = ColumnTransformer([('one_hot_encoder', OneHotEncoder(), [0, 1, 31])],remainder='passthrough')\n",
    "    else:\n",
    "        column_tranformer = ColumnTransformer([('one_hot_encoder', OneHotEncoder(), [0, 1])],remainder='passthrough')\n",
    "except:\n",
    "        column_tranformer = ColumnTransformer([('one_hot_encoder', OneHotEncoder(), [0, 1])],remainder='passthrough')\n",
    "\n",
    "previsores = column_tranformer.fit_transform(previsores)\n",
    "\n",
    "# apenas para visualizar em forma de dataframe\n",
    "previsores_ohe_df = pd.DataFrame(previsores)"
   ]
  },
  {
   "cell_type": "code",
   "execution_count": 6,
   "metadata": {},
   "outputs": [],
   "source": [
    "# fazendo padronização das variáveis através do StandardScaler\n",
    "\n",
    "scaler = StandardScaler()\n",
    "previsores = scaler.fit_transform(previsores)\n",
    "\n",
    "# apenas para visualizar em forma de dataframe\n",
    "previsores_ss_df = pd.DataFrame(previsores)"
   ]
  },
  {
   "cell_type": "code",
   "execution_count": null,
   "metadata": {
    "scrolled": true
   },
   "outputs": [],
   "source": [
    "# fazendo padronização com o StandardScaler sem afetar as odds\n",
    "\n",
    "scaler = StandardScaler()\n",
    "prev_parciais = pd.DataFrame(scaler.fit_transform(previsores))\n",
    "\n",
    "prev_parciais.drop(prev_parciais.iloc[:,-3:], axis=1, inplace=True)\n",
    "previsores = pd.DataFrame(previsores)\n",
    "previsores.drop(previsores.iloc[:,0:-3], axis=1, inplace=True)\n",
    "previsores = pd.concat([prev_parciais, previsores], axis=1, join='inner')\n",
    "previsores = previsores.to_numpy()\n",
    "\n",
    "# apenas para visualizar em forma de dataframe\n",
    "previsores_sso_df = pd.DataFrame(previsores)"
   ]
  },
  {
   "cell_type": "code",
   "execution_count": null,
   "metadata": {},
   "outputs": [],
   "source": [
    "# Normalização dos dados com o preprocessing.MinMaxScaler\n",
    "\n",
    "min_max_scaler = preprocessing.MinMaxScaler()\n",
    "previsores = min_max_scaler.fit_transform(previsores)\n",
    "\n",
    "# apenas para visualizar em forma de dataframe\n",
    "previsores_n_df = pd.DataFrame(previsores)"
   ]
  },
  {
   "cell_type": "code",
   "execution_count": null,
   "metadata": {},
   "outputs": [],
   "source": [
    "# Normalização dos dados com o preprocessing.MinMaxScaler sem afetar as odds\n",
    "\n",
    "min_max_scaler = preprocessing.MinMaxScaler()\n",
    "prev_parciais = pd.DataFrame(min_max_scaler.fit_transform(previsores))\n",
    "\n",
    "prev_parciais.drop(prev_parciais.iloc[:,-3:], axis=1, inplace=True)\n",
    "previsores = pd.DataFrame(previsores)\n",
    "previsores.drop(previsores.iloc[:,0:-3],axis=1,inplace=True)\n",
    "previsores = pd.concat([prev_parciais, previsores], axis=1, join='inner')\n",
    "previsores = previsores.to_numpy()\n",
    "\n",
    "# apenas para visualizar em forma de dataframe\n",
    "previsores_no_df = pd.DataFrame(previsores)"
   ]
  },
  {
   "cell_type": "markdown",
   "metadata": {},
   "source": [
    "## Fazendo chamada para os algoritmos de Machine Learning"
   ]
  },
  {
   "cell_type": "code",
   "execution_count": null,
   "metadata": {},
   "outputs": [],
   "source": [
    "# chamando método para fazer treinamento e classificação com trinta testes\n",
    "# e validação cruzada usando StratifiedKFold\n",
    "# Decision Tree\n",
    "\n",
    "from sklearn.tree import DecisionTreeClassifier\n",
    "\n",
    "columns_ = None\n",
    "\n",
    "if ( len(pd.DataFrame(previsores).columns) <= 36):\n",
    "    num_cols = len(pd.DataFrame(previsores).columns)\n",
    "    columns_ = base.iloc[:, 0:num_cols].columns\n",
    "\n",
    "classificador = DecisionTreeClassifier()\n",
    "decision_tree = TrintaTestes(classificador, previsores, classe, columns_)"
   ]
  },
  {
   "cell_type": "code",
   "execution_count": null,
   "metadata": {},
   "outputs": [],
   "source": [
    "print(list(decision_tree.acuracia()))"
   ]
  },
  {
   "cell_type": "code",
   "execution_count": null,
   "metadata": {},
   "outputs": [],
   "source": [
    "print(decision_tree.acuracia().mean())"
   ]
  },
  {
   "cell_type": "code",
   "execution_count": null,
   "metadata": {},
   "outputs": [],
   "source": [
    "# chamando método para fazer treinamento e classificação com trinta testes\n",
    "# e validação cruzada usando StratifiedKFold\n",
    "# Gaussian Naive Bayes\n",
    "\n",
    "from sklearn.naive_bayes import GaussianNB\n",
    "\n",
    "classificador = GaussianNB()\n",
    "naive_bayes = TrintaTestes(classificador, previsores, classe)"
   ]
  },
  {
   "cell_type": "code",
   "execution_count": null,
   "metadata": {},
   "outputs": [],
   "source": [
    "print(list(naive_bayes.acuracia()))"
   ]
  },
  {
   "cell_type": "code",
   "execution_count": null,
   "metadata": {},
   "outputs": [],
   "source": [
    "print(naive_bayes.acuracia().mean())"
   ]
  },
  {
   "cell_type": "code",
   "execution_count": null,
   "metadata": {},
   "outputs": [],
   "source": [
    "# chamando método para fazer treinamento e classificação com trinta testes\n",
    "# e validação cruzada usando StratifiedKFold\n",
    "# ODDS\n",
    "\n",
    "from odds import OddsClassifier\n",
    "\n",
    "classificador = OddsClassifier() \n",
    "odds = TrintaTestes(classificador, previsores, classe)"
   ]
  },
  {
   "cell_type": "code",
   "execution_count": null,
   "metadata": {},
   "outputs": [],
   "source": [
    "print(list(odds.acuracia()))"
   ]
  },
  {
   "cell_type": "code",
   "execution_count": null,
   "metadata": {},
   "outputs": [],
   "source": [
    "print(odds.acuracia().mean())"
   ]
  },
  {
   "cell_type": "code",
   "execution_count": null,
   "metadata": {},
   "outputs": [],
   "source": [
    "# chamando método para fazer treinamento e classificação com trinta testes\n",
    "# e validação cruzada usando StratifiedKFold\n",
    "# KNN\n",
    "\n",
    "from sklearn.neighbors import KNeighborsClassifier\n",
    "\n",
    "classificador = KNeighborsClassifier(n_neighbors=5, metric='minkowski', p = 2)\n",
    "knn = TrintaTestes(classificador, previsores, classe)"
   ]
  },
  {
   "cell_type": "code",
   "execution_count": null,
   "metadata": {},
   "outputs": [],
   "source": [
    "print(list(knn.acuracia()))"
   ]
  },
  {
   "cell_type": "code",
   "execution_count": null,
   "metadata": {},
   "outputs": [],
   "source": [
    "print(knn.acuracia().mean())"
   ]
  },
  {
   "cell_type": "code",
   "execution_count": null,
   "metadata": {
    "scrolled": true
   },
   "outputs": [],
   "source": [
    "# chamando método para fazer treinamento e classificação com trinta testes\n",
    "# e validação cruzada usando StratifiedKFold\n",
    "# RNA\n",
    "\n",
    "from sklearn.neural_network import MLPClassifier\n",
    "\n",
    "classificador = MLPClassifier(verbose = True, max_iter = 1000,\n",
    "                      tol = 0.000010, solver='adam',\n",
    "                      hidden_layer_sizes=(100), activation = 'relu',\n",
    "                      batch_size=200, learning_rate_init=0.001)\n",
    "rna = TrintaTestes(classificador, previsores, classe)"
   ]
  },
  {
   "cell_type": "code",
   "execution_count": null,
   "metadata": {},
   "outputs": [],
   "source": [
    "rna.acuracia().mean()"
   ]
  },
  {
   "cell_type": "code",
   "execution_count": null,
   "metadata": {},
   "outputs": [],
   "source": [
    "print(list(rna.acuracia()))"
   ]
  },
  {
   "cell_type": "code",
   "execution_count": null,
   "metadata": {},
   "outputs": [],
   "source": [
    "pd.DataFrame(previsores)"
   ]
  },
  {
   "cell_type": "code",
   "execution_count": null,
   "metadata": {},
   "outputs": [],
   "source": [
    "# chamando método para fazer treinamento e classificação com trinta testes\n",
    "# e validação cruzada usando StratifiedKFold\n",
    "# SVM\n",
    "\n",
    "from sklearn.svm import SVC\n",
    "\n",
    "classificador = SVC(kernel = 'rbf', random_state = 1, C = 2.0)\n",
    "svm = TrintaTestes(classificador, previsores, classe)"
   ]
  },
  {
   "cell_type": "code",
   "execution_count": null,
   "metadata": {},
   "outputs": [],
   "source": [
    "print(list(svm.acuracia()))"
   ]
  },
  {
   "cell_type": "code",
   "execution_count": null,
   "metadata": {},
   "outputs": [],
   "source": [
    "print(svm.acuracia().mean())"
   ]
  },
  {
   "cell_type": "code",
   "execution_count": 7,
   "metadata": {},
   "outputs": [],
   "source": [
    "# chamando método para fazer treinamento e classificação com trinta testes\n",
    "# e validação cruzada usando StratifiedKFold\n",
    "# Random Forest\n",
    "\n",
    "from sklearn.ensemble import RandomForestClassifier\n",
    "\n",
    "columns_ = None\n",
    "\n",
    "if ( len(pd.DataFrame(previsores).columns) <= 36):\n",
    "    num_cols = len(pd.DataFrame(previsores).columns)\n",
    "    columns_ = base.iloc[:, 0:num_cols].columns\n",
    "    \n",
    "classificador = RandomForestClassifier(n_estimators=40, criterion='entropy', random_state=0)\n",
    "random_forest = TrintaTestes(classificador, previsores, classe, columns_)"
   ]
  },
  {
   "cell_type": "code",
   "execution_count": 8,
   "metadata": {},
   "outputs": [
    {
     "name": "stdout",
     "output_type": "stream",
     "text": [
      "0.5792357964447543\n"
     ]
    }
   ],
   "source": [
    "print(random_forest.acuracia().mean())"
   ]
  },
  {
   "cell_type": "code",
   "execution_count": null,
   "metadata": {},
   "outputs": [],
   "source": [
    "print(list(random_forest.acuracia()))"
   ]
  },
  {
   "cell_type": "markdown",
   "metadata": {},
   "source": [
    "### Atributos mais Importantes em números e gráfico de barras"
   ]
  },
  {
   "cell_type": "code",
   "execution_count": 9,
   "metadata": {},
   "outputs": [
    {
     "data": {
      "text/html": [
       "<div>\n",
       "<style scoped>\n",
       "    .dataframe tbody tr th:only-of-type {\n",
       "        vertical-align: middle;\n",
       "    }\n",
       "\n",
       "    .dataframe tbody tr th {\n",
       "        vertical-align: top;\n",
       "    }\n",
       "\n",
       "    .dataframe thead th {\n",
       "        text-align: right;\n",
       "    }\n",
       "</style>\n",
       "<table border=\"1\" class=\"dataframe\">\n",
       "  <thead>\n",
       "    <tr style=\"text-align: right;\">\n",
       "      <th></th>\n",
       "      <th>importance</th>\n",
       "    </tr>\n",
       "  </thead>\n",
       "  <tbody>\n",
       "    <tr>\n",
       "      <th>PSA</th>\n",
       "      <td>0.066991</td>\n",
       "    </tr>\n",
       "    <tr>\n",
       "      <th>PSH</th>\n",
       "      <td>0.066826</td>\n",
       "    </tr>\n",
       "    <tr>\n",
       "      <th>passesvisitanteht</th>\n",
       "      <td>0.049376</td>\n",
       "    </tr>\n",
       "    <tr>\n",
       "      <th>PSD</th>\n",
       "      <td>0.049330</td>\n",
       "    </tr>\n",
       "    <tr>\n",
       "      <th>passescasaht</th>\n",
       "      <td>0.040884</td>\n",
       "    </tr>\n",
       "    <tr>\n",
       "      <th>chutesnogolcasaht</th>\n",
       "      <td>0.039756</td>\n",
       "    </tr>\n",
       "    <tr>\n",
       "      <th>passescertosvisitanteht</th>\n",
       "      <td>0.033664</td>\n",
       "    </tr>\n",
       "    <tr>\n",
       "      <th>duelosganhosvisitanteht</th>\n",
       "      <td>0.033640</td>\n",
       "    </tr>\n",
       "    <tr>\n",
       "      <th>possebolavisitanteht</th>\n",
       "      <td>0.033304</td>\n",
       "    </tr>\n",
       "    <tr>\n",
       "      <th>possebolacasaht</th>\n",
       "      <td>0.033252</td>\n",
       "    </tr>\n",
       "    <tr>\n",
       "      <th>passescertoscasaht</th>\n",
       "      <td>0.033003</td>\n",
       "    </tr>\n",
       "    <tr>\n",
       "      <th>disputasaereasvencidasvisitanteht</th>\n",
       "      <td>0.032324</td>\n",
       "    </tr>\n",
       "    <tr>\n",
       "      <th>duelosganhoscasaht</th>\n",
       "      <td>0.032250</td>\n",
       "    </tr>\n",
       "    <tr>\n",
       "      <th>time_visitante</th>\n",
       "      <td>0.032022</td>\n",
       "    </tr>\n",
       "    <tr>\n",
       "      <th>time_casa</th>\n",
       "      <td>0.031605</td>\n",
       "    </tr>\n",
       "    <tr>\n",
       "      <th>chutesnogolvisitanteht</th>\n",
       "      <td>0.030660</td>\n",
       "    </tr>\n",
       "    <tr>\n",
       "      <th>chutescasaht</th>\n",
       "      <td>0.030111</td>\n",
       "    </tr>\n",
       "    <tr>\n",
       "      <th>disputasaereasvencidascasaht</th>\n",
       "      <td>0.029725</td>\n",
       "    </tr>\n",
       "    <tr>\n",
       "      <th>chutesdentroareacasaht</th>\n",
       "      <td>0.029090</td>\n",
       "    </tr>\n",
       "    <tr>\n",
       "      <th>chutesdentroareavisitanteht</th>\n",
       "      <td>0.027047</td>\n",
       "    </tr>\n",
       "    <tr>\n",
       "      <th>chutesvisitanteht</th>\n",
       "      <td>0.026909</td>\n",
       "    </tr>\n",
       "    <tr>\n",
       "      <th>totalgolsht</th>\n",
       "      <td>0.024642</td>\n",
       "    </tr>\n",
       "    <tr>\n",
       "      <th>cornercasaht</th>\n",
       "      <td>0.023380</td>\n",
       "    </tr>\n",
       "    <tr>\n",
       "      <th>cornervisitanteht</th>\n",
       "      <td>0.021001</td>\n",
       "    </tr>\n",
       "    <tr>\n",
       "      <th>chutesforagolcasaht</th>\n",
       "      <td>0.020861</td>\n",
       "    </tr>\n",
       "    <tr>\n",
       "      <th>chutesforaareacasaht</th>\n",
       "      <td>0.020483</td>\n",
       "    </tr>\n",
       "    <tr>\n",
       "      <th>chutesforaareavisitanteht</th>\n",
       "      <td>0.019563</td>\n",
       "    </tr>\n",
       "    <tr>\n",
       "      <th>chutesforagolvisitanteht</th>\n",
       "      <td>0.018906</td>\n",
       "    </tr>\n",
       "    <tr>\n",
       "      <th>defesasgoleirovisitanteht</th>\n",
       "      <td>0.018292</td>\n",
       "    </tr>\n",
       "    <tr>\n",
       "      <th>chutesbloqueadoscasaht</th>\n",
       "      <td>0.017776</td>\n",
       "    </tr>\n",
       "    <tr>\n",
       "      <th>defesasgoleirocasaht</th>\n",
       "      <td>0.017070</td>\n",
       "    </tr>\n",
       "    <tr>\n",
       "      <th>chutesbloqueadosvisitanteht</th>\n",
       "      <td>0.016257</td>\n",
       "    </tr>\n",
       "  </tbody>\n",
       "</table>\n",
       "</div>"
      ],
      "text/plain": [
       "                                   importance\n",
       "PSA                                  0.066991\n",
       "PSH                                  0.066826\n",
       "passesvisitanteht                    0.049376\n",
       "PSD                                  0.049330\n",
       "passescasaht                         0.040884\n",
       "chutesnogolcasaht                    0.039756\n",
       "passescertosvisitanteht              0.033664\n",
       "duelosganhosvisitanteht              0.033640\n",
       "possebolavisitanteht                 0.033304\n",
       "possebolacasaht                      0.033252\n",
       "passescertoscasaht                   0.033003\n",
       "disputasaereasvencidasvisitanteht    0.032324\n",
       "duelosganhoscasaht                   0.032250\n",
       "time_visitante                       0.032022\n",
       "time_casa                            0.031605\n",
       "chutesnogolvisitanteht               0.030660\n",
       "chutescasaht                         0.030111\n",
       "disputasaereasvencidascasaht         0.029725\n",
       "chutesdentroareacasaht               0.029090\n",
       "chutesdentroareavisitanteht          0.027047\n",
       "chutesvisitanteht                    0.026909\n",
       "totalgolsht                          0.024642\n",
       "cornercasaht                         0.023380\n",
       "cornervisitanteht                    0.021001\n",
       "chutesforagolcasaht                  0.020861\n",
       "chutesforaareacasaht                 0.020483\n",
       "chutesforaareavisitanteht            0.019563\n",
       "chutesforagolvisitanteht             0.018906\n",
       "defesasgoleirovisitanteht            0.018292\n",
       "chutesbloqueadoscasaht               0.017776\n",
       "defesasgoleirocasaht                 0.017070\n",
       "chutesbloqueadosvisitanteht          0.016257"
      ]
     },
     "metadata": {},
     "output_type": "display_data"
    },
    {
     "data": {
      "image/png": "[encoded data removed]",
      "text/plain": [
       "<Figure size 432x288 with 1 Axes>"
      ]
     },
     "metadata": {
      "needs_background": "light"
     },
     "output_type": "display_data"
    }
   ],
   "source": [
    "importance(random_forest.importances())"
   ]
  },
  {
   "cell_type": "markdown",
   "metadata": {},
   "source": [
    "### Preparando para exibir em Boxplot"
   ]
  },
  {
   "cell_type": "code",
   "execution_count": 10,
   "metadata": {},
   "outputs": [],
   "source": [
    "atributos_importantes = pd.concat(random_forest.importances(), axis=0, join='inner')"
   ]
  },
  {
   "cell_type": "code",
   "execution_count": 11,
   "metadata": {},
   "outputs": [],
   "source": [
    "atributos_importantes['feature'] = atributos_importantes.index\n",
    "atributos_importantes = atributos_importantes[['feature', 'importance']]\n",
    "atributos_importantes = atributos_importantes.reset_index(drop=True)"
   ]
  },
  {
   "cell_type": "code",
   "execution_count": 12,
   "metadata": {},
   "outputs": [],
   "source": [
    "atributos_importantes_list = atributos_importantes.groupby('feature')['importance'].apply(list)"
   ]
  },
  {
   "cell_type": "code",
   "execution_count": 13,
   "metadata": {},
   "outputs": [],
   "source": [
    "col = atributos_importantes_list.index"
   ]
  },
  {
   "cell_type": "code",
   "execution_count": 14,
   "metadata": {},
   "outputs": [],
   "source": [
    "df_list = []\n",
    "for i in range(len(col)):\n",
    "    df_list.append(pd.DataFrame(atributos_importantes_list[i], columns=[col[i]]))\n",
    "caracteristica_final_df = pd.concat(df_list, axis=1, join='inner')"
   ]
  },
  {
   "cell_type": "code",
   "execution_count": 15,
   "metadata": {},
   "outputs": [],
   "source": [
    "col_caracteristicas = caracteristica_final_df.mean().sort_values().index"
   ]
  },
  {
   "cell_type": "code",
   "execution_count": 16,
   "metadata": {},
   "outputs": [],
   "source": [
    "col_caracteristicas = list(col_caracteristicas)"
   ]
  },
  {
   "cell_type": "markdown",
   "metadata": {},
   "source": [
    "## Boxplot com os Atributos mais Importantes"
   ]
  },
  {
   "cell_type": "code",
   "execution_count": 17,
   "metadata": {},
   "outputs": [
    {
     "data": {
      "image/png": "[encoded data removed]",
      "text/plain": [
       "<Figure size 648x432 with 1 Axes>"
      ]
     },
     "metadata": {
      "needs_background": "light"
     },
     "output_type": "display_data"
    }
   ],
   "source": [
    "# Pré-processamento usado para o Random Forest => LabelEncoder e StandardScaler\n",
    "# Pré-processamento usado para a Árvore de Decisão => LabelEncoder e Normalização\n",
    "\n",
    "fig = plt.figure(figsize=(9,6))\n",
    "caracteristica_final_df.boxplot(column=col_caracteristicas, vert=False)\n",
    "plt.title('Atributos mais Importantes')\n",
    "plt.xlabel('Importância', fontsize=12, color='black')\n",
    "plt.ylabel('Atributos', fontsize=12, color='black')\n",
    "\n",
    "# para rotacionar os nomes dos atributos no boxplot em x, para o eixo y é só substituir x por y em plt.xticks\n",
    "#plt.xticks(rotation=90)\n",
    "\n",
    "plt.show()"
   ]
  },
  {
   "cell_type": "markdown",
   "metadata": {},
   "source": [
    "## Lista com os resultados de cada algoritmo\n",
    "### Para os valores abaixo a base usada contém vencedorht e gols casa e visitante ht"
   ]
  },
  {
   "cell_type": "code",
   "execution_count": null,
   "metadata": {},
   "outputs": [],
   "source": [
    "# Lista com os resultados dos algoritmos para o boxplot - trazida por chamada feita anteriormente\n",
    "# para não ter que executar todo o código sempre\n",
    "\n",
    "svm_list = [0.6518952596723597, 0.6565005228302544, 0.6571976298361799, 0.6558208434994771, 0.6531849076333217, 0.6571453468107354, 0.6552021610317184, 0.6538297316138026, 0.6545094109445799, 0.6552283025444405, 0.6571497037295224, 0.6578337399790868, 0.6531456953642384, 0.6544876263506448, 0.6519126873475078, 0.6558644126873474, 0.6578293830602997, 0.6519126873475078, 0.6558644126873474, 0.6512417218543046, 0.6585700592540955, 0.655154234925061, 0.6538820146392471, 0.6578729522481701, 0.651930115022656, 0.6585439177413732, 0.6579470198675497, 0.6597464273265946, 0.6565135935866155, 0.6552195887068665]\n",
    "random_forest_list = [0.6373387940048797, 0.6352605437434646, 0.6426368072499129, 0.6441007319623562, 0.6399747298710352, 0.6374085047054723, 0.641368943882886, 0.6419919832694319, 0.6499346462181945, 0.6387504356918787, 0.6413253746950157, 0.6440135935866156, 0.6486057859881492, 0.6354261066573719, 0.6361101429069362, 0.634803067270826, 0.6380228302544441, 0.6432685604740327, 0.6401228651097943, 0.6413340885325898, 0.6439961659114675, 0.6413515162077379, 0.6379923318229348, 0.6367549668874173, 0.6394388288602301, 0.6519039735099338, 0.6618290345067968, 0.626158940397351, 0.6387678633670268, 0.6387373649355176]\n",
    "knn_list = [0.619588706866504, 0.617536598117811, 0.6056509236667829, 0.6017471244336006, 0.612247298710352, 0.6155803415824328, 0.6070233530846985, 0.6017166260020913, 0.61095765074939, 0.6103128267689091, 0.6063828860230045, 0.6129531195538516, 0.603733879400488, 0.605668351341931, 0.6103041129313349, 0.6036685256186824, 0.6136589403973509, 0.6063349599163471, 0.6103389682816311, 0.6083522133147439, 0.6183382711746253, 0.6103215406064831, 0.6083870686650401, 0.6070015684907634, 0.6142384105960266, 0.603733879400488, 0.6063262460787731, 0.6089752527012896, 0.5964491111885675, 0.6136894388288602]\n",
    "naive_bayes_list = [0.5951333217148832, 0.600387765772046, 0.5971331474381317, 0.6010238759149529, 0.5997168002788428, 0.5944972115719762, 0.5990414778668526, 0.5911728825374695, 0.5977256883931683, 0.5984140815615197, 0.6003180550714535, 0.5951551063088184, 0.6011023004531195, 0.5965057511327989, 0.59908940397351, 0.5971331474381317, 0.591111885674451, 0.5917915650052283, 0.593808818403625, 0.596523178807947, 0.5944187870338097, 0.6023265946322761, 0.6018299058905542, 0.5977518299058906, 0.6017296967584524, 0.5937173231090973, 0.5963750435691879, 0.5951507493900314, 0.5971200766817707, 0.5904714186127571]\n",
    "odds_list = [0.5541042174973858, 0.5542305681422098, 0.5542436388985709, 0.5542392819797839, 0.5541913558731265, 0.554139072847682, 0.5541608574416174, 0.5542349250609969, 0.5541565005228303, 0.5541913558731265, 0.5541913558731265, 0.5541565005228303, 0.5541477866852562, 0.5541521436040433, 0.5542131404670617, 0.5542218543046358, 0.5541826420355525, 0.5541434297664691, 0.5541477866852562, 0.5541477866852562, 0.5541913558731265, 0.554139072847682, 0.5542044266294877, 0.5541695712791913, 0.5541695712791913, 0.5541695712791913, 0.554117288253747, 0.5541608574416172, 0.5541477866852562, 0.5542174973858487]\n",
    "decision_tree_list = [0.5646915301498779, 0.5277884280237016, 0.5469283722551411, 0.5370120250958522, 0.5455472289996515, 0.5330254444057163, 0.5489194841408156, 0.5443185779017079, 0.5422621122342279, 0.5442445102823283, 0.5475426978041129, 0.5495163820146393, 0.5363149180899268, 0.5449329034506797, 0.5362844196584176, 0.5382450331125828, 0.5409855350296271, 0.5449198326943185, 0.5528929940745904, 0.5535378180550714, 0.5310212617636807, 0.5389334262809341, 0.5423187521784594, 0.5356352387591495, 0.5125261415127221, 0.55810822586267, 0.5245120250958523, 0.5317532241199024, 0.5560822586266992, 0.511210352039038]\n",
    "rna_list = [0.5990806901359359, 0.6043612757058209, 0.6194841408156152, 0.6136371558034158, 0.6189046706169397, 0.6122298710352039, 0.6209132101777624, 0.62682119205298, 0.6241983269431858, 0.6340318926455211, 0.6228389682816312, 0.6314874520738933, 0.6274660160334611, 0.6208870686650401, 0.6103215406064831, 0.6235578598814918, 0.6194710700592541, 0.6149224468455908, 0.6130097594980829, 0.6189177413733008, 0.6307816312303938, 0.6148963053328685, 0.6148701638201464, 0.6175845242244684, 0.6222289996514465, 0.6194841408156152, 0.6214752527012897, 0.6294963401882189, 0.621523178807947, 0.6003572673405368]"
   ]
  },
  {
   "cell_type": "markdown",
   "metadata": {},
   "source": [
    "### Para os valores abaixo a base usada não contém vencedorht nem gols casa e visitante ht"
   ]
  },
  {
   "cell_type": "markdown",
   "metadata": {},
   "source": [
    "### Pré-processamento usado para cada algoritmo"
   ]
  },
  {
   "cell_type": "code",
   "execution_count": 18,
   "metadata": {},
   "outputs": [
    {
     "data": {
      "text/html": [
       "<div>\n",
       "<style scoped>\n",
       "    .dataframe tbody tr th:only-of-type {\n",
       "        vertical-align: middle;\n",
       "    }\n",
       "\n",
       "    .dataframe tbody tr th {\n",
       "        vertical-align: top;\n",
       "    }\n",
       "\n",
       "    .dataframe thead th {\n",
       "        text-align: right;\n",
       "    }\n",
       "</style>\n",
       "<table border=\"1\" class=\"dataframe\">\n",
       "  <thead>\n",
       "    <tr style=\"text-align: right;\">\n",
       "      <th></th>\n",
       "      <th>LabelEncoder e StandardScaler</th>\n",
       "      <th>LabelEncoder e StandardScaler sem afetar as odds</th>\n",
       "      <th>LabelEncoder e Normalização sem afetar as odds</th>\n",
       "      <th>LabelEncoder e Normalização</th>\n",
       "    </tr>\n",
       "  </thead>\n",
       "  <tbody>\n",
       "    <tr>\n",
       "      <th>RNA</th>\n",
       "      <td></td>\n",
       "      <td></td>\n",
       "      <td>✓</td>\n",
       "      <td></td>\n",
       "    </tr>\n",
       "    <tr>\n",
       "      <th>SVM</th>\n",
       "      <td></td>\n",
       "      <td>✓</td>\n",
       "      <td></td>\n",
       "      <td></td>\n",
       "    </tr>\n",
       "    <tr>\n",
       "      <th>Random Forest</th>\n",
       "      <td>✓</td>\n",
       "      <td></td>\n",
       "      <td></td>\n",
       "      <td></td>\n",
       "    </tr>\n",
       "    <tr>\n",
       "      <th>Naive Bayes</th>\n",
       "      <td></td>\n",
       "      <td>✓</td>\n",
       "      <td></td>\n",
       "      <td></td>\n",
       "    </tr>\n",
       "    <tr>\n",
       "      <th>KNN</th>\n",
       "      <td></td>\n",
       "      <td>✓</td>\n",
       "      <td></td>\n",
       "      <td></td>\n",
       "    </tr>\n",
       "    <tr>\n",
       "      <th>Árvore de Decisão</th>\n",
       "      <td></td>\n",
       "      <td></td>\n",
       "      <td></td>\n",
       "      <td>✓</td>\n",
       "    </tr>\n",
       "  </tbody>\n",
       "</table>\n",
       "</div>"
      ],
      "text/plain": [
       "                  LabelEncoder e StandardScaler  \\\n",
       "RNA                                               \n",
       "SVM                                               \n",
       "Random Forest                                 ✓   \n",
       "Naive Bayes                                       \n",
       "KNN                                               \n",
       "Árvore de Decisão                                 \n",
       "\n",
       "                  LabelEncoder e StandardScaler sem afetar as odds  \\\n",
       "RNA                                                                  \n",
       "SVM                                                              ✓   \n",
       "Random Forest                                                        \n",
       "Naive Bayes                                                      ✓   \n",
       "KNN                                                              ✓   \n",
       "Árvore de Decisão                                                    \n",
       "\n",
       "                  LabelEncoder e Normalização sem afetar as odds  \\\n",
       "RNA                                                            ✓   \n",
       "SVM                                                                \n",
       "Random Forest                                                      \n",
       "Naive Bayes                                                        \n",
       "KNN                                                                \n",
       "Árvore de Decisão                                                  \n",
       "\n",
       "                  LabelEncoder e Normalização  \n",
       "RNA                                            \n",
       "SVM                                            \n",
       "Random Forest                                  \n",
       "Naive Bayes                                    \n",
       "KNN                                            \n",
       "Árvore de Decisão                           ✓  "
      ]
     },
     "execution_count": 18,
     "metadata": {},
     "output_type": "execute_result"
    }
   ],
   "source": [
    "indices = ['RNA', 'SVM', 'Random Forest', 'Naive Bayes', 'KNN', 'Árvore de Decisão']\n",
    "pp = pd.DataFrame({'LabelEncoder e StandardScaler':['','','\\u2713','','',''], \n",
    "                   'LabelEncoder e StandardScaler sem afetar as odds':['','\\u2713','','\\u2713','\\u2713',''], \n",
    "                   'LabelEncoder e Normalização sem afetar as odds':['\\u2713','','','','',''], \n",
    "                   'LabelEncoder e Normalização':['','','','','','\\u2713']}, index = indices)\n",
    "pp"
   ]
  },
  {
   "cell_type": "code",
   "execution_count": 19,
   "metadata": {},
   "outputs": [],
   "source": [
    "svm_list = [0.6043351341930986, 0.59845765074939, 0.6089970372952248, 0.5978084698501219, 0.5970939351690484, 0.5990937608922969, 0.5937303938654583, 0.6070625653537818, 0.6023745207389334, 0.6030324154757756, 0.5997777971418613, 0.6030106308818404, 0.5990632624607877, 0.5917392819797839, 0.5977736144998257, 0.5917305681422098, 0.5977692575810387, 0.5983835831300104, 0.6050148135238759, 0.6044397002439874, 0.6083434994771697, 0.5970547228999651, 0.603102126176368, 0.605040955036598, 0.593821889159986, 0.6083130010456606, 0.5957432903450679, 0.5957737887765772, 0.6030106308818404, 0.6043351341930986]\n",
    "random_forest_list = [0.5806073544789125, 0.5799799581735796, 0.562107877309167, 0.5825766817706518, 0.5898919484140815, 0.5865284071104915, 0.5865763332171487, 0.5865284071104915, 0.5897743116068317, 0.5891469153014988, 0.5779234925060998, 0.5679722899965144, 0.5898440223074242, 0.573318229348205, 0.5786467410247473, 0.5838706866504009, 0.5812652492157546, 0.5746819449285465, 0.5759890205646567, 0.5878267689090275, 0.5660596026490066, 0.578611885674451, 0.5785247472987104, 0.5858966538863716, 0.5812957476472638, 0.5825853956082259, 0.5785508888114326, 0.581949285465319, 0.5739456256535378, 0.582589752527013]\n",
    "knn_list = [0.5092410247472987, 0.5192357964447543, 0.5205298013245032, 0.5297141861275706, 0.516486580690136, 0.5204165214360404, 0.5184646218194493, 0.5211266991983269, 0.5264116416869989, 0.5191268734750785, 0.516490937608923, 0.5197586266991984, 0.5164691530149879, 0.505929766469153, 0.5238105611711397, 0.5152448588358313, 0.5138637155803416, 0.5290606483095155, 0.521139769954688, 0.5131273963053329, 0.515210003485535, 0.5238584872777972, 0.5197455559428372, 0.5098466364586964, 0.5132101777622865, 0.5125827814569537, 0.5152056465667479, 0.5324154757755315, 0.5171357615894039, 0.5264377831997212]\n",
    "naive_bayes_list = [0.5231047403276403, 0.525135064482398, 0.5238062042523527, 0.5217933077727431, 0.5211049146043918, 0.5224337748344371, 0.5164952945277099, 0.5204862321366329, 0.5204252352736145, 0.523065528058557, 0.5238802718717324, 0.5231178110840015, 0.5211789822237713, 0.5230916695712792, 0.5211833391425584, 0.5224468455907981, 0.5198021958870687, 0.5185038340885326, 0.5211833391425584, 0.5211702683861973, 0.5198109097246427, 0.5231439525967236, 0.5178023701638201, 0.5244336005576856, 0.5217497385848728, 0.5224381317532242, 0.5237016382014639, 0.5184820494945974, 0.5158417567096549, 0.521131056117114]\n",
    "odds_list = [0.554117288253747, 0.554139072847682, 0.5541652143604043, 0.5541565005228303, 0.554117288253747, 0.5542087835482746, 0.5541826420355525, 0.5542697804112932, 0.5541565005228303, 0.5541042174973858, 0.5542305681422098, 0.5542218543046358, 0.5542741373300801, 0.5541782851167654, 0.5542087835482746, 0.5541913558731265, 0.554126002091321, 0.5541695712791913, 0.5541957127919136, 0.554126002091321, 0.5542044266294877, 0.5541739281979784, 0.5542000697107006, 0.5541608574416174, 0.5541826420355525, 0.5541434297664691, 0.5541565005228303, 0.5540911467410248, 0.5541477866852562, 0.5541652143604043]\n",
    "decision_tree_list = [0.4689133844545138, 0.48278145695364233, 0.47617636807249913, 0.49671924015336355, 0.46898745207389336, 0.47883844545137677, 0.4894475426978041, 0.48210177762286505, 0.47560996863018473, 0.4834742070407808, 0.4920878354827466, 0.4722159288950854, 0.49604391774137324, 0.4768691181596375, 0.4874041477866853, 0.4933731265249216, 0.49005751132798886, 0.4947804112931335, 0.4775487974904148, 0.4802283025444406, 0.49800453119553845, 0.4814874520738933, 0.4887547926106658, 0.47493464621819453, 0.4986624259323806, 0.4643691181596375, 0.4769126873475079, 0.4768996165911467, 0.5026577204600906, 0.4756273963053329]\n",
    "rna_list = [0.6242026838619729, 0.6215580341582433, 0.6069884977344022, 0.6176280934123388, 0.606966713140467, 0.6044179156500522, 0.6083522133147439, 0.6076725339839666, 0.6116242593238062, 0.6168569187870337, 0.6004226211223422, 0.6175278842802371, 0.608373997908679, 0.6050104566050889, 0.6103520390379924, 0.6069405716277448, 0.5984010108051586, 0.6221897873823632, 0.6135761589403973, 0.6248954339491112, 0.6188959567793656, 0.6227866852561867, 0.6122995817357963, 0.616233879400488, 0.6148919484140816, 0.5970590798187522, 0.6195625653537818, 0.6070625653537818, 0.626795050540258, 0.6288689438828861]"
   ]
  },
  {
   "cell_type": "markdown",
   "metadata": {},
   "source": [
    "### Chamando os resultados e armazenando em lista"
   ]
  },
  {
   "cell_type": "code",
   "execution_count": null,
   "metadata": {},
   "outputs": [],
   "source": [
    "# Trazendo por chamada a lista com os resultados dos algoritmos para o boxplot\n",
    "\n",
    "random_forest_list = random_forest.acuracia()\n",
    "odds_list = odds.acuracia()\n",
    "svm_list = svm.acuracia()\n",
    "knn_list = knn.acuracia()\n",
    "naive_bayes_list = naive_bayes.acuracia()\n",
    "decision_tree_list = decision_tree.acuracia()\n",
    "rna_list = rna.acuracia()"
   ]
  },
  {
   "cell_type": "markdown",
   "metadata": {},
   "source": [
    "### Juntando todas as listas de resultados em um único dataframe para exibir"
   ]
  },
  {
   "cell_type": "code",
   "execution_count": 20,
   "metadata": {},
   "outputs": [
    {
     "data": {
      "text/html": [
       "<div>\n",
       "<style scoped>\n",
       "    .dataframe tbody tr th:only-of-type {\n",
       "        vertical-align: middle;\n",
       "    }\n",
       "\n",
       "    .dataframe tbody tr th {\n",
       "        vertical-align: top;\n",
       "    }\n",
       "\n",
       "    .dataframe thead th {\n",
       "        text-align: right;\n",
       "    }\n",
       "</style>\n",
       "<table border=\"1\" class=\"dataframe\">\n",
       "  <thead>\n",
       "    <tr style=\"text-align: right;\">\n",
       "      <th></th>\n",
       "      <th>Random Forest</th>\n",
       "      <th>SVM</th>\n",
       "      <th>KNN</th>\n",
       "      <th>Naive Bayes</th>\n",
       "      <th>ODDS</th>\n",
       "      <th>RNA</th>\n",
       "      <th>Árvore de Decisão</th>\n",
       "    </tr>\n",
       "  </thead>\n",
       "  <tbody>\n",
       "    <tr>\n",
       "      <th>0</th>\n",
       "      <td>0.580607</td>\n",
       "      <td>0.604335</td>\n",
       "      <td>0.509241</td>\n",
       "      <td>0.523105</td>\n",
       "      <td>0.554117</td>\n",
       "      <td>0.624203</td>\n",
       "      <td>0.468913</td>\n",
       "    </tr>\n",
       "    <tr>\n",
       "      <th>1</th>\n",
       "      <td>0.579980</td>\n",
       "      <td>0.598458</td>\n",
       "      <td>0.519236</td>\n",
       "      <td>0.525135</td>\n",
       "      <td>0.554139</td>\n",
       "      <td>0.621558</td>\n",
       "      <td>0.482781</td>\n",
       "    </tr>\n",
       "    <tr>\n",
       "      <th>2</th>\n",
       "      <td>0.562108</td>\n",
       "      <td>0.608997</td>\n",
       "      <td>0.520530</td>\n",
       "      <td>0.523806</td>\n",
       "      <td>0.554165</td>\n",
       "      <td>0.606988</td>\n",
       "      <td>0.476176</td>\n",
       "    </tr>\n",
       "    <tr>\n",
       "      <th>3</th>\n",
       "      <td>0.582577</td>\n",
       "      <td>0.597808</td>\n",
       "      <td>0.529714</td>\n",
       "      <td>0.521793</td>\n",
       "      <td>0.554157</td>\n",
       "      <td>0.617628</td>\n",
       "      <td>0.496719</td>\n",
       "    </tr>\n",
       "    <tr>\n",
       "      <th>4</th>\n",
       "      <td>0.589892</td>\n",
       "      <td>0.597094</td>\n",
       "      <td>0.516487</td>\n",
       "      <td>0.521105</td>\n",
       "      <td>0.554117</td>\n",
       "      <td>0.606967</td>\n",
       "      <td>0.468987</td>\n",
       "    </tr>\n",
       "    <tr>\n",
       "      <th>5</th>\n",
       "      <td>0.586528</td>\n",
       "      <td>0.599094</td>\n",
       "      <td>0.520417</td>\n",
       "      <td>0.522434</td>\n",
       "      <td>0.554209</td>\n",
       "      <td>0.604418</td>\n",
       "      <td>0.478838</td>\n",
       "    </tr>\n",
       "    <tr>\n",
       "      <th>6</th>\n",
       "      <td>0.586576</td>\n",
       "      <td>0.593730</td>\n",
       "      <td>0.518465</td>\n",
       "      <td>0.516495</td>\n",
       "      <td>0.554183</td>\n",
       "      <td>0.608352</td>\n",
       "      <td>0.489448</td>\n",
       "    </tr>\n",
       "    <tr>\n",
       "      <th>7</th>\n",
       "      <td>0.586528</td>\n",
       "      <td>0.607063</td>\n",
       "      <td>0.521127</td>\n",
       "      <td>0.520486</td>\n",
       "      <td>0.554270</td>\n",
       "      <td>0.607673</td>\n",
       "      <td>0.482102</td>\n",
       "    </tr>\n",
       "    <tr>\n",
       "      <th>8</th>\n",
       "      <td>0.589774</td>\n",
       "      <td>0.602375</td>\n",
       "      <td>0.526412</td>\n",
       "      <td>0.520425</td>\n",
       "      <td>0.554157</td>\n",
       "      <td>0.611624</td>\n",
       "      <td>0.475610</td>\n",
       "    </tr>\n",
       "    <tr>\n",
       "      <th>9</th>\n",
       "      <td>0.589147</td>\n",
       "      <td>0.603032</td>\n",
       "      <td>0.519127</td>\n",
       "      <td>0.523066</td>\n",
       "      <td>0.554104</td>\n",
       "      <td>0.616857</td>\n",
       "      <td>0.483474</td>\n",
       "    </tr>\n",
       "    <tr>\n",
       "      <th>10</th>\n",
       "      <td>0.577923</td>\n",
       "      <td>0.599778</td>\n",
       "      <td>0.516491</td>\n",
       "      <td>0.523880</td>\n",
       "      <td>0.554231</td>\n",
       "      <td>0.600423</td>\n",
       "      <td>0.492088</td>\n",
       "    </tr>\n",
       "    <tr>\n",
       "      <th>11</th>\n",
       "      <td>0.567972</td>\n",
       "      <td>0.603011</td>\n",
       "      <td>0.519759</td>\n",
       "      <td>0.523118</td>\n",
       "      <td>0.554222</td>\n",
       "      <td>0.617528</td>\n",
       "      <td>0.472216</td>\n",
       "    </tr>\n",
       "    <tr>\n",
       "      <th>12</th>\n",
       "      <td>0.589844</td>\n",
       "      <td>0.599063</td>\n",
       "      <td>0.516469</td>\n",
       "      <td>0.521179</td>\n",
       "      <td>0.554274</td>\n",
       "      <td>0.608374</td>\n",
       "      <td>0.496044</td>\n",
       "    </tr>\n",
       "    <tr>\n",
       "      <th>13</th>\n",
       "      <td>0.573318</td>\n",
       "      <td>0.591739</td>\n",
       "      <td>0.505930</td>\n",
       "      <td>0.523092</td>\n",
       "      <td>0.554178</td>\n",
       "      <td>0.605010</td>\n",
       "      <td>0.476869</td>\n",
       "    </tr>\n",
       "    <tr>\n",
       "      <th>14</th>\n",
       "      <td>0.578647</td>\n",
       "      <td>0.597774</td>\n",
       "      <td>0.523811</td>\n",
       "      <td>0.521183</td>\n",
       "      <td>0.554209</td>\n",
       "      <td>0.610352</td>\n",
       "      <td>0.487404</td>\n",
       "    </tr>\n",
       "    <tr>\n",
       "      <th>15</th>\n",
       "      <td>0.583871</td>\n",
       "      <td>0.591731</td>\n",
       "      <td>0.515245</td>\n",
       "      <td>0.522447</td>\n",
       "      <td>0.554191</td>\n",
       "      <td>0.606941</td>\n",
       "      <td>0.493373</td>\n",
       "    </tr>\n",
       "    <tr>\n",
       "      <th>16</th>\n",
       "      <td>0.581265</td>\n",
       "      <td>0.597769</td>\n",
       "      <td>0.513864</td>\n",
       "      <td>0.519802</td>\n",
       "      <td>0.554126</td>\n",
       "      <td>0.598401</td>\n",
       "      <td>0.490058</td>\n",
       "    </tr>\n",
       "    <tr>\n",
       "      <th>17</th>\n",
       "      <td>0.574682</td>\n",
       "      <td>0.598384</td>\n",
       "      <td>0.529061</td>\n",
       "      <td>0.518504</td>\n",
       "      <td>0.554170</td>\n",
       "      <td>0.622190</td>\n",
       "      <td>0.494780</td>\n",
       "    </tr>\n",
       "    <tr>\n",
       "      <th>18</th>\n",
       "      <td>0.575989</td>\n",
       "      <td>0.605015</td>\n",
       "      <td>0.521140</td>\n",
       "      <td>0.521183</td>\n",
       "      <td>0.554196</td>\n",
       "      <td>0.613576</td>\n",
       "      <td>0.477549</td>\n",
       "    </tr>\n",
       "    <tr>\n",
       "      <th>19</th>\n",
       "      <td>0.587827</td>\n",
       "      <td>0.604440</td>\n",
       "      <td>0.513127</td>\n",
       "      <td>0.521170</td>\n",
       "      <td>0.554126</td>\n",
       "      <td>0.624895</td>\n",
       "      <td>0.480228</td>\n",
       "    </tr>\n",
       "    <tr>\n",
       "      <th>20</th>\n",
       "      <td>0.566060</td>\n",
       "      <td>0.608343</td>\n",
       "      <td>0.515210</td>\n",
       "      <td>0.519811</td>\n",
       "      <td>0.554204</td>\n",
       "      <td>0.618896</td>\n",
       "      <td>0.498005</td>\n",
       "    </tr>\n",
       "    <tr>\n",
       "      <th>21</th>\n",
       "      <td>0.578612</td>\n",
       "      <td>0.597055</td>\n",
       "      <td>0.523858</td>\n",
       "      <td>0.523144</td>\n",
       "      <td>0.554174</td>\n",
       "      <td>0.622787</td>\n",
       "      <td>0.481487</td>\n",
       "    </tr>\n",
       "    <tr>\n",
       "      <th>22</th>\n",
       "      <td>0.578525</td>\n",
       "      <td>0.603102</td>\n",
       "      <td>0.519746</td>\n",
       "      <td>0.517802</td>\n",
       "      <td>0.554200</td>\n",
       "      <td>0.612300</td>\n",
       "      <td>0.488755</td>\n",
       "    </tr>\n",
       "    <tr>\n",
       "      <th>23</th>\n",
       "      <td>0.585897</td>\n",
       "      <td>0.605041</td>\n",
       "      <td>0.509847</td>\n",
       "      <td>0.524434</td>\n",
       "      <td>0.554161</td>\n",
       "      <td>0.616234</td>\n",
       "      <td>0.474935</td>\n",
       "    </tr>\n",
       "    <tr>\n",
       "      <th>24</th>\n",
       "      <td>0.581296</td>\n",
       "      <td>0.593822</td>\n",
       "      <td>0.513210</td>\n",
       "      <td>0.521750</td>\n",
       "      <td>0.554183</td>\n",
       "      <td>0.614892</td>\n",
       "      <td>0.498662</td>\n",
       "    </tr>\n",
       "    <tr>\n",
       "      <th>25</th>\n",
       "      <td>0.582585</td>\n",
       "      <td>0.608313</td>\n",
       "      <td>0.512583</td>\n",
       "      <td>0.522438</td>\n",
       "      <td>0.554143</td>\n",
       "      <td>0.597059</td>\n",
       "      <td>0.464369</td>\n",
       "    </tr>\n",
       "    <tr>\n",
       "      <th>26</th>\n",
       "      <td>0.578551</td>\n",
       "      <td>0.595743</td>\n",
       "      <td>0.515206</td>\n",
       "      <td>0.523702</td>\n",
       "      <td>0.554157</td>\n",
       "      <td>0.619563</td>\n",
       "      <td>0.476913</td>\n",
       "    </tr>\n",
       "    <tr>\n",
       "      <th>27</th>\n",
       "      <td>0.581949</td>\n",
       "      <td>0.595774</td>\n",
       "      <td>0.532415</td>\n",
       "      <td>0.518482</td>\n",
       "      <td>0.554091</td>\n",
       "      <td>0.607063</td>\n",
       "      <td>0.476900</td>\n",
       "    </tr>\n",
       "    <tr>\n",
       "      <th>28</th>\n",
       "      <td>0.573946</td>\n",
       "      <td>0.603011</td>\n",
       "      <td>0.517136</td>\n",
       "      <td>0.515842</td>\n",
       "      <td>0.554148</td>\n",
       "      <td>0.626795</td>\n",
       "      <td>0.502658</td>\n",
       "    </tr>\n",
       "    <tr>\n",
       "      <th>29</th>\n",
       "      <td>0.582590</td>\n",
       "      <td>0.604335</td>\n",
       "      <td>0.526438</td>\n",
       "      <td>0.521131</td>\n",
       "      <td>0.554165</td>\n",
       "      <td>0.628869</td>\n",
       "      <td>0.475627</td>\n",
       "    </tr>\n",
       "  </tbody>\n",
       "</table>\n",
       "</div>"
      ],
      "text/plain": [
       "    Random Forest       SVM       KNN  Naive Bayes      ODDS       RNA  \\\n",
       "0        0.580607  0.604335  0.509241     0.523105  0.554117  0.624203   \n",
       "1        0.579980  0.598458  0.519236     0.525135  0.554139  0.621558   \n",
       "2        0.562108  0.608997  0.520530     0.523806  0.554165  0.606988   \n",
       "3        0.582577  0.597808  0.529714     0.521793  0.554157  0.617628   \n",
       "4        0.589892  0.597094  0.516487     0.521105  0.554117  0.606967   \n",
       "5        0.586528  0.599094  0.520417     0.522434  0.554209  0.604418   \n",
       "6        0.586576  0.593730  0.518465     0.516495  0.554183  0.608352   \n",
       "7        0.586528  0.607063  0.521127     0.520486  0.554270  0.607673   \n",
       "8        0.589774  0.602375  0.526412     0.520425  0.554157  0.611624   \n",
       "9        0.589147  0.603032  0.519127     0.523066  0.554104  0.616857   \n",
       "10       0.577923  0.599778  0.516491     0.523880  0.554231  0.600423   \n",
       "11       0.567972  0.603011  0.519759     0.523118  0.554222  0.617528   \n",
       "12       0.589844  0.599063  0.516469     0.521179  0.554274  0.608374   \n",
       "13       0.573318  0.591739  0.505930     0.523092  0.554178  0.605010   \n",
       "14       0.578647  0.597774  0.523811     0.521183  0.554209  0.610352   \n",
       "15       0.583871  0.591731  0.515245     0.522447  0.554191  0.606941   \n",
       "16       0.581265  0.597769  0.513864     0.519802  0.554126  0.598401   \n",
       "17       0.574682  0.598384  0.529061     0.518504  0.554170  0.622190   \n",
       "18       0.575989  0.605015  0.521140     0.521183  0.554196  0.613576   \n",
       "19       0.587827  0.604440  0.513127     0.521170  0.554126  0.624895   \n",
       "20       0.566060  0.608343  0.515210     0.519811  0.554204  0.618896   \n",
       "21       0.578612  0.597055  0.523858     0.523144  0.554174  0.622787   \n",
       "22       0.578525  0.603102  0.519746     0.517802  0.554200  0.612300   \n",
       "23       0.585897  0.605041  0.509847     0.524434  0.554161  0.616234   \n",
       "24       0.581296  0.593822  0.513210     0.521750  0.554183  0.614892   \n",
       "25       0.582585  0.608313  0.512583     0.522438  0.554143  0.597059   \n",
       "26       0.578551  0.595743  0.515206     0.523702  0.554157  0.619563   \n",
       "27       0.581949  0.595774  0.532415     0.518482  0.554091  0.607063   \n",
       "28       0.573946  0.603011  0.517136     0.515842  0.554148  0.626795   \n",
       "29       0.582590  0.604335  0.526438     0.521131  0.554165  0.628869   \n",
       "\n",
       "    Árvore de Decisão  \n",
       "0            0.468913  \n",
       "1            0.482781  \n",
       "2            0.476176  \n",
       "3            0.496719  \n",
       "4            0.468987  \n",
       "5            0.478838  \n",
       "6            0.489448  \n",
       "7            0.482102  \n",
       "8            0.475610  \n",
       "9            0.483474  \n",
       "10           0.492088  \n",
       "11           0.472216  \n",
       "12           0.496044  \n",
       "13           0.476869  \n",
       "14           0.487404  \n",
       "15           0.493373  \n",
       "16           0.490058  \n",
       "17           0.494780  \n",
       "18           0.477549  \n",
       "19           0.480228  \n",
       "20           0.498005  \n",
       "21           0.481487  \n",
       "22           0.488755  \n",
       "23           0.474935  \n",
       "24           0.498662  \n",
       "25           0.464369  \n",
       "26           0.476913  \n",
       "27           0.476900  \n",
       "28           0.502658  \n",
       "29           0.475627  "
      ]
     },
     "metadata": {},
     "output_type": "display_data"
    }
   ],
   "source": [
    "# Dando nome às colunas dos algoritmos\n",
    "random_forest_df = pd.DataFrame(random_forest_list, columns=['Random Forest'])\n",
    "svm_df = pd.DataFrame(svm_list, columns=['SVM'])\n",
    "knn_df = pd.DataFrame(knn_list, columns=['KNN'])\n",
    "naive_bayes_df = pd.DataFrame(naive_bayes_list, columns=['Naive Bayes'])\n",
    "odds_df = pd.DataFrame(odds_list, columns=['ODDS'])\n",
    "rna_df = pd.DataFrame(rna_list, columns=['RNA'])\n",
    "# também pode ser assim\n",
    "decision_tree_df = pd.DataFrame(decision_tree_list).rename(columns={0:'Árvore de Decisão'})\n",
    "\n",
    "# juntando todos os dataframes acima em um só \n",
    "resultados_df = pd.concat([random_forest_df,svm_df,knn_df,\n",
    "                           naive_bayes_df,odds_df,rna_df,decision_tree_df], axis=1, join='inner')\n",
    "\n",
    "display(resultados_df)"
   ]
  },
  {
   "cell_type": "markdown",
   "metadata": {},
   "source": [
    "## Exibindo o resultado após trinta testes  usando o StratifiedKFold"
   ]
  },
  {
   "cell_type": "code",
   "execution_count": 21,
   "metadata": {},
   "outputs": [
    {
     "data": {
      "text/html": [
       "<div>\n",
       "<style scoped>\n",
       "    .dataframe tbody tr th:only-of-type {\n",
       "        vertical-align: middle;\n",
       "    }\n",
       "\n",
       "    .dataframe tbody tr th {\n",
       "        vertical-align: top;\n",
       "    }\n",
       "\n",
       "    .dataframe thead th {\n",
       "        text-align: right;\n",
       "    }\n",
       "</style>\n",
       "<table border=\"1\" class=\"dataframe\">\n",
       "  <thead>\n",
       "    <tr style=\"text-align: right;\">\n",
       "      <th></th>\n",
       "      <th>resultado</th>\n",
       "    </tr>\n",
       "  </thead>\n",
       "  <tbody>\n",
       "    <tr>\n",
       "      <th>RNA</th>\n",
       "      <td>0.613280</td>\n",
       "    </tr>\n",
       "    <tr>\n",
       "      <th>SVM</th>\n",
       "      <td>0.600508</td>\n",
       "    </tr>\n",
       "    <tr>\n",
       "      <th>Random Forest</th>\n",
       "      <td>0.580502</td>\n",
       "    </tr>\n",
       "    <tr>\n",
       "      <th>ODDS</th>\n",
       "      <td>0.554172</td>\n",
       "    </tr>\n",
       "    <tr>\n",
       "      <th>Naive Bayes</th>\n",
       "      <td>0.521398</td>\n",
       "    </tr>\n",
       "    <tr>\n",
       "      <th>KNN</th>\n",
       "      <td>0.518710</td>\n",
       "    </tr>\n",
       "    <tr>\n",
       "      <th>Árvore de Decisão</th>\n",
       "      <td>0.483399</td>\n",
       "    </tr>\n",
       "  </tbody>\n",
       "</table>\n",
       "</div>"
      ],
      "text/plain": [
       "                   resultado\n",
       "RNA                 0.613280\n",
       "SVM                 0.600508\n",
       "Random Forest       0.580502\n",
       "ODDS                0.554172\n",
       "Naive Bayes         0.521398\n",
       "KNN                 0.518710\n",
       "Árvore de Decisão   0.483399"
      ]
     },
     "metadata": {},
     "output_type": "display_data"
    },
    {
     "data": {
      "text/plain": [
       "<matplotlib.axes._subplots.AxesSubplot at 0xa5cb656c>"
      ]
     },
     "execution_count": 21,
     "metadata": {},
     "output_type": "execute_result"
    },
    {
     "data": {
      "image/png": "[encoded data removed]",
      "text/plain": [
       "<Figure size 432x288 with 1 Axes>"
      ]
     },
     "metadata": {
      "needs_background": "light"
     },
     "output_type": "display_data"
    }
   ],
   "source": [
    "modelos_list = [random_forest_df.mean(), svm_df.mean(), knn_df.mean(),\n",
    "                naive_bayes_df.mean(), odds_df.mean(), rna_df.mean(), decision_tree_df.mean()]\n",
    "\n",
    "modelos_df = pd.concat(modelos_list, axis=0, join='inner')\n",
    "modelos_df = pd.DataFrame(modelos_df, columns=['resultado'])\n",
    "# ordenando por importância\n",
    "modelos_df = modelos_df.sort_values('resultado', ascending = False)\n",
    "\n",
    "display(modelos_df)\n",
    "\n",
    "# imprimindo valores com nome dos atributos, em ordem e através de gráfico em barras\n",
    "modelos_df.plot(kind='bar')"
   ]
  },
  {
   "cell_type": "markdown",
   "metadata": {},
   "source": [
    "## Boxplot com os resultados"
   ]
  },
  {
   "cell_type": "code",
   "execution_count": 22,
   "metadata": {},
   "outputs": [],
   "source": [
    "col_resultados = resultados_df.mean().sort_values(ascending = False).index"
   ]
  },
  {
   "cell_type": "code",
   "execution_count": 23,
   "metadata": {},
   "outputs": [],
   "source": [
    "col_resultados = list(col_resultados)"
   ]
  },
  {
   "cell_type": "code",
   "execution_count": 24,
   "metadata": {},
   "outputs": [
    {
     "data": {
      "image/png": "[encoded data removed]",
      "text/plain": [
       "<Figure size 576x360 with 1 Axes>"
      ]
     },
     "metadata": {
      "needs_background": "light"
     },
     "output_type": "display_data"
    }
   ],
   "source": [
    "fig = plt.figure(figsize=(8,5))\n",
    "resultados_df.boxplot(column=col_resultados)\n",
    "plt.title('Algoritmos de Machine Learning')\n",
    "plt.ylabel('Acurácia', fontsize=12, color='black')\n",
    "plt.show()"
   ]
  }
 ],
 "metadata": {
  "kernelspec": {
   "display_name": "Python 3",
   "language": "python",
   "name": "python3"
  },
  "language_info": {
   "codemirror_mode": {
    "name": "ipython",
    "version": 3
   },
   "file_extension": ".py",
   "mimetype": "text/x-python",
   "name": "python",
   "nbconvert_exporter": "python",
   "pygments_lexer": "ipython3",
   "version": "3.7.1"
  }
 },
 "nbformat": 4,
 "nbformat_minor": 2
}
