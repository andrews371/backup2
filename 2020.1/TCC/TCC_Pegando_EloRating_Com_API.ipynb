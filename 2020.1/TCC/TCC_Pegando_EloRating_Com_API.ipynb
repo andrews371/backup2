{
 "cells": [
  {
   "cell_type": "markdown",
   "metadata": {},
   "source": [
    "## Pegando o Elo Rating dos times da Premier League "
   ]
  },
  {
   "cell_type": "code",
   "execution_count": null,
   "metadata": {},
   "outputs": [],
   "source": [
    "import glob # para mexer com vários arquivos varrendo todos com mesma extensão e transformando num grande data set\n",
    "import pandas as pd\n",
    "import numpy as np\n",
    "import matplotlib\n",
    "import matplotlib.pyplot as plt # mais usadas essa e a de baixo\n",
    "import seaborn as sns\n",
    "import warnings\n",
    "import requests\n",
    "from fuzzywuzzy import fuzz\n",
    "from fuzzywuzzy import process\n",
    "\n",
    "warnings.filterwarnings('ignore')\n",
    "%matplotlib inline\n",
    "matplotlib.style.use('default')\n",
    "plt.rcParams['figure.figsize'] = [6, 4]\n",
    "\n",
    "#Pandas Setting\n",
    "pd.options.display.float_format = '{:,.8f}'.format"
   ]
  },
  {
   "cell_type": "code",
   "execution_count": null,
   "metadata": {},
   "outputs": [],
   "source": [
    "# esse sep=';' é pq o arquivo \"dados_com_data.csv\" foi salvo assim. caso não seja e qnd vc lê estiver tudo separado com \";\"\n",
    "# é só apagar esse comando (sep=';')\n",
    "# drop(['Unnamed: 0']) é para dropar/retirar essa coluna da base de dados\n",
    "\n",
    "team_df = pd.read_csv('dados_prontos_para_pegar_elo_rating.csv', sep=';').drop(['Unnamed: 0'], axis=1).sample(frac=1).reset_index(drop=True)"
   ]
  },
  {
   "cell_type": "code",
   "execution_count": null,
   "metadata": {},
   "outputs": [],
   "source": [
    "display(team_df.head())"
   ]
  },
  {
   "cell_type": "code",
   "execution_count": null,
   "metadata": {},
   "outputs": [],
   "source": [
    "display(team_df.shape)"
   ]
  },
  {
   "cell_type": "code",
   "execution_count": null,
   "metadata": {},
   "outputs": [],
   "source": [
    "team_df.Date.unique().shape"
   ]
  },
  {
   "cell_type": "markdown",
   "metadata": {},
   "source": [
    "## Usar a API para pegar o Elo Score"
   ]
  },
  {
   "cell_type": "code",
   "execution_count": null,
   "metadata": {
    "scrolled": false
   },
   "outputs": [],
   "source": [
    "from io import StringIO\n",
    "list_df = [] # lista que vai receber dataframes\n",
    "\n",
    "# os dados recebidos vão ser colocados em um dataframe (elo_df) e o dataframe vai para uma lista de dataframes\n",
    "# essa lista é a list_df, uma lista de dataframes\n",
    "for data in team_df.Date.unique():\n",
    "    elo_csv = requests.get(f\"http://api.clubelo.com/{data}\", allow_redirects=True)\n",
    "    elo_csv = str(elo_csv.content,'utf-8')\n",
    "    elo_csv = StringIO(elo_csv)\n",
    "    elo_df = pd.read_csv(elo_csv)\n",
    "    list_df.append(elo_df)\n",
    "    print(list_df[len(list_df) - 1])"
   ]
  },
  {
   "cell_type": "code",
   "execution_count": null,
   "metadata": {},
   "outputs": [],
   "source": []
  }
 ],
 "metadata": {
  "kernelspec": {
   "display_name": "Python 3",
   "language": "python",
   "name": "python3"
  },
  "language_info": {
   "codemirror_mode": {
    "name": "ipython",
    "version": 3
   },
   "file_extension": ".py",
   "mimetype": "text/x-python",
   "name": "python",
   "nbconvert_exporter": "python",
   "pygments_lexer": "ipython3",
   "version": "3.7.1"
  }
 },
 "nbformat": 4,
 "nbformat_minor": 2
}
