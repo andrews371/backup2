{
 "cells": [
  {
   "cell_type": "code",
   "execution_count": 5,
   "metadata": {},
   "outputs": [
    {
     "name": "stdout",
     "output_type": "stream",
     "text": [
      "O valor de x é 0\n",
      "O valor de x é 1\n",
      "O valor de x é 2\n",
      "O valor de x é 3\n",
      "O valor de x é 4\n"
     ]
    }
   ],
   "source": [
    "x = 0\n",
    "\n",
    "while x < 5:\n",
    "    print(f'O valor de x é {x}')\n",
    "    x = x + 1\n",
    "    # x += 1 equivale ao comando acima"
   ]
  },
  {
   "cell_type": "code",
   "execution_count": 7,
   "metadata": {},
   "outputs": [
    {
     "name": "stdout",
     "output_type": "stream",
     "text": [
      "O valor de x é 0\n",
      "O valor de x é 1\n",
      "O valor de x é 2\n",
      "O valor de x é 3\n",
      "O valor de x é 4\n",
      "\n",
      "X não mais é menor que 5\n"
     ]
    }
   ],
   "source": [
    "# Em python tbm podemos ter else no while\n",
    "\n",
    "x = 0\n",
    "\n",
    "while x < 5:\n",
    "    print(f'O valor de x é {x}')\n",
    "    x = x + 1\n",
    "    \n",
    "else:\n",
    "    print('\\nX não mais é menor que 5')"
   ]
  },
  {
   "cell_type": "code",
   "execution_count": 14,
   "metadata": {},
   "outputs": [
    {
     "name": "stdout",
     "output_type": "stream",
     "text": [
      "fim do programa\n"
     ]
    }
   ],
   "source": [
    "x = [1,2,3]\n",
    "\n",
    "for item in x:\n",
    "    pass # exemplo de uso do pass ( não faz nada )\n",
    "print('fim do programa')"
   ]
  },
  {
   "cell_type": "code",
   "execution_count": 12,
   "metadata": {},
   "outputs": [
    {
     "name": "stdout",
     "output_type": "stream",
     "text": [
      "O valor de x é 0\n",
      "O valor de x é 1\n"
     ]
    }
   ],
   "source": [
    "x = 0\n",
    "\n",
    "while x < 5:\n",
    "    print(f'O valor de x é {x}')\n",
    "    x = x + 1\n",
    "    if x == 2:\n",
    "        break"
   ]
  },
  {
   "cell_type": "code",
   "execution_count": 28,
   "metadata": {},
   "outputs": [
    {
     "name": "stdout",
     "output_type": "stream",
     "text": [
      "n\n",
      "d\n",
      "r\n",
      "e\n",
      " \n",
      "s\n",
      "o\n",
      "u\n",
      "s\n",
      " \n",
      "d\n",
      " \n",
      "s\n",
      "i\n",
      "l\n",
      "v\n"
     ]
    }
   ],
   "source": [
    "nome = 'andre sousa da silva'\n",
    "\n",
    "for n in nome:\n",
    "    if n == 'a':\n",
    "        continue # \"continue\" quebra o fluxo atual e continua para a próxima iteração\n",
    "    print(n)"
   ]
  },
  {
   "cell_type": "code",
   "execution_count": null,
   "metadata": {},
   "outputs": [],
   "source": []
  }
 ],
 "metadata": {
  "kernelspec": {
   "display_name": "Python 3",
   "language": "python",
   "name": "python3"
  },
  "language_info": {
   "codemirror_mode": {
    "name": "ipython",
    "version": 3
   },
   "file_extension": ".py",
   "mimetype": "text/x-python",
   "name": "python",
   "nbconvert_exporter": "python",
   "pygments_lexer": "ipython3",
   "version": "3.7.1"
  }
 },
 "nbformat": 4,
 "nbformat_minor": 2
}
