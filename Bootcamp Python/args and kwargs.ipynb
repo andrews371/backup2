{
 "cells": [
  {
   "cell_type": "code",
   "execution_count": 1,
   "metadata": {},
   "outputs": [],
   "source": [
    "# podemos um número definido de argumentos para passar para a função como visto antes\n",
    "# podemos ter também um número de argumentos variando entre um valor mínimo e um máximo como nesse exemplo\n",
    "\n",
    "def elemento(a,b,c=0,d=1):\n",
    "    print(a,b,c,d)"
   ]
  },
  {
   "cell_type": "code",
   "execution_count": 8,
   "metadata": {},
   "outputs": [
    {
     "name": "stdout",
     "output_type": "stream",
     "text": [
      "1 3 0 1\n"
     ]
    }
   ],
   "source": [
    "elemento(1,3) # no mínimo 2 argumentos são exigidos e 4 é o máximo. Se não colocamos o valor máximo\n",
    "              # então os outros argumentos que são opcionais ficam setados conforme valores padrão"
   ]
  },
  {
   "cell_type": "code",
   "execution_count": 9,
   "metadata": {},
   "outputs": [
    {
     "name": "stdout",
     "output_type": "stream",
     "text": [
      "1 3 3 1\n"
     ]
    }
   ],
   "source": [
    "elemento(1,3,3)"
   ]
  },
  {
   "cell_type": "code",
   "execution_count": 10,
   "metadata": {},
   "outputs": [
    {
     "name": "stdout",
     "output_type": "stream",
     "text": [
      "1 2 3 4\n"
     ]
    }
   ],
   "source": [
    "elemento(1,2,3,4) # no máximo 4 elementos."
   ]
  },
  {
   "cell_type": "code",
   "execution_count": 12,
   "metadata": {},
   "outputs": [],
   "source": [
    "# elemento(1,2,3,4,5) => não é permitido pq essa função recebe um número máximo de 4 argumentos"
   ]
  },
  {
   "cell_type": "code",
   "execution_count": 26,
   "metadata": {},
   "outputs": [],
   "source": [
    "# para passar um número ilimitado e não definido de argumentos para uma função, esta deve ter um parâmetro args\n",
    "\n",
    "def elemento1(*args): # pode ser qualquer nome no lugar desse args, contanto que tenha esse asterísco\n",
    "    print(args)       # args retorna tupla"
   ]
  },
  {
   "cell_type": "code",
   "execution_count": 27,
   "metadata": {},
   "outputs": [
    {
     "name": "stdout",
     "output_type": "stream",
     "text": [
      "(1,)\n"
     ]
    }
   ],
   "source": [
    "elemento1(1)"
   ]
  },
  {
   "cell_type": "code",
   "execution_count": 28,
   "metadata": {},
   "outputs": [
    {
     "name": "stdout",
     "output_type": "stream",
     "text": [
      "(1, 2)\n"
     ]
    }
   ],
   "source": [
    "elemento1(1,2)"
   ]
  },
  {
   "cell_type": "code",
   "execution_count": 29,
   "metadata": {},
   "outputs": [
    {
     "name": "stdout",
     "output_type": "stream",
     "text": [
      "(1, 2, 3)\n"
     ]
    }
   ],
   "source": [
    "elemento1(1,2,3)"
   ]
  },
  {
   "cell_type": "code",
   "execution_count": 30,
   "metadata": {},
   "outputs": [
    {
     "name": "stdout",
     "output_type": "stream",
     "text": [
      "(1, 2, 3, 4, 5, 6, 7, 8)\n"
     ]
    }
   ],
   "source": [
    "elemento1(1,2,3,4,5,6,7,8)"
   ]
  },
  {
   "cell_type": "code",
   "execution_count": 31,
   "metadata": {},
   "outputs": [
    {
     "name": "stdout",
     "output_type": "stream",
     "text": [
      "(1, 3, 3)\n"
     ]
    }
   ],
   "source": [
    "elemento1(1,3,3)"
   ]
  },
  {
   "cell_type": "code",
   "execution_count": 106,
   "metadata": {},
   "outputs": [],
   "source": [
    "# para passar um número ilimitado e não definido de argumentos para uma função, esta deve ter um parâmetro args\n",
    "\n",
    "def elemento2(*args): # pode ser qualquer nome no lugar desse args, contanto que tenha esse asterísco\n",
    "    print(args[0])       # args retorna tupla"
   ]
  },
  {
   "cell_type": "code",
   "execution_count": 107,
   "metadata": {},
   "outputs": [
    {
     "name": "stdout",
     "output_type": "stream",
     "text": [
      "1\n"
     ]
    }
   ],
   "source": [
    "elemento2(1)"
   ]
  },
  {
   "cell_type": "code",
   "execution_count": 108,
   "metadata": {},
   "outputs": [
    {
     "name": "stdout",
     "output_type": "stream",
     "text": [
      "2\n"
     ]
    }
   ],
   "source": [
    "elemento2(2,4)"
   ]
  },
  {
   "cell_type": "code",
   "execution_count": 109,
   "metadata": {},
   "outputs": [
    {
     "name": "stdout",
     "output_type": "stream",
     "text": [
      "1\n"
     ]
    }
   ],
   "source": [
    "elemento2(1,2,3,4,5)"
   ]
  },
  {
   "cell_type": "code",
   "execution_count": 110,
   "metadata": {},
   "outputs": [
    {
     "name": "stdout",
     "output_type": "stream",
     "text": [
      "4\n"
     ]
    }
   ],
   "source": [
    "elemento2(4,5,10,25)"
   ]
  },
  {
   "cell_type": "code",
   "execution_count": 102,
   "metadata": {},
   "outputs": [],
   "source": [
    "# kwargs também aceita qualquer quantidade de parâmetros\n",
    "# pode ser qlqr palavra no lugar de kwargs, contando que tenham 2 asteríscos. O retorno é um dicionário\n",
    "# faz busca por chave que é passada da forma mostrada abaixo\n",
    "\n",
    "def dic(**kwargs):\n",
    "    if 'animal' in kwargs:\n",
    "         print('temos {} aqui.'.format(kwargs['animal'])) # para fazer isso tem que usar o .format()\n",
    "    else:\n",
    "        print('nao tinha peru.')"
   ]
  },
  {
   "cell_type": "code",
   "execution_count": 103,
   "metadata": {},
   "outputs": [
    {
     "name": "stdout",
     "output_type": "stream",
     "text": [
      "temos peru aqui.\n"
     ]
    }
   ],
   "source": [
    "dic(primeiro_valor = 1, segundo_valor = 2, animal = 'peru')"
   ]
  },
  {
   "cell_type": "code",
   "execution_count": 120,
   "metadata": {},
   "outputs": [],
   "source": [
    "# podemos também combinar args e kwargs\n",
    "# usando os dois, o args tem que vim sempre antes do kwargs e na chamada da função também\n",
    "# lembrando que o que diferencia args e kwargs é o número de asteríscos e qnd estão sendo usados juntos\n",
    "# o que diferencia é tanto isso quanto a ordem que aparecem.\n",
    "\n",
    "def combine(*args, **kwargs):\n",
    "    print(args)\n",
    "    print(kwargs)\n",
    "    print('Eu gostaria de {} {}.'.format(args[1], kwargs['comida']))"
   ]
  },
  {
   "cell_type": "code",
   "execution_count": 121,
   "metadata": {},
   "outputs": [
    {
     "name": "stdout",
     "output_type": "stream",
     "text": [
      "(10, 20, 30)\n",
      "{'refri': 'coca-cola', 'salgados': 'pastéis', 'comida': 'biscoitos', 'perfume': 'kaiac'}\n",
      "Eu gostaria de 20 biscoitos.\n"
     ]
    }
   ],
   "source": [
    "# como dito antes, sempre tem que ser passados os args primeiro, só depois os kwargs\n",
    "\n",
    "combine(10,20,30,refri='coca-cola', salgados='pastéis', comida='biscoitos', perfume='kaiac')"
   ]
  },
  {
   "cell_type": "code",
   "execution_count": null,
   "metadata": {},
   "outputs": [],
   "source": []
  },
  {
   "cell_type": "code",
   "execution_count": null,
   "metadata": {},
   "outputs": [],
   "source": []
  }
 ],
 "metadata": {
  "kernelspec": {
   "display_name": "Python 3",
   "language": "python",
   "name": "python3"
  },
  "language_info": {
   "codemirror_mode": {
    "name": "ipython",
    "version": 3
   },
   "file_extension": ".py",
   "mimetype": "text/x-python",
   "name": "python",
   "nbconvert_exporter": "python",
   "pygments_lexer": "ipython3",
   "version": "3.7.1"
  },
  "varInspector": {
   "cols": {
    "lenName": 16,
    "lenType": 16,
    "lenVar": 40
   },
   "kernels_config": {
    "python": {
     "delete_cmd_postfix": "",
     "delete_cmd_prefix": "del ",
     "library": "var_list.py",
     "varRefreshCmd": "print(var_dic_list())"
    },
    "r": {
     "delete_cmd_postfix": ") ",
     "delete_cmd_prefix": "rm(",
     "library": "var_list.r",
     "varRefreshCmd": "cat(var_dic_list()) "
    }
   },
   "types_to_exclude": [
    "module",
    "function",
    "builtin_function_or_method",
    "instance",
    "_Feature"
   ],
   "window_display": false
  }
 },
 "nbformat": 4,
 "nbformat_minor": 2
}
