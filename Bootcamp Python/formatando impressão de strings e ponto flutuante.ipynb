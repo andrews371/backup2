{
 "cells": [
  {
   "cell_type": "code",
   "execution_count": 2,
   "metadata": {},
   "outputs": [
    {
     "name": "stdout",
     "output_type": "stream",
     "text": [
      "This is a string INSERTED\n"
     ]
    }
   ],
   "source": [
    "print('This is a string INSERTED')"
   ]
  },
  {
   "cell_type": "code",
   "execution_count": 3,
   "metadata": {},
   "outputs": [
    {
     "name": "stdout",
     "output_type": "stream",
     "text": [
      "This is inserted\n"
     ]
    }
   ],
   "source": [
    "print('This is {}'.format('inserted'))"
   ]
  },
  {
   "cell_type": "code",
   "execution_count": 6,
   "metadata": {},
   "outputs": [
    {
     "name": "stdout",
     "output_type": "stream",
     "text": [
      "This is fox lion cat\n"
     ]
    }
   ],
   "source": [
    "print('This is {} {} {}'.format('fox', 'lion', 'cat'))"
   ]
  },
  {
   "cell_type": "code",
   "execution_count": 10,
   "metadata": {},
   "outputs": [
    {
     "name": "stdout",
     "output_type": "stream",
     "text": [
      "This is cat cat fox\n"
     ]
    }
   ],
   "source": [
    "print('This is {2} {2} {0}'.format('fox', 'lion', 'cat'))"
   ]
  },
  {
   "cell_type": "code",
   "execution_count": 11,
   "metadata": {},
   "outputs": [
    {
     "name": "stdout",
     "output_type": "stream",
     "text": [
      "This is lion fox cat\n"
     ]
    }
   ],
   "source": [
    "print('This is {l} {f} {c}'.format(f='fox', l='lion', c='cat'))"
   ]
  },
  {
   "cell_type": "code",
   "execution_count": 12,
   "metadata": {},
   "outputs": [
    {
     "name": "stdout",
     "output_type": "stream",
     "text": [
      "This is lion lion lion\n"
     ]
    }
   ],
   "source": [
    "print('This is {l} {l} {l}'.format(f='fox', l='lion', c='cat'))"
   ]
  },
  {
   "cell_type": "code",
   "execution_count": 35,
   "metadata": {},
   "outputs": [],
   "source": [
    "flutuante = 13.394532"
   ]
  },
  {
   "cell_type": "code",
   "execution_count": 36,
   "metadata": {},
   "outputs": [
    {
     "data": {
      "text/plain": [
       "13.394532"
      ]
     },
     "execution_count": 36,
     "metadata": {},
     "output_type": "execute_result"
    }
   ],
   "source": [
    "flutuante"
   ]
  },
  {
   "cell_type": "code",
   "execution_count": 37,
   "metadata": {},
   "outputs": [
    {
     "name": "stdout",
     "output_type": "stream",
     "text": [
      "aqui temos um valor de 13.394532\n"
     ]
    }
   ],
   "source": [
    "print('aqui temos um valor de {}'.format(flutuante))"
   ]
  },
  {
   "cell_type": "code",
   "execution_count": 39,
   "metadata": {},
   "outputs": [
    {
     "name": "stdout",
     "output_type": "stream",
     "text": [
      "aqui temos um valor de 13.4\n"
     ]
    }
   ],
   "source": [
    "print('aqui temos um valor de {f:1.1f}'.format(f=flutuante))"
   ]
  },
  {
   "cell_type": "code",
   "execution_count": 41,
   "metadata": {},
   "outputs": [
    {
     "name": "stdout",
     "output_type": "stream",
     "text": [
      "aqui temos um valor de 13.3945\n"
     ]
    }
   ],
   "source": [
    "print('aqui temos um valor de {f:1.4f}'.format(f=flutuante))"
   ]
  },
  {
   "cell_type": "code",
   "execution_count": 1,
   "metadata": {},
   "outputs": [],
   "source": [
    "nome = \"andre\""
   ]
  },
  {
   "cell_type": "code",
   "execution_count": 7,
   "metadata": {},
   "outputs": [
    {
     "name": "stdout",
     "output_type": "stream",
     "text": [
      "meu nome é andre\n"
     ]
    }
   ],
   "source": [
    "print('meu nome é {}'.format(nome)) # caso 1"
   ]
  },
  {
   "cell_type": "code",
   "execution_count": 8,
   "metadata": {},
   "outputs": [
    {
     "name": "stdout",
     "output_type": "stream",
     "text": [
      "meu nome é {nome}\n"
     ]
    }
   ],
   "source": [
    "print('meu nome é {nome}') # caso 2"
   ]
  },
  {
   "cell_type": "code",
   "execution_count": 10,
   "metadata": {},
   "outputs": [
    {
     "name": "stdout",
     "output_type": "stream",
     "text": [
      "meu nome é andre\n"
     ]
    }
   ],
   "source": [
    "print(f'meu nome é {nome}') # igual ao caso 1"
   ]
  },
  {
   "cell_type": "code",
   "execution_count": 11,
   "metadata": {},
   "outputs": [],
   "source": [
    "idade = 31\n",
    "nome2 = 'idade'"
   ]
  },
  {
   "cell_type": "code",
   "execution_count": 13,
   "metadata": {},
   "outputs": [
    {
     "name": "stdout",
     "output_type": "stream",
     "text": [
      "meu nome é andre, eu tenho 31 anos de idade\n"
     ]
    }
   ],
   "source": [
    "print(f'meu nome é {nome}, eu tenho {idade} anos de {nome2}') "
   ]
  },
  {
   "cell_type": "code",
   "execution_count": 36,
   "metadata": {},
   "outputs": [
    {
     "name": "stdout",
     "output_type": "stream",
     "text": [
      "aqui temos um valor de 2.3000\n"
     ]
    }
   ],
   "source": [
    "flutuante = 2.300\n",
    "print(f'aqui temos um valor de {flutuante:.4f}') # escolhe quantas casas quer na saída. Mesmo se for zero"
   ]
  }
 ],
 "metadata": {
  "kernelspec": {
   "display_name": "Python 3",
   "language": "python",
   "name": "python3"
  },
  "language_info": {
   "codemirror_mode": {
    "name": "ipython",
    "version": 3
   },
   "file_extension": ".py",
   "mimetype": "text/x-python",
   "name": "python",
   "nbconvert_exporter": "python",
   "pygments_lexer": "ipython3",
   "version": "3.7.1"
  }
 },
 "nbformat": 4,
 "nbformat_minor": 2
}
