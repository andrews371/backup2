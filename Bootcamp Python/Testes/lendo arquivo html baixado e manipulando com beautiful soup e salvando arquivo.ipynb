{
 "cells": [
  {
   "cell_type": "code",
   "execution_count": 1,
   "metadata": {},
   "outputs": [
    {
     "data": {
      "text/html": [
       "<style>.container { width:99% !important; }</style>"
      ],
      "text/plain": [
       "<IPython.core.display.HTML object>"
      ]
     },
     "metadata": {},
     "output_type": "display_data"
    }
   ],
   "source": [
    "# lendo arquivo html baixado e analisando o mesmo com o beautiful soup\n",
    "\n",
    "import threading\n",
    "import pandas as pd\n",
    "import numpy as np\n",
    "import requests\n",
    "from bs4 import BeautifulSoup as bs\n",
    "from selenium import webdriver \n",
    "from selenium.webdriver.common.keys import Keys\n",
    "from selenium.webdriver.common.action_chains import ActionChains\n",
    "from IPython.core.display import display, HTML\n",
    "display(HTML(\"<style>.container { width:99% !important; }</style>\"))\n",
    "from os import environ\n",
    "environ['PYGAME_HIDE_SUPPORT_PROMPT'] = '1'\n",
    "import pygame  # it is important to import pygame after that\n",
    "import time\n",
    "\n",
    "#Pandas Settings\n",
    "pd.options.display.float_format = '{:,.2f}'.format"
   ]
  },
  {
   "cell_type": "code",
   "execution_count": 34,
   "metadata": {},
   "outputs": [
    {
     "name": "stdout",
     "output_type": "stream",
     "text": [
      "downshift-5497299-item-4\n"
     ]
    }
   ],
   "source": [
    "with open('/home/andre/Desktop/apagar.html', 'r') as f:    \n",
    "    link = f.read()\n",
    "    page = bs(link, 'html.parser') # aqui não coloquei o text pq a página já está salva no pc\n",
    "    conteudo = page.find('li')\n",
    "    conteudo = conteudo.get('id')\n",
    "    print(conteudo)"
   ]
  },
  {
   "cell_type": "code",
   "execution_count": null,
   "metadata": {},
   "outputs": [],
   "source": [
    "# lendo arquivo html baixado e analisando o mesmo com o beautiful soup\n",
    "\n",
    "from bs4 import BeautifulSoup\n",
    "\n",
    "with open('/home/andre/Documents/Bootcamp Python/Testes/odds.html', 'r') as f:\n",
    "    link = f.read()\n",
    "    page2 = BeautifulSoup(link, 'html.parser') # aqui não coloquei o text pq a página já está salva no pc\n",
    "\n",
    "    placar = page2.find_all('center')[0].text.split('Placar: ')[1].split(' Tempo: ')[0]\n",
    "    placar = placar.replace(' - ', 'x')\n",
    "    print(placar)\n",
    "    print(len(placar))\n",
    "\n",
    "with open('/home/andre/Documents/Bootcamp Python/Testes/soccer_stats.html', 'r') as f:    \n",
    "    link = f.read()\n",
    "    page2 = BeautifulSoup(link, 'html.parser') # aqui não coloquei o text pq a página já está salva no pc\n",
    "    \n",
    "    placar = page2.find_all('tr')[1].find_all('td')[1].text\n",
    "    placar = placar.replace(' - ', 'x')\n",
    "    print(placar)\n",
    "    print(len(placar))"
   ]
  },
  {
   "cell_type": "code",
   "execution_count": 4,
   "metadata": {
    "scrolled": false
   },
   "outputs": [
    {
     "name": "stdout",
     "output_type": "stream",
     "text": [
      "Wellington Phoenix\n",
      "Melbourne City\n",
      "Tottenham\n",
      "Lazio\n",
      "Manchester City\n",
      "Torino\n",
      "Chelsea\n",
      "RB Leipzig\n",
      "Mouscron\n",
      "AZ Alkmaar\n"
     ]
    }
   ],
   "source": [
    "# lendo arquivo html baixado e analisando o mesmo com o beautiful soup\n",
    "\n",
    "def over_25(i, leagues_o25, tam_leagues_o25, teams_o25, tam_teams_o25):\n",
    "    with open('/home/andre/Documents/bots/Betaminic strategies/arquivo.html', 'r') as f:\n",
    "        link = f.read()\n",
    "        page = bs(link, 'html.parser') # aqui não coloquei o text pq a página já está salva no pc\n",
    "        # digitando o nome da equipe e verificando qual a opção correspondente\n",
    "\n",
    "        # analisando o filtro de ligas da estratégia \n",
    "        ligas_do_dia = page.find('tbody').find_all('tr')[i].find_all('th')[0].find_all('a')[0].text.strip()\n",
    "        ligas_do_dia = ligas_do_dia + ' ' + page.find('tbody').find_all('tr')[i].find_all('th')[0].find_all('a')[1].text.strip()\n",
    "\n",
    "        for j in range(tam_leagues_o25):\n",
    "            if ligas_do_dia == leagues_o25[j]:\n",
    "\n",
    "                # filtro de ligas da estratégia ACEITO\n",
    "\n",
    "                # analisando o filtro de times da estratégia\n",
    "                var = i + 1\n",
    "                \n",
    "                while var != 0:                                                                       \n",
    "                    try:\n",
    "                        times_do_dia = page.find('tbody').find_all('tr')[var].find_all('td')[1].text.strip().split(' - ')\n",
    "                        for k in range(tam_teams_o25):\n",
    "                            if (times_do_dia[0] == teams_o25[k]) or (times_do_dia[1] == teams_o25[k]):\n",
    "                                print(teams_o25[k])\n",
    "                                break\n",
    "\n",
    "                        var += 1\n",
    "                    except:\n",
    "                        var = 0\n",
    "                        continue\n",
    "\n",
    "                break\n",
    "\n",
    "\n",
    "\n",
    "# script principal\n",
    "# lista de todas as competições do betaminic (até agora escrito igual ao oddsportal)\n",
    "arquivo = open('/home/andre/Documents/bots/Betaminic strategies/ligas.txt')\n",
    "leagues = arquivo.read().split('\\n')\n",
    "tam_leagues = len(leagues)\n",
    "arquivo.close()\n",
    "\n",
    "# lista de ligas do over 2.5 \n",
    "arquivo = open('/home/andre/Documents/bots/Betaminic strategies/over25/ligas_over25.txt')\n",
    "leagues_o25 = arquivo.read().split('\\n')\n",
    "tam_leagues_o25 = len(leagues_o25)\n",
    "arquivo.close()\n",
    "\n",
    "# lista de times do over 2.5\n",
    "arquivo = open('/home/andre/Documents/bots/Betaminic strategies/over25/times_over25.txt')\n",
    "teams_o25 = arquivo.read().split('\\n')\n",
    "tam_teams_o25 = len(teams_o25)\n",
    "arquivo.close()\n",
    "\n",
    "arquivo = open('/home/andre/Documents/bots/Betaminic strategies/arquivo.html')\n",
    "link = arquivo.read()\n",
    "page = bs(link, 'html.parser') # aqui não coloquei o text pq a página já está salva no pc\n",
    "# digitando o nome da equipe e verificando qual a opção correspondente\n",
    "\n",
    "tam_ligas_do_dia = len(page.find('tbody').find_all('tr'))\n",
    "\n",
    "for i in range(tam_ligas_do_dia):\n",
    "    try:\n",
    "        classe_liga = page.find('tbody').find_all('tr')[i].get('class')[0]\n",
    "        if classe_liga == 'dark':\n",
    "            for j in range(tam_leagues):\n",
    "                # analisando o filtro de ligas da estratégia \n",
    "                ligas_do_dia = page.find('tbody').find_all('tr')[i].find_all('th')[0].find_all('a')[0].text.strip()\n",
    "                ligas_do_dia = ligas_do_dia + ' ' + page.find('tbody').find_all('tr')[i].find_all('th')[0].find_all('a')[1].text.strip()\n",
    "                if ligas_do_dia == leagues[j]:\n",
    "                    # filtro de ligas OK\n",
    "                    over_25(i, leagues_o25, tam_leagues_o25, teams_o25, tam_teams_o25)\n",
    "    except:\n",
    "        continue"
   ]
  },
  {
   "cell_type": "code",
   "execution_count": null,
   "metadata": {},
   "outputs": [],
   "source": [
    "from bs4 import BeautifulSoup\n",
    "import requests\n",
    "\n",
    "link = requests.get('http://18.231.88.179/sites/odds.php?id=0')\n",
    "page2 = BeautifulSoup(link.text, 'html.parser')\n",
    "\n",
    "goleadacasa_back = page2.find_all('td',{'bgcolor':'#FF69B4'})[27].text\n",
    "print(goleadacasa_back)"
   ]
  },
  {
   "cell_type": "code",
   "execution_count": null,
   "metadata": {},
   "outputs": [],
   "source": [
    "a = 'lkdfjldskfdlkf\\<tag>dkfjdkdkjfk<li>dlkfjd\\\\\\\\\\\n",
    "</li>'\n",
    "arquivo = open('arquivo.html','w')\n",
    "arquivo.write(a)\n",
    "arquivo.close()"
   ]
  }
 ],
 "metadata": {
  "kernelspec": {
   "display_name": "Python 3",
   "language": "python",
   "name": "python3"
  },
  "language_info": {
   "codemirror_mode": {
    "name": "ipython",
    "version": 3
   },
   "file_extension": ".py",
   "mimetype": "text/x-python",
   "name": "python",
   "nbconvert_exporter": "python",
   "pygments_lexer": "ipython3",
   "version": "3.7.1"
  }
 },
 "nbformat": 4,
 "nbformat_minor": 2
}
