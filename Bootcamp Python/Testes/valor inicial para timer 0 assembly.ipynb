{
 "cells": [
  {
   "cell_type": "code",
   "execution_count": 2,
   "metadata": {},
   "outputs": [
    {
     "name": "stdout",
     "output_type": "stream",
     "text": [
      "Valor em microssegundos que você quer 10000\n",
      "55536.0\n"
     ]
    }
   ],
   "source": [
    "# PARA O TIMER 1\n",
    "\n",
    "inp = int(input('Valor em microssegundos que você quer '))\n",
    "res = -inp/1 + 65536\n",
    "print(res)"
   ]
  },
  {
   "cell_type": "code",
   "execution_count": 4,
   "metadata": {},
   "outputs": [
    {
     "name": "stdout",
     "output_type": "stream",
     "text": [
      "Valor em microssegundos que você quer 50000\n",
      "60.6875\n"
     ]
    }
   ],
   "source": [
    "# PARA O TIMER 0\n",
    "\n",
    "inp = int(input('Valor em microssegundos que você quer '))\n",
    "res = -inp/256 + 256\n",
    "print(res)"
   ]
  },
  {
   "cell_type": "code",
   "execution_count": 1,
   "metadata": {},
   "outputs": [
    {
     "name": "stdout",
     "output_type": "stream",
     "text": [
      "var3: 2.823\n",
      "143.973\n"
     ]
    }
   ],
   "source": [
    "# achando o valor do adresh tendo a tensão\n",
    "\n",
    "inp1 = 5\n",
    "inp2 = 255\n",
    "inp3 = float(input('var3: '))\n",
    "res = (inp3 * inp2) / inp1\n",
    "\n",
    "print(res)"
   ]
  },
  {
   "cell_type": "code",
   "execution_count": 2,
   "metadata": {},
   "outputs": [
    {
     "name": "stdout",
     "output_type": "stream",
     "text": [
      "var3: 144\n",
      "2.823529411764706\n"
     ]
    }
   ],
   "source": [
    "# achando tensão tendo o valor do adresh \n",
    "\n",
    "inp1 = 255\n",
    "inp2 = 5\n",
    "inp3 = float(input('var3: '))\n",
    "res = (inp3 * inp2) / inp1\n",
    "\n",
    "print(res)"
   ]
  },
  {
   "cell_type": "code",
   "execution_count": 31,
   "metadata": {},
   "outputs": [
    {
     "name": "stdout",
     "output_type": "stream",
     "text": [
      "Temperatura: 23.35\n",
      "Tensão: 0.23349999999999999\n"
     ]
    }
   ],
   "source": [
    "# achando a tensão tendo a temperatura\n",
    "\n",
    "inp = float(input('Temperatura: '))\n",
    "tensao = (inp * 0.2235) / 22.35\n",
    "print('Tensão: {}'.format(tensao))"
   ]
  },
  {
   "cell_type": "code",
   "execution_count": 32,
   "metadata": {},
   "outputs": [
    {
     "name": "stdout",
     "output_type": "stream",
     "text": [
      "Tensão: 0.2335\n",
      "Temperatura: 23.350000000000005\n"
     ]
    }
   ],
   "source": [
    "# achando a temperatura tendo a tensão\n",
    "\n",
    "inp = float(input('Tensão: '))\n",
    "temp = (inp * 22.35) / 0.2235\n",
    "print('Temperatura: {}'.format(temp))"
   ]
  },
  {
   "cell_type": "code",
   "execution_count": 39,
   "metadata": {},
   "outputs": [
    {
     "name": "stdout",
     "output_type": "stream",
     "text": [
      "Tensão: 2.245\n",
      "Temperatura: 22.450000000000006\n"
     ]
    }
   ],
   "source": [
    "# achando a temperatura tendo a tensão => amplificando\n",
    "\n",
    "inp = float(input('Tensão: '))\n",
    "temp = (inp * 22.35) / 2.235\n",
    "print('Temperatura: {}'.format(temp))"
   ]
  }
 ],
 "metadata": {
  "kernelspec": {
   "display_name": "Python 3",
   "language": "python",
   "name": "python3"
  },
  "language_info": {
   "codemirror_mode": {
    "name": "ipython",
    "version": 3
   },
   "file_extension": ".py",
   "mimetype": "text/x-python",
   "name": "python",
   "nbconvert_exporter": "python",
   "pygments_lexer": "ipython3",
   "version": "3.7.1"
  }
 },
 "nbformat": 4,
 "nbformat_minor": 2
}
