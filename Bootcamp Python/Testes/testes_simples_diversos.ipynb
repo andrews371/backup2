{
 "cells": [
  {
   "cell_type": "code",
   "execution_count": 16,
   "metadata": {},
   "outputs": [
    {
     "name": "stdout",
     "output_type": "stream",
     "text": [
      "imprimindo só a quantidade de elementos de py_arr -> 6\n",
      "imprimindo só a quantidade de elementos de numpy_arr -> 6\n",
      "\n",
      "imprimindo o espaço ocupado em memória do py_arr -> 84\n",
      "imprimindo o espaço ocupado em memória do numpy_arr -> 24\n"
     ]
    }
   ],
   "source": [
    "# teste da memória ocupada por numpy e array list\n",
    "\n",
    "import numpy as np\n",
    "import sys\n",
    "\n",
    "py_arr = [1,2,3,4,5,6]\n",
    "numpy_arr = np.array([1,2,3,4,5,6])\n",
    "\n",
    "sizeof_py_arr = sys.getsizeof(1) * len(py_arr) \n",
    "sizeof_numpy_arr = numpy_arr.itemsize * numpy_arr.size \n",
    "\n",
    "print(f'imprimindo só a quantidade de elementos de py_arr -> {len(py_arr)}')\n",
    "print(f'imprimindo só a quantidade de elementos de numpy_arr -> {numpy_arr.size}\\n')\n",
    "\n",
    "print(f'imprimindo o espaço ocupado em memória do py_arr -> {sizeof_py_arr}')\n",
    "print(f'imprimindo o espaço ocupado em memória do numpy_arr -> {sizeof_numpy_arr}')"
   ]
  },
  {
   "cell_type": "code",
   "execution_count": 24,
   "metadata": {},
   "outputs": [
    {
     "name": "stdout",
     "output_type": "stream",
     "text": [
      "\t\tBefore\t\t\t\tAfter\n",
      "Articles\t4ºbi\t3ºbi\t2ºbi\t1ºbi\t1ºbi\t2ºbi\t3ºbi\t4ºbi\n",
      "Problema de valor inicial\t253\t470\t514\t394\t650\t625\t344\t597\n",
      "Hiroshi Okamura\t0\t0\t0\t0\t30\t25\t12\t21\n",
      "Processo estocástico\t3953\t4075\t4135\t4706\t4610\t3136\t4720\t4739\n",
      "Nervo musculocutâneo\t734\t831\t376\t739\t975\t672\t1434\t1732\n",
      "Sistema circulatório equino\t0\t0\t0\t0\t292\t258\t506\t697\n",
      "Saúde canina\t0\t0\t0\t0\t126\t212\t217\t231\n",
      "Portal:Probabilidade e estatística\t0\t0\t0\t0\t2\t148\t359\t1593\n",
      "Membros do cavalo\t0\t0\t0\t0\t191\t376\t402\t429\n",
      "Mediana (estatística)\t30235\t21392\t28564\t37520\t13728\t24149\t30787\t26089\n",
      "Jogo de computação baseado em humanos\t0\t0\t0\t0\t60\t31\t21\t22\n"
     ]
    }
   ],
   "source": [
    "# Exemplo mais avançado de api tirado de: https://difusaoneuromat.wordpress.com/2017/08/01/o-uso-de-apis-na-mineracao-de-dados/\n",
    "\n",
    "\n",
    "#Imports\n",
    "from datetime import datetime\n",
    "from dateutil.relativedelta import relativedelta\n",
    "import urllib.request as ur\n",
    "import requests\n",
    "import json\n",
    "\n",
    "#Transform the date from string to date format\n",
    "def parse_date(stringDate):\n",
    "    return datetime.strptime(stringDate.ljust(10, '0'), '%Y%m%d%H')\n",
    "\n",
    "#Transform the date from date format to string\n",
    "def format_date(d):\n",
    "    return datetime.strftime(d, '%Y%m%d%H')\n",
    "\n",
    "#Return the url given the article and the date\n",
    "def endpoint(article,date,language,project):\n",
    "    return (requests.get(''.join([\"https://wikimedia.org/api/rest_v1/metrics/pageviews/per-article/\",language,\".\",project,\"/all-access/user/\",article,\"/daily/\",format_date(parse_date(date) - relativedelta(days=240)),\"/\",format_date(parse_date(date) + relativedelta(days=239))]))).url\n",
    "\n",
    "#Get the views grouped by bimester for the 4 bimesters before and the 4 after de date\n",
    "def Bimonthlysum(article,Listofdates,Listsofviews,date):\n",
    "    i=0\n",
    "    s1=0     #Total views on the 4th bimester before the date\n",
    "    s2=0     #Total views on the 3th bimester before the date\n",
    "    s3=0     #Total views on the 2nd bimester before the date\n",
    "    s4=0     #Total views on the 1st bimester before the date\n",
    "    s5=0     #Total views on the 1st bimester after the date\n",
    "    s6=0     #Total views on the 2nd bimester after the date\n",
    "    s7=0     #Total views on the 3th bimester after the date\n",
    "    s8=0     #Total views on the 4th bimester after the date\n",
    "    while i<480:\n",
    "        aux = format_date(parse_date(date) - relativedelta(days=240-i))\n",
    "        if aux in Listofdates:\n",
    "            if i<60:\n",
    "                s1 = s1 + Listofviews[Listofdates.index(aux)]\n",
    "            elif i<120:\n",
    "                s2 = s2 + Listofviews[Listofdates.index(aux)]\n",
    "            elif i<180:\n",
    "                s3 = s3 + Listofviews[Listofdates.index(aux)]\n",
    "            elif i<240:\n",
    "                s4 = s4 + Listofviews[Listofdates.index(aux)]\n",
    "            elif i<300:\n",
    "                s5 = s5 + Listofviews[Listofdates.index(aux)]\n",
    "            elif i<360:\n",
    "                s6 = s6 + Listofviews[Listofdates.index(aux)]\n",
    "            elif i<420:\n",
    "                s7 = s7 + Listofviews[Listofdates.index(aux)]\n",
    "            else:\n",
    "                s8 = s8 + Listofviews[Listofdates.index(aux)]\n",
    "        i=i+1\n",
    "    print ('%s\\t%d\\t%d\\t%d\\t%d\\t%d\\t%d\\t%d\\t%d'%(article,s1,s2,s3,s4,s5,s6,s7,s8))\n",
    "\n",
    "Articles=[\"Problema de valor inicial\", \"Hiroshi Okamura\", \"Processo estocástico\", \"Nervo musculocutâneo\", \"Sistema circulatório equino\", \"Saúde canina\", \"Portal:Probabilidade e estatística\", \"Membros do cavalo\", \"Mediana (estatística)\", \"Jogo de computação baseado em humanos\"]\n",
    "Dates=[\"20160829\", \"20160831\", \"20161017\", \"20161026\", \"20161107\", \"20161119\", \"20161207\", \"20161207\", \"20161209\", \"20161212\"]\n",
    "Wikis=[\"pt\", \"pt\", \"pt\", \"pt\", \"pt\", \"pt\", \"pt\", \"pt\", \"pt\", \"pt\"]\n",
    "Projects=[\"wikipedia\", \"wikipedia\", \"wikipedia\", \"wikipedia\", \"wikipedia\", \"wikipedia\", \"wikipedia\", \"wikipedia\", \"wikipedia\", \"wikipedia\"]\n",
    "\n",
    "#Printing the header\n",
    "print ('\\t\\tBefore\\t\\t\\t\\tAfter')\n",
    "print ('Articles\\t4ºbi\\t3ºbi\\t2ºbi\\t1ºbi\\t1ºbi\\t2ºbi\\t3ºbi\\t4ºbi')\n",
    "\n",
    "for i in range(len(Articles)):\n",
    "    url = endpoint(Articles[i],Dates[i],Wikis[i],Projects[i])\n",
    "    response=ur.urlopen(url)\n",
    "    content=response.read()\n",
    "    date=json.loads(content.decode(\"utf8\"))\n",
    "    \n",
    "    Listofdates=[]\n",
    "    Listofviews=[]\n",
    "    for item in date['items']:\n",
    "        Listofdates.append(item['timestamp'])\n",
    "        Listofviews.append(item['views'])\n",
    "    Bimonthlysum(Articles[i],Listofdates,Listofviews,Dates[i])\n"
   ]
  },
  {
   "cell_type": "code",
   "execution_count": 15,
   "metadata": {},
   "outputs": [
    {
     "data": {
      "text/plain": [
       "[(1, 1), (1, 0), (0, 1), (2, 0), (4, 0), (2, 1)]"
      ]
     },
     "execution_count": 15,
     "metadata": {},
     "output_type": "execute_result"
    }
   ],
   "source": [
    "lista = [3, 2, 1, 4, 8, 5]\n",
    "list(map(lambda num: divmod(num,2), lista))"
   ]
  },
  {
   "cell_type": "code",
   "execution_count": null,
   "metadata": {},
   "outputs": [],
   "source": []
  }
 ],
 "metadata": {
  "kernelspec": {
   "display_name": "Python 3",
   "language": "python",
   "name": "python3"
  },
  "language_info": {
   "codemirror_mode": {
    "name": "ipython",
    "version": 3
   },
   "file_extension": ".py",
   "mimetype": "text/x-python",
   "name": "python",
   "nbconvert_exporter": "python",
   "pygments_lexer": "ipython3",
   "version": "3.7.1"
  }
 },
 "nbformat": 4,
 "nbformat_minor": 2
}
