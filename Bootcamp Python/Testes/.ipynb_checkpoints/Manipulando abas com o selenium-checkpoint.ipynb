{
 "cells": [
  {
   "cell_type": "code",
   "execution_count": null,
   "metadata": {},
   "outputs": [],
   "source": [
    "# abrindo nova aba, mudando pra ela e fechando. Forma 1\n",
    "\n",
    "from selenium import webdriver\n",
    "from selenium.webdriver.common.keys import Keys\n",
    "import time\n",
    "\n",
    "driver = webdriver.Firefox() \n",
    "driver.get('https://www.google.com/doodles/')\n",
    "\n",
    "# Abre uma nova aba com o site do SO\n",
    "driver.execute_script(\"window.open('https://stackoverflow.com/', '_blank')\")\n",
    "\n",
    "# Muda de aba - na verdade handles[1] é a aba aberta e já estamos lá\n",
    "# não precisaria dessa linha, mas deixei pra exemplificar\n",
    "# se quisesse voltar à aba anterior colocaria handles[0]\n",
    "driver.switch_to.window(driver.window_handles[1])\n",
    "time.sleep(4)\n",
    "\n",
    "# Fecha a aba\n",
    "driver.find_element_by_tag_name('body').send_keys(Keys.CONTROL + 'w') "
   ]
  },
  {
   "cell_type": "code",
   "execution_count": null,
   "metadata": {},
   "outputs": [],
   "source": [
    "# abrindo nova aba, mudando pra ela e fechando. Forma 2\n",
    "\n",
    "from selenium import webdriver\n",
    "from selenium.webdriver.common.keys import Keys\n",
    "import os\n",
    "\n",
    "os.environ['MOZ_FORCE_DISABLE_E10S'] = '1'\n",
    "driver = webdriver.Firefox()\n",
    "driver.get('https://www.google.com/doodles/')\n",
    "\n",
    "# abre a nova aba\n",
    "driver.find_element_by_tag_name('body').send_keys(Keys.CONTROL + 't')\n",
    "\n",
    "# muda de aba\n",
    "driver.switch_to.window(driver.window_handles[1])\n",
    "\n",
    "# acessa novo site\n",
    "driver.get('https://stackoverflow.com/')\n",
    "\n",
    "# fecha a aba\n",
    "driver.find_element_by_tag_name('body').send_keys(Keys.CONTROL + 'w')"
   ]
  }
 ],
 "metadata": {
  "kernelspec": {
   "display_name": "Python 3",
   "language": "python",
   "name": "python3"
  },
  "language_info": {
   "codemirror_mode": {
    "name": "ipython",
    "version": 3
   },
   "file_extension": ".py",
   "mimetype": "text/x-python",
   "name": "python",
   "nbconvert_exporter": "python",
   "pygments_lexer": "ipython3",
   "version": "3.7.1"
  }
 },
 "nbformat": 4,
 "nbformat_minor": 2
}
