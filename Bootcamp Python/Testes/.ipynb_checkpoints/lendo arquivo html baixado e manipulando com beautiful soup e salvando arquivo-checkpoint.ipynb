{
 "cells": [
  {
   "cell_type": "code",
   "execution_count": 3,
   "metadata": {},
   "outputs": [
    {
     "name": "stdout",
     "output_type": "stream",
     "text": [
      "Kerala Blasters x Northeast United\n",
      "34\n"
     ]
    }
   ],
   "source": [
    "# lendo arquivo html baixado e analisando o mesmo com o beautiful soup\n",
    "\n",
    "from bs4 import BeautifulSoup\n",
    "\n",
    "with open('/home/andre/Documents/Bootcamp Python/Testes/odds.html', 'r') as f:    \n",
    "    link = f.read()\n",
    "    page2 = BeautifulSoup(link, 'html.parser') # aqui não coloquei o text pq a página já está salva no pc\n",
    "\n",
    "     \n",
    "    time1 = page2.find_all('tr')[1].find_all('td')[1].text\n",
    "    time2 = page2.find_all('tr')[3].find_all('td')[0].text\n",
    "    times_secao_odds = time1 + ' x ' + time2\n",
    "    print(times_secao_odds)  \n",
    "    print(len(times_secao_odds))"
   ]
  }
 ],
 "metadata": {
  "kernelspec": {
   "display_name": "Python 3",
   "language": "python",
   "name": "python3"
  },
  "language_info": {
   "codemirror_mode": {
    "name": "ipython",
    "version": 3
   },
   "file_extension": ".py",
   "mimetype": "text/x-python",
   "name": "python",
   "nbconvert_exporter": "python",
   "pygments_lexer": "ipython3",
   "version": "3.7.1"
  }
 },
 "nbformat": 4,
 "nbformat_minor": 2
}
