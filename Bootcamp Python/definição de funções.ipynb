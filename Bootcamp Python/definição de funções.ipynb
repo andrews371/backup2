{
 "cells": [
  {
   "cell_type": "code",
   "execution_count": 48,
   "metadata": {},
   "outputs": [],
   "source": [
    "# esta função não retorna nada, portanto não se atribui ela a nada, apenas se chama.\n",
    "def func():\n",
    "    '''\n",
    "    input: no input\n",
    "    output: 'hello'\n",
    "    '''\n",
    "    print('hello')"
   ]
  },
  {
   "cell_type": "code",
   "execution_count": 8,
   "metadata": {},
   "outputs": [
    {
     "name": "stdout",
     "output_type": "stream",
     "text": [
      "hello\n"
     ]
    }
   ],
   "source": [
    "func()"
   ]
  },
  {
   "cell_type": "code",
   "execution_count": 52,
   "metadata": {},
   "outputs": [
    {
     "name": "stdout",
     "output_type": "stream",
     "text": [
      "hello\n"
     ]
    }
   ],
   "source": [
    "resultado = func() # func() não está atribuindo nada já que ela não retorna nada"
   ]
  },
  {
   "cell_type": "code",
   "execution_count": 54,
   "metadata": {},
   "outputs": [],
   "source": [
    "resultado # nao fez nada como mencionado antes"
   ]
  },
  {
   "cell_type": "code",
   "execution_count": 55,
   "metadata": {},
   "outputs": [
    {
     "data": {
      "text/plain": [
       "NoneType"
      ]
     },
     "execution_count": 55,
     "metadata": {},
     "output_type": "execute_result"
    }
   ],
   "source": [
    "type(resultado)"
   ]
  },
  {
   "cell_type": "code",
   "execution_count": 38,
   "metadata": {},
   "outputs": [],
   "source": [
    "def func2(a): # em python nao dizemos qual o tipo da variável que vamos receber\n",
    "    '''\n",
    "    input: string\n",
    "    output: hello parametro_passado\n",
    "    '''\n",
    "    print(f'hello {a}') #  print('hello ' + a) => fazendo print assim só posso concatenar string."
   ]
  },
  {
   "cell_type": "code",
   "execution_count": 39,
   "metadata": {},
   "outputs": [
    {
     "name": "stdout",
     "output_type": "stream",
     "text": [
      "hello Dani\n"
     ]
    }
   ],
   "source": [
    "func2('Dani')"
   ]
  },
  {
   "cell_type": "code",
   "execution_count": 40,
   "metadata": {},
   "outputs": [],
   "source": [
    "def func3(a = 'André'): # em python nao dizemos qual o tipo da variável que vamos receber\n",
    "                        # neste caso não é necessário passar parâmetro. Se não for passado então o parâmetro padrão\n",
    "                        # é \"André\"\n",
    "    '''\n",
    "    input: string\n",
    "    output: hello parametro_passado\n",
    "    '''\n",
    "    print(f'hello {a}') #  print('hello ' + a) => fazendo print assim só posso concatenar string."
   ]
  },
  {
   "cell_type": "code",
   "execution_count": 47,
   "metadata": {},
   "outputs": [
    {
     "name": "stdout",
     "output_type": "stream",
     "text": [
      "hello André\n"
     ]
    }
   ],
   "source": [
    "func3() # poderia passar qualquer valor, como não passei, ele entende como \"André\" o argumento\n",
    "        # que é o valor padrão"
   ]
  },
  {
   "cell_type": "code",
   "execution_count": 66,
   "metadata": {},
   "outputs": [],
   "source": [
    "# agora vamos usar o retorno e poder atribuir o resultado do retorno da função para alguém\n",
    "\n",
    "def func3(a = 'André'): # em python nao dizemos qual o tipo da variável que vamos receber\n",
    "                        # neste caso não é necessário passar parâmetro. Se não for passado então o parâmetro padrão\n",
    "                        # é \"André\"\n",
    "    '''\n",
    "    input: string\n",
    "    output: hello parametro_passado\n",
    "    '''\n",
    "    return f'hello {a}' # se usarmos o \"+\" e concatenar acontece o mesmo que foi dito na célula acima\n",
    "                        # ele só aceita concatenar se for passada uma string"
   ]
  },
  {
   "cell_type": "code",
   "execution_count": 94,
   "metadata": {},
   "outputs": [
    {
     "data": {
      "text/plain": [
       "'hello André'"
      ]
     },
     "execution_count": 94,
     "metadata": {},
     "output_type": "execute_result"
    }
   ],
   "source": [
    "func3()"
   ]
  },
  {
   "cell_type": "code",
   "execution_count": 89,
   "metadata": {},
   "outputs": [],
   "source": [
    "resultado = func3(3)"
   ]
  },
  {
   "cell_type": "code",
   "execution_count": 90,
   "metadata": {},
   "outputs": [
    {
     "data": {
      "text/plain": [
       "'hello 3'"
      ]
     },
     "execution_count": 90,
     "metadata": {},
     "output_type": "execute_result"
    }
   ],
   "source": [
    "resultado"
   ]
  },
  {
   "cell_type": "code",
   "execution_count": 92,
   "metadata": {},
   "outputs": [
    {
     "data": {
      "text/plain": [
       "str"
      ]
     },
     "execution_count": 92,
     "metadata": {},
     "output_type": "execute_result"
    }
   ],
   "source": [
    "type(resultado) # o retorno mesmo um número está formatado como string"
   ]
  },
  {
   "cell_type": "code",
   "execution_count": 124,
   "metadata": {},
   "outputs": [
    {
     "data": {
      "text/plain": [
       "True"
      ]
     },
     "execution_count": 124,
     "metadata": {},
     "output_type": "execute_result"
    }
   ],
   "source": [
    "# só um exemplo de boolean onde não precisamos de uma função para fazer essa verificação\n",
    "'dog' in 'My dog is my the best friend'.lower() # como isso retorna um verdadeiro ou falso, pode ser usado\n",
    "                                                # como retorno de alguma função"
   ]
  },
  {
   "cell_type": "code",
   "execution_count": 129,
   "metadata": {},
   "outputs": [],
   "source": [
    "# função que se a primeira palavra começar com tira essa consoate do começo e coloca essa letra no fim e add ay\n",
    "# caso contrário apenas acrescenta ay no fim\n",
    "\n",
    "def check_letra(string):\n",
    "    if string[0] in 'aeiou':\n",
    "        palavra = string + 'ay'\n",
    "    else:\n",
    "        palavra = string[1:] + string[0] + 'ay'\n",
    "    return palavra"
   ]
  },
  {
   "cell_type": "code",
   "execution_count": 130,
   "metadata": {},
   "outputs": [
    {
     "data": {
      "text/plain": [
       "'ordway'"
      ]
     },
     "execution_count": 130,
     "metadata": {},
     "output_type": "execute_result"
    }
   ],
   "source": [
    "check_letra('word')"
   ]
  },
  {
   "cell_type": "code",
   "execution_count": 131,
   "metadata": {},
   "outputs": [
    {
     "data": {
      "text/plain": [
       "'andreay'"
      ]
     },
     "execution_count": 131,
     "metadata": {},
     "output_type": "execute_result"
    }
   ],
   "source": [
    "check_letra('andre')"
   ]
  },
  {
   "cell_type": "code",
   "execution_count": null,
   "metadata": {},
   "outputs": [],
   "source": []
  },
  {
   "cell_type": "code",
   "execution_count": null,
   "metadata": {},
   "outputs": [],
   "source": []
  },
  {
   "cell_type": "code",
   "execution_count": null,
   "metadata": {},
   "outputs": [],
   "source": []
  }
 ],
 "metadata": {
  "kernelspec": {
   "display_name": "Python 3",
   "language": "python",
   "name": "python3"
  },
  "language_info": {
   "codemirror_mode": {
    "name": "ipython",
    "version": 3
   },
   "file_extension": ".py",
   "mimetype": "text/x-python",
   "name": "python",
   "nbconvert_exporter": "python",
   "pygments_lexer": "ipython3",
   "version": "3.7.1"
  },
  "varInspector": {
   "cols": {
    "lenName": 16,
    "lenType": 16,
    "lenVar": 40
   },
   "kernels_config": {
    "python": {
     "delete_cmd_postfix": "",
     "delete_cmd_prefix": "del ",
     "library": "var_list.py",
     "varRefreshCmd": "print(var_dic_list())"
    },
    "r": {
     "delete_cmd_postfix": ") ",
     "delete_cmd_prefix": "rm(",
     "library": "var_list.r",
     "varRefreshCmd": "cat(var_dic_list()) "
    }
   },
   "types_to_exclude": [
    "module",
    "function",
    "builtin_function_or_method",
    "instance",
    "_Feature"
   ],
   "window_display": false
  }
 },
 "nbformat": 4,
 "nbformat_minor": 2
}
