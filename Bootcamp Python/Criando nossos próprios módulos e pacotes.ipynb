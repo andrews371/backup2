{
 "cells": [
  {
   "cell_type": "code",
   "execution_count": 1,
   "metadata": {},
   "outputs": [],
   "source": [
    "# Para criar nossos próprios módulos e pacotes vamos usar um editor de texto\n",
    "# Eu usei o sublime e os arquivos criados estão com a extensão .py e estão salvos no módulo 09 que trata disso\n",
    "\n",
    "# módulos são scripts .py que fazemos separados e depois chamamos no programa.py principal (como as classes separadas\n",
    "# em java) para uma melhor organização do código. Lembrando que um módulo pode conter várias classes\n",
    "# O módulo serve para colocar junto funções e classes que são logicamente relacionados\n",
    "\n",
    "# quando juntamos vários módulos estamos fazendo um pacote. Um pacote é apenas\n",
    "# uma pasta/diretório. Um pacote segue a mesma ideia do módulo, que é colocar junto os módulos que são \n",
    "# logicamente relacionados"
   ]
  },
  {
   "cell_type": "code",
   "execution_count": 3,
   "metadata": {},
   "outputs": [],
   "source": [
    "# aqui é só um teste de um pacote já existente\n",
    "\n",
    "from colorama import Fore"
   ]
  },
  {
   "cell_type": "code",
   "execution_count": 4,
   "metadata": {},
   "outputs": [
    {
     "name": "stdout",
     "output_type": "stream",
     "text": [
      "\u001b[31mEsse texto está em vermelho\n"
     ]
    }
   ],
   "source": [
    "print(Fore.RED + 'Esse texto está em vermelho')"
   ]
  },
  {
   "cell_type": "code",
   "execution_count": 6,
   "metadata": {},
   "outputs": [
    {
     "name": "stdout",
     "output_type": "stream",
     "text": [
      "\u001b[32mEste texto está em verde.\n"
     ]
    }
   ],
   "source": [
    "print(Fore.GREEN + 'Este texto está em verde.')"
   ]
  },
  {
   "cell_type": "code",
   "execution_count": null,
   "metadata": {},
   "outputs": [],
   "source": []
  }
 ],
 "metadata": {
  "kernelspec": {
   "display_name": "Python 3",
   "language": "python",
   "name": "python3"
  },
  "language_info": {
   "codemirror_mode": {
    "name": "ipython",
    "version": 3
   },
   "file_extension": ".py",
   "mimetype": "text/x-python",
   "name": "python",
   "nbconvert_exporter": "python",
   "pygments_lexer": "ipython3",
   "version": "3.7.1"
  },
  "varInspector": {
   "cols": {
    "lenName": 16,
    "lenType": 16,
    "lenVar": 40
   },
   "kernels_config": {
    "python": {
     "delete_cmd_postfix": "",
     "delete_cmd_prefix": "del ",
     "library": "var_list.py",
     "varRefreshCmd": "print(var_dic_list())"
    },
    "r": {
     "delete_cmd_postfix": ") ",
     "delete_cmd_prefix": "rm(",
     "library": "var_list.r",
     "varRefreshCmd": "cat(var_dic_list()) "
    }
   },
   "types_to_exclude": [
    "module",
    "function",
    "builtin_function_or_method",
    "instance",
    "_Feature"
   ],
   "window_display": false
  }
 },
 "nbformat": 4,
 "nbformat_minor": 2
}
