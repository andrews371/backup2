{
 "cells": [
  {
   "cell_type": "code",
   "execution_count": 11,
   "metadata": {},
   "outputs": [
    {
     "ename": "TypeError",
     "evalue": "unsupported operand type(s) for +: 'int' and 'str'",
     "output_type": "error",
     "traceback": [
      "\u001b[0;31m---------------------------------------------------------------------------\u001b[0m",
      "\u001b[0;31mTypeError\u001b[0m                                 Traceback (most recent call last)",
      "\u001b[0;32m<ipython-input-11-580b458fcba6>\u001b[0m in \u001b[0;36m<module>\u001b[0;34m\u001b[0m\n\u001b[1;32m      1\u001b[0m \u001b[0;31m# antes de tratar\u001b[0m\u001b[0;34m\u001b[0m\u001b[0;34m\u001b[0m\u001b[0;34m\u001b[0m\u001b[0m\n\u001b[1;32m      2\u001b[0m \u001b[0;34m\u001b[0m\u001b[0m\n\u001b[0;32m----> 3\u001b[0;31m \u001b[0mresultado\u001b[0m \u001b[0;34m=\u001b[0m \u001b[0;36m10\u001b[0m \u001b[0;34m+\u001b[0m \u001b[0;34m'10'\u001b[0m\u001b[0;34m\u001b[0m\u001b[0;34m\u001b[0m\u001b[0m\n\u001b[0m",
      "\u001b[0;31mTypeError\u001b[0m: unsupported operand type(s) for +: 'int' and 'str'"
     ]
    }
   ],
   "source": [
    "# antes de tratar\n",
    "\n",
    "resultado = 10 + '10'"
   ]
  },
  {
   "cell_type": "code",
   "execution_count": 12,
   "metadata": {},
   "outputs": [
    {
     "ename": "NameError",
     "evalue": "name 'resultado' is not defined",
     "output_type": "error",
     "traceback": [
      "\u001b[0;31m---------------------------------------------------------------------------\u001b[0m",
      "\u001b[0;31mNameError\u001b[0m                                 Traceback (most recent call last)",
      "\u001b[0;32m<ipython-input-12-b2c5c9eb7548>\u001b[0m in \u001b[0;36m<module>\u001b[0;34m\u001b[0m\n\u001b[0;32m----> 1\u001b[0;31m \u001b[0mresultado\u001b[0m\u001b[0;34m\u001b[0m\u001b[0;34m\u001b[0m\u001b[0m\n\u001b[0m",
      "\u001b[0;31mNameError\u001b[0m: name 'resultado' is not defined"
     ]
    }
   ],
   "source": [
    "resultado"
   ]
  },
  {
   "cell_type": "code",
   "execution_count": 13,
   "metadata": {},
   "outputs": [],
   "source": [
    "# agora tratando a exceção\n",
    "\n",
    "try:\n",
    "    # aqui código que eu quero tentar mas que pode ter um erro\n",
    "    result = 10 + 10\n",
    "except:\n",
    "    print('Parece que você não está adicionando corretamente!')"
   ]
  },
  {
   "cell_type": "code",
   "execution_count": 14,
   "metadata": {},
   "outputs": [
    {
     "data": {
      "text/plain": [
       "20"
      ]
     },
     "execution_count": 14,
     "metadata": {},
     "output_type": "execute_result"
    }
   ],
   "source": [
    "result"
   ]
  },
  {
   "cell_type": "code",
   "execution_count": 83,
   "metadata": {},
   "outputs": [
    {
     "name": "stdout",
     "output_type": "stream",
     "text": [
      "Parece que você não está adicionando corretamente!\n"
     ]
    }
   ],
   "source": [
    "# Três elementos de uma exceção: try, except (ou except nome_do_erro) e finally (opcional)\n",
    "\n",
    "try:\n",
    "    # aqui código que eu quero tentar mas que pode ter um erro\n",
    "    # neste caso tem um erro\n",
    "    result2 = 10 + '10'\n",
    "except: # exceção geral\n",
    "    print('Parece que você não está adicionando corretamente!')\n",
    "else:\n",
    "    print(result2)"
   ]
  },
  {
   "cell_type": "code",
   "execution_count": 89,
   "metadata": {},
   "outputs": [
    {
     "name": "stdout",
     "output_type": "stream",
     "text": [
      "havia um erro de OSError\n",
      "eu executo independe de exceção ou não\n"
     ]
    }
   ],
   "source": [
    "# na documentação de python tem o nome das exceções e suas causas\n",
    "# mais um exemplo \n",
    "\n",
    "try:\n",
    "    f = open('testfile', 'r')\n",
    "    f.write('eu escrevo uma linha de teste.')\n",
    "except TypeError: # entra em uma exceção ou em outra. Nunca em mais de uma (só o finally sempre é executado)\n",
    "    print('havia um erro de tipo')\n",
    "except OSError:\n",
    "    print('havia um erro de OSError')\n",
    "finally: # execução independente de haver exceção ou não. Opcional\n",
    "    print('eu executo independe de exceção ou não')    "
   ]
  },
  {
   "cell_type": "code",
   "execution_count": 90,
   "metadata": {},
   "outputs": [
    {
     "name": "stdout",
     "output_type": "stream",
     "text": [
      "Todas as outras exceções\n",
      "eu executo independe de exceção ou não\n"
     ]
    }
   ],
   "source": [
    "# outro exemplo de tratamento de exceções em Python\n",
    "\n",
    "try:\n",
    "    f = open('testfile', 'r')\n",
    "    f.write('eu escrevo uma linha de teste.')\n",
    "except TypeError:\n",
    "    print('havia um erro de tipo')\n",
    "except:\n",
    "    print('Todas as outras exceções')\n",
    "finally: # execução independente de haver exceção ou não\n",
    "    print('eu executo independe de exceção ou não')    "
   ]
  },
  {
   "cell_type": "code",
   "execution_count": 15,
   "metadata": {},
   "outputs": [],
   "source": [
    "def inteiro():\n",
    "        try:\n",
    "            result = int(input(\"Informe um valor -> \"))\n",
    "        except:\n",
    "            print('Ops, isso não é um número.')\n",
    "        finally:\n",
    "            print('fim do bloco de try, except e finally.')"
   ]
  },
  {
   "cell_type": "code",
   "execution_count": 16,
   "metadata": {},
   "outputs": [
    {
     "name": "stdout",
     "output_type": "stream",
     "text": [
      "Informe um valor -> a\n",
      "Ops, isso não é um número.\n",
      "fim do bloco de try, except e finally.\n"
     ]
    }
   ],
   "source": [
    "inteiro()"
   ]
  },
  {
   "cell_type": "code",
   "execution_count": 1,
   "metadata": {},
   "outputs": [],
   "source": [
    "# agora como seria um campo onde o usuário deve fornecer uma opção válida\n",
    "\n",
    "def inteiro():\n",
    "    while True:\n",
    "        try:\n",
    "            result = int(input(\"Informe um valor -> \"))\n",
    "        except:\n",
    "            print('Ops, isso não é um número.')\n",
    "            continue\n",
    "        else:\n",
    "            print('Obrigado')\n",
    "            break # mesmo usando o break, o finally sempre é executado\n",
    "        finally:\n",
    "            print('fim do bloco de try, except e finally.')"
   ]
  },
  {
   "cell_type": "code",
   "execution_count": 2,
   "metadata": {},
   "outputs": [
    {
     "name": "stdout",
     "output_type": "stream",
     "text": [
      "Informe um valor -> 2\n",
      "Obrigado\n",
      "fim do bloco de try, except e finally.\n"
     ]
    }
   ],
   "source": [
    "inteiro()"
   ]
  },
  {
   "cell_type": "code",
   "execution_count": 4,
   "metadata": {},
   "outputs": [
    {
     "name": "stdout",
     "output_type": "stream",
     "text": [
      "Informe um valor -> a\n",
      "Ops, isso não é um número.\n",
      "fim do bloco de try, except e finally.\n",
      "Informe um valor -> a\n",
      "Ops, isso não é um número.\n",
      "fim do bloco de try, except e finally.\n",
      "Informe um valor -> a\n",
      "Ops, isso não é um número.\n",
      "fim do bloco de try, except e finally.\n",
      "Informe um valor -> 2\n",
      "Obrigado\n",
      "fim do bloco de try, except e finally.\n"
     ]
    }
   ],
   "source": [
    "inteiro()"
   ]
  },
  {
   "cell_type": "code",
   "execution_count": null,
   "metadata": {},
   "outputs": [],
   "source": []
  }
 ],
 "metadata": {
  "kernelspec": {
   "display_name": "Python 3",
   "language": "python",
   "name": "python3"
  },
  "language_info": {
   "codemirror_mode": {
    "name": "ipython",
    "version": 3
   },
   "file_extension": ".py",
   "mimetype": "text/x-python",
   "name": "python",
   "nbconvert_exporter": "python",
   "pygments_lexer": "ipython3",
   "version": "3.7.1"
  }
 },
 "nbformat": 4,
 "nbformat_minor": 2
}
