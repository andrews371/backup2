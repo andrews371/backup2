{
 "cells": [
  {
   "cell_type": "code",
   "execution_count": 40,
   "metadata": {},
   "outputs": [],
   "source": [
    "nome = 'aqui é uma variável global' # global\n",
    "\n",
    "def func1():\n",
    "    nome = 'André' # enclosing\n",
    "    # print('Oi ' + nome) -> se tivesse esse codigo entao nao precisaria chamar a função func2 abaixo para executar\n",
    "    def func2(): # python permite não apenas chamar mas tbm declarar uma função dentro de outra\n",
    "        print('Oi ' + nome) \n",
    "        \n",
    "    func2() # como dito, já que o codigo do print, logo acima, está comentado, entao temos que chamar \n",
    "                # essa função para que haja print"
   ]
  },
  {
   "cell_type": "code",
   "execution_count": 37,
   "metadata": {},
   "outputs": [
    {
     "name": "stdout",
     "output_type": "stream",
     "text": [
      "Oi André\n"
     ]
    }
   ],
   "source": [
    "func1()"
   ]
  },
  {
   "cell_type": "code",
   "execution_count": 38,
   "metadata": {},
   "outputs": [],
   "source": [
    "nome = 'aqui é uma variável global'\n",
    "\n",
    "def func1():\n",
    "    # nome = 'André' agora vai executar a variavel global\n",
    "    # print('Oi ' + nome) -> se tivesse esse codigo entao nao precisaria chamar a função func2 abaixo para executar\n",
    "    def func2(): # python permite não apenas chamar mas tbm declarar uma função dentro de outra\n",
    "        print('Oi ' + nome)\n",
    "        \n",
    "    func2() # como dito, já que o codigo do print, logo acima, está comentado, entao temos que chamar \n",
    "                # essa função para que haja print"
   ]
  },
  {
   "cell_type": "code",
   "execution_count": 39,
   "metadata": {},
   "outputs": [
    {
     "name": "stdout",
     "output_type": "stream",
     "text": [
      "Oi aqui é uma variável global\n"
     ]
    }
   ],
   "source": [
    "func1()"
   ]
  },
  {
   "cell_type": "code",
   "execution_count": 41,
   "metadata": {},
   "outputs": [],
   "source": [
    "nome = 'aqui é uma variável global' # global\n",
    "\n",
    "def func1():\n",
    "    nome = 'André' # variável enclosing\n",
    "    # print('Oi ' + nome) -> se tivesse esse codigo entao nao precisaria chamar a função func2 abaixo para executar\n",
    "    def func2(): # python permite não apenas chamar mas tbm declarar uma função dentro de outra\n",
    "        nome = 'variavel local' # aqui é uma variável local\n",
    "        print('Oi ' + nome) \n",
    "        \n",
    "    func2() # como dito, já que o codigo do print, logo acima, está comentado, entao temos que chamar \n",
    "                # essa função para que haja print"
   ]
  },
  {
   "cell_type": "code",
   "execution_count": 42,
   "metadata": {},
   "outputs": [
    {
     "name": "stdout",
     "output_type": "stream",
     "text": [
      "Oi variavel local\n"
     ]
    }
   ],
   "source": [
    "func1()"
   ]
  },
  {
   "cell_type": "code",
   "execution_count": 55,
   "metadata": {},
   "outputs": [],
   "source": [
    "# lembrando que para alterar o valor de uma variavel global, umas das formas é usar \n",
    "# a palavra reservada \"global\" dentro da função \n",
    "# mas é aconselhado fazer de outra forma como vemos abaixo\n",
    "\n",
    "x = 10\n",
    "def var():\n",
    "    x = 20\n",
    "    return x"
   ]
  },
  {
   "cell_type": "code",
   "execution_count": 57,
   "metadata": {},
   "outputs": [
    {
     "data": {
      "text/plain": [
       "20"
      ]
     },
     "execution_count": 57,
     "metadata": {},
     "output_type": "execute_result"
    }
   ],
   "source": [
    "var()"
   ]
  },
  {
   "cell_type": "code",
   "execution_count": 58,
   "metadata": {},
   "outputs": [
    {
     "name": "stdout",
     "output_type": "stream",
     "text": [
      "10\n"
     ]
    }
   ],
   "source": [
    "print(x) # ainda nao mudamos a variavel global \"x\""
   ]
  },
  {
   "cell_type": "code",
   "execution_count": 60,
   "metadata": {},
   "outputs": [],
   "source": [
    "x = var() # agora mudamos a variavel global de uma forma mais segura do que fazer dentro da função"
   ]
  },
  {
   "cell_type": "code",
   "execution_count": 63,
   "metadata": {},
   "outputs": [
    {
     "name": "stdout",
     "output_type": "stream",
     "text": [
      "20\n"
     ]
    }
   ],
   "source": [
    "print(x) # agora x assume um novo valor"
   ]
  },
  {
   "cell_type": "code",
   "execution_count": null,
   "metadata": {},
   "outputs": [],
   "source": []
  },
  {
   "cell_type": "code",
   "execution_count": null,
   "metadata": {},
   "outputs": [],
   "source": []
  }
 ],
 "metadata": {
  "kernelspec": {
   "display_name": "Python 3",
   "language": "python",
   "name": "python3"
  },
  "language_info": {
   "codemirror_mode": {
    "name": "ipython",
    "version": 3
   },
   "file_extension": ".py",
   "mimetype": "text/x-python",
   "name": "python",
   "nbconvert_exporter": "python",
   "pygments_lexer": "ipython3",
   "version": "3.7.1"
  },
  "varInspector": {
   "cols": {
    "lenName": 16,
    "lenType": 16,
    "lenVar": 40
   },
   "kernels_config": {
    "python": {
     "delete_cmd_postfix": "",
     "delete_cmd_prefix": "del ",
     "library": "var_list.py",
     "varRefreshCmd": "print(var_dic_list())"
    },
    "r": {
     "delete_cmd_postfix": ") ",
     "delete_cmd_prefix": "rm(",
     "library": "var_list.r",
     "varRefreshCmd": "cat(var_dic_list()) "
    }
   },
   "types_to_exclude": [
    "module",
    "function",
    "builtin_function_or_method",
    "instance",
    "_Feature"
   ],
   "window_display": false
  }
 },
 "nbformat": 4,
 "nbformat_minor": 2
}
